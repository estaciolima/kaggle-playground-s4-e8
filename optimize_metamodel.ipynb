{
 "cells": [
  {
   "cell_type": "code",
   "execution_count": 43,
   "metadata": {},
   "outputs": [],
   "source": [
    "import pandas as pd\n",
    "import numpy as np\n",
    "from sklearn.linear_model import LogisticRegression\n",
    "from sklearn.model_selection import KFold\n",
    "from sklearn.metrics import matthews_corrcoef\n",
    "import matplotlib.pyplot as plt"
   ]
  },
  {
   "cell_type": "code",
   "execution_count": 2,
   "metadata": {},
   "outputs": [],
   "source": [
    "df = pd.read_csv('datasets/stacking_dataset.csv')"
   ]
  },
  {
   "cell_type": "code",
   "execution_count": 5,
   "metadata": {},
   "outputs": [],
   "source": [
    "y = df.pop('class')"
   ]
  },
  {
   "cell_type": "code",
   "execution_count": 31,
   "metadata": {},
   "outputs": [
    {
     "name": "stdout",
     "output_type": "stream",
     "text": [
      "Fold 0\n",
      "Fold 1\n",
      "Fold 2\n",
      "Fold 3\n",
      "Fold 4\n"
     ]
    }
   ],
   "source": [
    "lr = LogisticRegression()\n",
    "kf = KFold(n_splits=5)\n",
    "y_proba = []\n",
    "y_true = []\n",
    "\n",
    "for i, (train_index, val_index) in enumerate(kf.split(df)):\n",
    "    print(f'Fold {i}')\n",
    "    X_train = df.loc[train_index]\n",
    "    y_train = y.loc[train_index]\n",
    "    X_test = df.loc[val_index]\n",
    "    y_test = y.loc[val_index]\n",
    "    y_proba.extend(lr.fit(X_train, y_train).predict_proba(X_test)[:,1])\n",
    "    y_true.extend(y_test)"
   ]
  },
  {
   "cell_type": "code",
   "execution_count": 52,
   "metadata": {},
   "outputs": [
    {
     "name": "stdout",
     "output_type": "stream",
     "text": [
      "loop i: 0\n",
      "loop i: 1\n",
      "loop i: 2\n",
      "loop i: 3\n",
      "loop i: 4\n",
      "loop i: 5\n",
      "loop i: 6\n",
      "loop i: 7\n",
      "loop i: 8\n",
      "loop i: 9\n",
      "loop i: 10\n",
      "loop i: 11\n",
      "loop i: 12\n",
      "loop i: 13\n",
      "loop i: 14\n",
      "loop i: 15\n",
      "loop i: 16\n",
      "loop i: 17\n",
      "loop i: 18\n",
      "loop i: 19\n",
      "loop i: 20\n",
      "loop i: 21\n",
      "loop i: 22\n",
      "loop i: 23\n",
      "loop i: 24\n",
      "loop i: 25\n",
      "loop i: 26\n",
      "loop i: 27\n",
      "loop i: 28\n",
      "loop i: 29\n",
      "loop i: 30\n",
      "loop i: 31\n",
      "loop i: 32\n",
      "loop i: 33\n",
      "loop i: 34\n",
      "loop i: 35\n",
      "loop i: 36\n",
      "loop i: 37\n",
      "loop i: 38\n",
      "loop i: 39\n",
      "loop i: 40\n",
      "loop i: 41\n",
      "loop i: 42\n",
      "loop i: 43\n",
      "loop i: 44\n",
      "loop i: 45\n",
      "loop i: 46\n",
      "loop i: 47\n",
      "loop i: 48\n",
      "loop i: 49\n",
      "loop i: 50\n",
      "loop i: 51\n",
      "loop i: 52\n",
      "loop i: 53\n",
      "loop i: 54\n",
      "loop i: 55\n",
      "loop i: 56\n",
      "loop i: 57\n",
      "loop i: 58\n",
      "loop i: 59\n",
      "loop i: 60\n",
      "loop i: 61\n",
      "loop i: 62\n",
      "loop i: 63\n",
      "loop i: 64\n",
      "loop i: 65\n",
      "loop i: 66\n",
      "loop i: 67\n",
      "loop i: 68\n",
      "loop i: 69\n",
      "loop i: 70\n",
      "loop i: 71\n",
      "loop i: 72\n",
      "loop i: 73\n",
      "loop i: 74\n",
      "loop i: 75\n",
      "loop i: 76\n",
      "loop i: 77\n",
      "loop i: 78\n",
      "loop i: 79\n",
      "loop i: 80\n",
      "loop i: 81\n",
      "loop i: 82\n",
      "loop i: 83\n",
      "loop i: 84\n",
      "loop i: 85\n",
      "loop i: 86\n",
      "loop i: 87\n",
      "loop i: 88\n",
      "loop i: 89\n",
      "loop i: 90\n",
      "loop i: 91\n",
      "loop i: 92\n",
      "loop i: 93\n",
      "loop i: 94\n",
      "loop i: 95\n",
      "loop i: 96\n",
      "loop i: 97\n",
      "loop i: 98\n",
      "loop i: 99\n",
      "best_param: 0.5560000000000004\n",
      "best mcc: 0.9846056356726614\n"
     ]
    }
   ],
   "source": [
    "size_loop = 100\n",
    "step = (0.9-0.1)/size_loop\n",
    "best_mcc = -1\n",
    "best_param = -1\n",
    "thresholds = []\n",
    "scores = []\n",
    "decision_threshold = 0.1\n",
    "\n",
    "for i in range(size_loop):\n",
    "    print(f'loop i: {i}')\n",
    "    thresholds.append(decision_threshold)\n",
    "    y_pred = (np.array(y_proba) > decision_threshold).astype(int)\n",
    "    mcc = matthews_corrcoef(y_true, y_pred)\n",
    "    scores.append(mcc)\n",
    "    \n",
    "    if(mcc > best_mcc):\n",
    "        best_mcc = mcc\n",
    "        best_param = decision_threshold\n",
    "    \n",
    "    decision_threshold+=step\n",
    "\n",
    "print(f'best_param: {best_param}')\n",
    "print(f'best mcc: {best_mcc}')"
   ]
  },
  {
   "cell_type": "code",
   "execution_count": 54,
   "metadata": {},
   "outputs": [
    {
     "data": {
      "text/plain": [
       "[<matplotlib.lines.Line2D at 0x7f57cb489f90>]"
      ]
     },
     "execution_count": 54,
     "metadata": {},
     "output_type": "execute_result"
    },
    {
     "data": {
      "image/png": "[encoded data removed]",
      "text/plain": [
       "<Figure size 640x480 with 1 Axes>"
      ]
     },
     "metadata": {},
     "output_type": "display_data"
    }
   ],
   "source": [
    "plt.plot(thresholds, scores)"
   ]
  }
 ],
 "metadata": {
  "kernelspec": {
   "display_name": "Python 3",
   "language": "python",
   "name": "python3"
  },
  "language_info": {
   "codemirror_mode": {
    "name": "ipython",
    "version": 3
   },
   "file_extension": ".py",
   "mimetype": "text/x-python",
   "name": "python",
   "nbconvert_exporter": "python",
   "pygments_lexer": "ipython3",
   "version": "3.10.12"
  }
 },
 "nbformat": 4,
 "nbformat_minor": 2
}
