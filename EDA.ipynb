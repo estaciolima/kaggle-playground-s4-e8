{
 "cells": [
  {
   "cell_type": "code",
   "execution_count": 24,
   "metadata": {},
   "outputs": [],
   "source": [
    "import pandas as pd\n",
    "import numpy as np\n",
    "import matplotlib.pyplot as plt\n",
    "import seaborn as sns\n",
    "from sklearn.model_selection import train_test_split, KFold\n",
    "from sklearn.metrics import matthews_corrcoef\n",
    "import optuna"
   ]
  },
  {
   "cell_type": "code",
   "execution_count": 2,
   "metadata": {},
   "outputs": [],
   "source": [
    "df = pd.read_csv('datasets/train.csv', index_col='id', nrows=500000)"
   ]
  },
  {
   "cell_type": "code",
   "execution_count": 3,
   "metadata": {},
   "outputs": [
    {
     "data": {
      "text/html": [
       "<div>\n",
       "<style scoped>\n",
       "    .dataframe tbody tr th:only-of-type {\n",
       "        vertical-align: middle;\n",
       "    }\n",
       "\n",
       "    .dataframe tbody tr th {\n",
       "        vertical-align: top;\n",
       "    }\n",
       "\n",
       "    .dataframe thead th {\n",
       "        text-align: right;\n",
       "    }\n",
       "</style>\n",
       "<table border=\"1\" class=\"dataframe\">\n",
       "  <thead>\n",
       "    <tr style=\"text-align: right;\">\n",
       "      <th></th>\n",
       "      <th>cap-diameter</th>\n",
       "      <th>stem-height</th>\n",
       "      <th>stem-width</th>\n",
       "    </tr>\n",
       "  </thead>\n",
       "  <tbody>\n",
       "    <tr>\n",
       "      <th>count</th>\n",
       "      <td>500000.000000</td>\n",
       "      <td>500000.000000</td>\n",
       "      <td>500000.000000</td>\n",
       "    </tr>\n",
       "    <tr>\n",
       "      <th>mean</th>\n",
       "      <td>6.306940</td>\n",
       "      <td>6.349803</td>\n",
       "      <td>11.145688</td>\n",
       "    </tr>\n",
       "    <tr>\n",
       "      <th>std</th>\n",
       "      <td>4.655807</td>\n",
       "      <td>2.704382</td>\n",
       "      <td>8.093111</td>\n",
       "    </tr>\n",
       "    <tr>\n",
       "      <th>min</th>\n",
       "      <td>0.410000</td>\n",
       "      <td>0.000000</td>\n",
       "      <td>0.000000</td>\n",
       "    </tr>\n",
       "    <tr>\n",
       "      <th>25%</th>\n",
       "      <td>3.310000</td>\n",
       "      <td>4.670000</td>\n",
       "      <td>4.970000</td>\n",
       "    </tr>\n",
       "    <tr>\n",
       "      <th>50%</th>\n",
       "      <td>5.750000</td>\n",
       "      <td>5.880000</td>\n",
       "      <td>9.640000</td>\n",
       "    </tr>\n",
       "    <tr>\n",
       "      <th>75%</th>\n",
       "      <td>8.230000</td>\n",
       "      <td>7.410000</td>\n",
       "      <td>15.630000</td>\n",
       "    </tr>\n",
       "    <tr>\n",
       "      <th>max</th>\n",
       "      <td>80.670000</td>\n",
       "      <td>57.220000</td>\n",
       "      <td>102.480000</td>\n",
       "    </tr>\n",
       "  </tbody>\n",
       "</table>\n",
       "</div>"
      ],
      "text/plain": [
       "        cap-diameter    stem-height     stem-width\n",
       "count  500000.000000  500000.000000  500000.000000\n",
       "mean        6.306940       6.349803      11.145688\n",
       "std         4.655807       2.704382       8.093111\n",
       "min         0.410000       0.000000       0.000000\n",
       "25%         3.310000       4.670000       4.970000\n",
       "50%         5.750000       5.880000       9.640000\n",
       "75%         8.230000       7.410000      15.630000\n",
       "max        80.670000      57.220000     102.480000"
      ]
     },
     "execution_count": 3,
     "metadata": {},
     "output_type": "execute_result"
    }
   ],
   "source": [
    "df.describe()"
   ]
  },
  {
   "cell_type": "code",
   "execution_count": 4,
   "metadata": {},
   "outputs": [
    {
     "name": "stdout",
     "output_type": "stream",
     "text": [
      "<class 'pandas.core.frame.DataFrame'>\n",
      "Index: 500000 entries, 0 to 499999\n",
      "Data columns (total 21 columns):\n",
      " #   Column                Non-Null Count   Dtype  \n",
      "---  ------                --------------   -----  \n",
      " 0   class                 500000 non-null  object \n",
      " 1   cap-diameter          500000 non-null  float64\n",
      " 2   cap-shape             499990 non-null  object \n",
      " 3   cap-surface           392516 non-null  object \n",
      " 4   cap-color             499999 non-null  object \n",
      " 5   does-bruise-or-bleed  499999 non-null  object \n",
      " 6   gill-attachment       415889 non-null  object \n",
      " 7   gill-spacing          298885 non-null  object \n",
      " 8   gill-color            499994 non-null  object \n",
      " 9   stem-height           500000 non-null  float64\n",
      " 10  stem-width            500000 non-null  float64\n",
      " 11  stem-root             57545 non-null   object \n",
      " 12  stem-surface          182300 non-null  object \n",
      " 13  stem-color            499994 non-null  object \n",
      " 14  veil-type             25510 non-null   object \n",
      " 15  veil-color            59910 non-null   object \n",
      " 16  has-ring              499994 non-null  object \n",
      " 17  ring-type             479471 non-null  object \n",
      " 18  spore-print-color     42774 non-null   object \n",
      " 19  habitat               499992 non-null  object \n",
      " 20  season                500000 non-null  object \n",
      "dtypes: float64(3), object(18)\n",
      "memory usage: 83.9+ MB\n"
     ]
    }
   ],
   "source": [
    "df.info()"
   ]
  },
  {
   "cell_type": "code",
   "execution_count": 5,
   "metadata": {},
   "outputs": [],
   "source": [
    "df.drop_duplicates(inplace=True)"
   ]
  },
  {
   "cell_type": "code",
   "execution_count": 6,
   "metadata": {},
   "outputs": [
    {
     "data": {
      "text/plain": [
       "has-ring\n",
       "f    379936\n",
       "t    120040\n",
       "c         4\n",
       "h         3\n",
       "r         2\n",
       "g         2\n",
       "l         2\n",
       "p         2\n",
       "y         1\n",
       "e         1\n",
       "s         1\n",
       "Name: count, dtype: int64"
      ]
     },
     "execution_count": 6,
     "metadata": {},
     "output_type": "execute_result"
    }
   ],
   "source": [
    "df['has-ring'].value_counts()"
   ]
  },
  {
   "cell_type": "code",
   "execution_count": 7,
   "metadata": {},
   "outputs": [
    {
     "data": {
      "text/plain": [
       "(500000, 21)"
      ]
     },
     "execution_count": 7,
     "metadata": {},
     "output_type": "execute_result"
    }
   ],
   "source": [
    "df.shape"
   ]
  },
  {
   "cell_type": "code",
   "execution_count": 8,
   "metadata": {},
   "outputs": [],
   "source": [
    "X = df.drop('class', axis=1)\n",
    "y = df['class']"
   ]
  },
  {
   "cell_type": "code",
   "execution_count": 9,
   "metadata": {},
   "outputs": [],
   "source": [
    "y_counts = y.value_counts()"
   ]
  },
  {
   "cell_type": "code",
   "execution_count": 10,
   "metadata": {},
   "outputs": [
    {
     "data": {
      "text/plain": [
       "([<matplotlib.patches.Wedge at 0x7f7e395d0a30>,\n",
       "  <matplotlib.patches.Wedge at 0x7f7e395d0940>],\n",
       " [Text(-0.1639291704226337, 1.087716519633929, 'p'),\n",
       "  Text(0.16392906858326206, -1.087716534982081, 'e')],\n",
       " [Text(-0.08941591113961836, 0.5932999198003248, '54.76%'),\n",
       "  Text(0.08941585559087022, -0.593299928172044, '45.24%')])"
      ]
     },
     "execution_count": 10,
     "metadata": {},
     "output_type": "execute_result"
    },
    {
     "data": {
      "image/png": "[encoded data removed]",
      "text/plain": [
       "<Figure size 640x480 with 1 Axes>"
      ]
     },
     "metadata": {},
     "output_type": "display_data"
    }
   ],
   "source": [
    "plt.pie(y_counts, labels=y_counts.index, autopct=\"%.2f%%\")"
   ]
  },
  {
   "cell_type": "markdown",
   "metadata": {},
   "source": [
    "### Preprocessing"
   ]
  },
  {
   "cell_type": "code",
   "execution_count": 11,
   "metadata": {},
   "outputs": [],
   "source": [
    "from sklearn.preprocessing import StandardScaler, OneHotEncoder\n",
    "from sklearn.compose import ColumnTransformer"
   ]
  },
  {
   "cell_type": "code",
   "execution_count": 12,
   "metadata": {},
   "outputs": [],
   "source": [
    "num_var = X.select_dtypes(['float64']).columns.to_list()\n",
    "cat_var = X.select_dtypes(['object']).columns.to_list()\n",
    "transformer = ColumnTransformer([('num', StandardScaler(), num_var),\n",
    "                                 ('cat', OneHotEncoder(drop='first'), cat_var)])"
   ]
  },
  {
   "cell_type": "code",
   "execution_count": 13,
   "metadata": {},
   "outputs": [
    {
     "data": {
      "text/plain": [
       "['cap-shape',\n",
       " 'cap-surface',\n",
       " 'cap-color',\n",
       " 'does-bruise-or-bleed',\n",
       " 'gill-attachment',\n",
       " 'gill-spacing',\n",
       " 'gill-color',\n",
       " 'stem-root',\n",
       " 'stem-surface',\n",
       " 'stem-color',\n",
       " 'veil-type',\n",
       " 'veil-color',\n",
       " 'has-ring',\n",
       " 'ring-type',\n",
       " 'spore-print-color',\n",
       " 'habitat',\n",
       " 'season']"
      ]
     },
     "execution_count": 13,
     "metadata": {},
     "output_type": "execute_result"
    }
   ],
   "source": [
    "cat_var"
   ]
  },
  {
   "cell_type": "code",
   "execution_count": 14,
   "metadata": {},
   "outputs": [],
   "source": [
    "X_trans = transformer.fit_transform(X)"
   ]
  },
  {
   "cell_type": "code",
   "execution_count": 15,
   "metadata": {},
   "outputs": [],
   "source": [
    "num_cols = transformer.named_transformers_['num'].get_feature_names_out().tolist()\n",
    "cat_cols = transformer.named_transformers_['cat'].get_feature_names_out().tolist()\n",
    "columns = num_cols + cat_cols"
   ]
  },
  {
   "cell_type": "code",
   "execution_count": 16,
   "metadata": {},
   "outputs": [
    {
     "data": {
      "text/plain": [
       "<500000x386 sparse matrix of type '<class 'numpy.float64'>'\n",
       "\twith 9752313 stored elements in Compressed Sparse Row format>"
      ]
     },
     "execution_count": 16,
     "metadata": {},
     "output_type": "execute_result"
    }
   ],
   "source": [
    "X_trans # X_trans is a sparse matrix"
   ]
  },
  {
   "cell_type": "code",
   "execution_count": 17,
   "metadata": {},
   "outputs": [
    {
     "data": {
      "text/html": [
       "<div>\n",
       "<style scoped>\n",
       "    .dataframe tbody tr th:only-of-type {\n",
       "        vertical-align: middle;\n",
       "    }\n",
       "\n",
       "    .dataframe tbody tr th {\n",
       "        vertical-align: top;\n",
       "    }\n",
       "\n",
       "    .dataframe thead th {\n",
       "        text-align: right;\n",
       "    }\n",
       "</style>\n",
       "<table border=\"1\" class=\"dataframe\">\n",
       "  <thead>\n",
       "    <tr style=\"text-align: right;\">\n",
       "      <th></th>\n",
       "      <th>cap-diameter</th>\n",
       "      <th>stem-height</th>\n",
       "      <th>stem-width</th>\n",
       "      <th>cap-shape_2.85</th>\n",
       "      <th>cap-shape_21.56</th>\n",
       "      <th>cap-shape_3.55</th>\n",
       "      <th>cap-shape_3.6</th>\n",
       "      <th>cap-shape_4.22</th>\n",
       "      <th>cap-shape_5 f</th>\n",
       "      <th>cap-shape_7 x</th>\n",
       "      <th>...</th>\n",
       "      <th>habitat_t</th>\n",
       "      <th>habitat_u</th>\n",
       "      <th>habitat_w</th>\n",
       "      <th>habitat_x</th>\n",
       "      <th>habitat_y</th>\n",
       "      <th>habitat_z</th>\n",
       "      <th>habitat_nan</th>\n",
       "      <th>season_s</th>\n",
       "      <th>season_u</th>\n",
       "      <th>season_w</th>\n",
       "    </tr>\n",
       "  </thead>\n",
       "  <tbody>\n",
       "    <tr>\n",
       "      <th>0</th>\n",
       "      <td>0.535474</td>\n",
       "      <td>-0.680305</td>\n",
       "      <td>0.524436</td>\n",
       "      <td>0</td>\n",
       "      <td>0</td>\n",
       "      <td>0</td>\n",
       "      <td>0</td>\n",
       "      <td>0</td>\n",
       "      <td>0</td>\n",
       "      <td>0</td>\n",
       "      <td>...</td>\n",
       "      <td>0</td>\n",
       "      <td>0</td>\n",
       "      <td>0</td>\n",
       "      <td>0</td>\n",
       "      <td>0</td>\n",
       "      <td>0</td>\n",
       "      <td>0</td>\n",
       "      <td>0</td>\n",
       "      <td>0</td>\n",
       "      <td>0</td>\n",
       "    </tr>\n",
       "    <tr>\n",
       "      <th>1</th>\n",
       "      <td>-0.385957</td>\n",
       "      <td>-0.576769</td>\n",
       "      <td>-0.576502</td>\n",
       "      <td>0</td>\n",
       "      <td>0</td>\n",
       "      <td>0</td>\n",
       "      <td>0</td>\n",
       "      <td>0</td>\n",
       "      <td>0</td>\n",
       "      <td>0</td>\n",
       "      <td>...</td>\n",
       "      <td>0</td>\n",
       "      <td>0</td>\n",
       "      <td>0</td>\n",
       "      <td>0</td>\n",
       "      <td>0</td>\n",
       "      <td>0</td>\n",
       "      <td>0</td>\n",
       "      <td>0</td>\n",
       "      <td>0</td>\n",
       "      <td>1.0</td>\n",
       "    </tr>\n",
       "    <tr>\n",
       "      <th>2</th>\n",
       "      <td>0.135972</td>\n",
       "      <td>0.184958</td>\n",
       "      <td>-0.150213</td>\n",
       "      <td>0</td>\n",
       "      <td>0</td>\n",
       "      <td>0</td>\n",
       "      <td>0</td>\n",
       "      <td>0</td>\n",
       "      <td>0</td>\n",
       "      <td>0</td>\n",
       "      <td>...</td>\n",
       "      <td>0</td>\n",
       "      <td>0</td>\n",
       "      <td>0</td>\n",
       "      <td>0</td>\n",
       "      <td>0</td>\n",
       "      <td>0</td>\n",
       "      <td>0</td>\n",
       "      <td>0</td>\n",
       "      <td>0</td>\n",
       "      <td>1.0</td>\n",
       "    </tr>\n",
       "    <tr>\n",
       "      <th>3</th>\n",
       "      <td>-0.521272</td>\n",
       "      <td>-0.809725</td>\n",
       "      <td>-0.570324</td>\n",
       "      <td>0</td>\n",
       "      <td>0</td>\n",
       "      <td>0</td>\n",
       "      <td>0</td>\n",
       "      <td>0</td>\n",
       "      <td>0</td>\n",
       "      <td>0</td>\n",
       "      <td>...</td>\n",
       "      <td>0</td>\n",
       "      <td>0</td>\n",
       "      <td>0</td>\n",
       "      <td>0</td>\n",
       "      <td>0</td>\n",
       "      <td>0</td>\n",
       "      <td>0</td>\n",
       "      <td>0</td>\n",
       "      <td>1.0</td>\n",
       "      <td>0</td>\n",
       "    </tr>\n",
       "    <tr>\n",
       "      <th>4</th>\n",
       "      <td>-0.098144</td>\n",
       "      <td>-1.101843</td>\n",
       "      <td>-0.344205</td>\n",
       "      <td>0</td>\n",
       "      <td>0</td>\n",
       "      <td>0</td>\n",
       "      <td>0</td>\n",
       "      <td>0</td>\n",
       "      <td>0</td>\n",
       "      <td>0</td>\n",
       "      <td>...</td>\n",
       "      <td>0</td>\n",
       "      <td>0</td>\n",
       "      <td>0</td>\n",
       "      <td>0</td>\n",
       "      <td>0</td>\n",
       "      <td>0</td>\n",
       "      <td>0</td>\n",
       "      <td>0</td>\n",
       "      <td>0</td>\n",
       "      <td>0</td>\n",
       "    </tr>\n",
       "  </tbody>\n",
       "</table>\n",
       "<p>5 rows × 386 columns</p>\n",
       "</div>"
      ],
      "text/plain": [
       "   cap-diameter  stem-height  stem-width  cap-shape_2.85  cap-shape_21.56  \\\n",
       "0      0.535474    -0.680305    0.524436               0                0   \n",
       "1     -0.385957    -0.576769   -0.576502               0                0   \n",
       "2      0.135972     0.184958   -0.150213               0                0   \n",
       "3     -0.521272    -0.809725   -0.570324               0                0   \n",
       "4     -0.098144    -1.101843   -0.344205               0                0   \n",
       "\n",
       "   cap-shape_3.55  cap-shape_3.6  cap-shape_4.22  cap-shape_5 f  \\\n",
       "0               0              0               0              0   \n",
       "1               0              0               0              0   \n",
       "2               0              0               0              0   \n",
       "3               0              0               0              0   \n",
       "4               0              0               0              0   \n",
       "\n",
       "   cap-shape_7 x  ...  habitat_t  habitat_u  habitat_w  habitat_x  habitat_y  \\\n",
       "0              0  ...          0          0          0          0          0   \n",
       "1              0  ...          0          0          0          0          0   \n",
       "2              0  ...          0          0          0          0          0   \n",
       "3              0  ...          0          0          0          0          0   \n",
       "4              0  ...          0          0          0          0          0   \n",
       "\n",
       "   habitat_z  habitat_nan  season_s  season_u  season_w  \n",
       "0          0            0         0         0         0  \n",
       "1          0            0         0         0       1.0  \n",
       "2          0            0         0         0       1.0  \n",
       "3          0            0         0       1.0         0  \n",
       "4          0            0         0         0         0  \n",
       "\n",
       "[5 rows x 386 columns]"
      ]
     },
     "execution_count": 17,
     "metadata": {},
     "output_type": "execute_result"
    }
   ],
   "source": [
    "X_trans = pd.DataFrame.sparse.from_spmatrix(X_trans, columns=columns)\n",
    "X_trans.head()"
   ]
  },
  {
   "cell_type": "code",
   "execution_count": 18,
   "metadata": {},
   "outputs": [],
   "source": [
    "y_trans = y.map({'p': 1, 'e': 0})"
   ]
  },
  {
   "cell_type": "markdown",
   "metadata": {},
   "source": [
    "### Feature Selection"
   ]
  },
  {
   "cell_type": "code",
   "execution_count": 19,
   "metadata": {},
   "outputs": [],
   "source": [
    "from sklearn.feature_selection import VarianceThreshold"
   ]
  },
  {
   "cell_type": "code",
   "execution_count": 35,
   "metadata": {},
   "outputs": [],
   "source": [
    "sel = VarianceThreshold(threshold=0.001)\n",
    "X_sel = sel.fit_transform(X_trans)"
   ]
  },
  {
   "cell_type": "code",
   "execution_count": 22,
   "metadata": {},
   "outputs": [
    {
     "name": "stdout",
     "output_type": "stream",
     "text": [
      "X_sel.shape: (500000, 124); X_trans.shape: (500000, 386)\n"
     ]
    }
   ],
   "source": [
    "print(f'X_sel.shape: {X_sel.shape}; X_trans.shape: {X_trans.shape}')"
   ]
  },
  {
   "cell_type": "code",
   "execution_count": 29,
   "metadata": {},
   "outputs": [],
   "source": [
    "#X_sel = pd.DataFrame.sparse.from_spmatrix(X_sel, columns=sel.get_feature_names_out())"
   ]
  },
  {
   "cell_type": "markdown",
   "metadata": {},
   "source": [
    "### XGBoost"
   ]
  },
  {
   "cell_type": "code",
   "execution_count": 28,
   "metadata": {},
   "outputs": [
    {
     "name": "stderr",
     "output_type": "stream",
     "text": [
      "/home/estaciolima/.local/lib/python3.10/site-packages/tqdm/auto.py:21: TqdmWarning: IProgress not found. Please update jupyter and ipywidgets. See https://ipywidgets.readthedocs.io/en/stable/user_install.html\n",
      "  from .autonotebook import tqdm as notebook_tqdm\n"
     ]
    }
   ],
   "source": [
    "import xgboost as xgb"
   ]
  },
  {
   "cell_type": "code",
   "execution_count": 27,
   "metadata": {},
   "outputs": [
    {
     "name": "stderr",
     "output_type": "stream",
     "text": [
      "[I 2024-08-06 14:06:23,140] A new study created in memory with name: no-name-1547e79e-9a0b-48e4-bd61-98bb57a145b6\n",
      "[I 2024-08-06 14:06:30,438] Trial 0 finished with value: 0.9829548029102037 and parameters: {'eta': 0.05981368107640856, 'max_depth': 15, 'lambda': 0.810015049904259, 'min_child_weight': 6.0482501692080355, 'subsample': 0.9043165273279566, 'colsample_bytree': 0.7191472403962718}. Best is trial 0 with value: 0.9829548029102037.\n",
      "[I 2024-08-06 14:06:34,451] Trial 1 finished with value: 0.9832553221097566 and parameters: {'eta': 0.2767596199650324, 'max_depth': 17, 'lambda': 0.2898530599920244, 'min_child_weight': 5.945046380278719, 'subsample': 0.8845353740305516, 'colsample_bytree': 0.914786588665642}. Best is trial 1 with value: 0.9832553221097566.\n",
      "[I 2024-08-06 14:06:38,875] Trial 2 finished with value: 0.9824445486343168 and parameters: {'eta': 0.33789736381500446, 'max_depth': 24, 'lambda': 0.6259958665101106, 'min_child_weight': 8.333642605028972, 'subsample': 0.8239746099769117, 'colsample_bytree': 0.903390787651453}. Best is trial 1 with value: 0.9832553221097566.\n",
      "[I 2024-08-06 14:06:49,241] Trial 3 finished with value: 0.9838989066043028 and parameters: {'eta': 0.08426267172949047, 'max_depth': 23, 'lambda': 0.2504295992650055, 'min_child_weight': 8.337620951760407, 'subsample': 0.9627568657985663, 'colsample_bytree': 0.7595150698940647}. Best is trial 3 with value: 0.9838989066043028.\n",
      "[I 2024-08-06 14:06:55,147] Trial 4 finished with value: 0.9824476149341711 and parameters: {'eta': 0.2887957104868046, 'max_depth': 29, 'lambda': 0.9009478321413201, 'min_child_weight': 1.8003918833453074, 'subsample': 0.8669937477698242, 'colsample_bytree': 0.9987053871431206}. Best is trial 3 with value: 0.9838989066043028.\n",
      "[I 2024-08-06 14:06:58,622] Trial 5 finished with value: 0.9833152462825676 and parameters: {'eta': 0.2152894212257484, 'max_depth': 15, 'lambda': 1.0116808164912239, 'min_child_weight': 4.3724222059568865, 'subsample': 0.8402890669859484, 'colsample_bytree': 0.8797785770006263}. Best is trial 3 with value: 0.9838989066043028.\n",
      "[I 2024-08-06 14:07:03,979] Trial 6 finished with value: 0.982425829450448 and parameters: {'eta': 0.3706626858077181, 'max_depth': 32, 'lambda': 0.6025089490261585, 'min_child_weight': 4.569973477979358, 'subsample': 0.918761832343598, 'colsample_bytree': 0.7515990953644377}. Best is trial 3 with value: 0.9838989066043028.\n",
      "[I 2024-08-06 14:07:08,780] Trial 7 finished with value: 0.9835949326358391 and parameters: {'eta': 0.14022833707010776, 'max_depth': 31, 'lambda': 1.836329985650977, 'min_child_weight': 6.611051912958168, 'subsample': 0.8612155057333525, 'colsample_bytree': 0.82256655733036}. Best is trial 3 with value: 0.9838989066043028.\n",
      "[I 2024-08-06 14:07:13,250] Trial 8 finished with value: 0.9826064400137346 and parameters: {'eta': 0.043504730979215867, 'max_depth': 29, 'lambda': 1.9145755367326638, 'min_child_weight': 9.111989468133162, 'subsample': 0.8566074367406162, 'colsample_bytree': 0.7898619162553806}. Best is trial 3 with value: 0.9838989066043028.\n",
      "[I 2024-08-06 14:07:19,060] Trial 9 finished with value: 0.9829511654947334 and parameters: {'eta': 0.053573581050792934, 'max_depth': 23, 'lambda': 0.1291979228489334, 'min_child_weight': 4.297686253517185, 'subsample': 0.8301188746334355, 'colsample_bytree': 0.9852452072708131}. Best is trial 3 with value: 0.9838989066043028.\n",
      "[I 2024-08-06 14:07:20,882] Trial 10 finished with value: 0.9774037793524891 and parameters: {'eta': 0.14178509562532096, 'max_depth': 7, 'lambda': 1.467396958784006, 'min_child_weight': 9.91747686096063, 'subsample': 0.9962193968964108, 'colsample_bytree': 0.7025223774075094}. Best is trial 3 with value: 0.9838989066043028.\n",
      "[I 2024-08-06 14:07:25,341] Trial 11 finished with value: 0.9835364646519146 and parameters: {'eta': 0.13607169012522327, 'max_depth': 24, 'lambda': 1.4010500192930084, 'min_child_weight': 7.342099456568391, 'subsample': 0.9547858323864564, 'colsample_bytree': 0.8160697141118337}. Best is trial 3 with value: 0.9838989066043028.\n",
      "[I 2024-08-06 14:07:29,463] Trial 12 finished with value: 0.9838381346668984 and parameters: {'eta': 0.1254632347420652, 'max_depth': 21, 'lambda': 1.8595492730521272, 'min_child_weight': 7.43681779666103, 'subsample': 0.9419487346620683, 'colsample_bytree': 0.8069043021138853}. Best is trial 3 with value: 0.9838989066043028.\n",
      "[I 2024-08-06 14:07:33,591] Trial 13 finished with value: 0.9836569005225821 and parameters: {'eta': 0.08674926689717621, 'max_depth': 20, 'lambda': 1.4700213811644067, 'min_child_weight': 7.870428691536025, 'subsample': 0.9558607315699402, 'colsample_bytree': 0.7655042616283382}. Best is trial 3 with value: 0.9838989066043028.\n",
      "[I 2024-08-06 14:07:39,710] Trial 14 finished with value: 0.9474979177981488 and parameters: {'eta': 0.012176058892303221, 'max_depth': 8, 'lambda': 1.2504107222396792, 'min_child_weight': 8.965785671839878, 'subsample': 0.9440441190503769, 'colsample_bytree': 0.8532185621362625}. Best is trial 3 with value: 0.9838989066043028.\n",
      "[I 2024-08-06 14:07:42,748] Trial 15 finished with value: 0.9835988171151401 and parameters: {'eta': 0.19822566758602755, 'max_depth': 12, 'lambda': 1.6834745907858106, 'min_child_weight': 7.192053875700244, 'subsample': 0.9965371177501686, 'colsample_bytree': 0.7474114298789223}. Best is trial 3 with value: 0.9838989066043028.\n",
      "[I 2024-08-06 14:07:46,947] Trial 16 finished with value: 0.9832738800354298 and parameters: {'eta': 0.11457213965828539, 'max_depth': 21, 'lambda': 0.5504675125273323, 'min_child_weight': 9.926708558889533, 'subsample': 0.9297219215395309, 'colsample_bytree': 0.810831554636338}. Best is trial 3 with value: 0.9838989066043028.\n",
      "[I 2024-08-06 14:07:52,601] Trial 17 finished with value: 0.98339684542396 and parameters: {'eta': 0.20345494274883574, 'max_depth': 26, 'lambda': 1.1952168890144874, 'min_child_weight': 1.066046911221548, 'subsample': 0.9700017093415764, 'colsample_bytree': 0.7799582654898574}. Best is trial 3 with value: 0.9838989066043028.\n",
      "[I 2024-08-06 14:07:56,664] Trial 18 finished with value: 0.9833739093274155 and parameters: {'eta': 0.1727641413432935, 'max_depth': 19, 'lambda': 1.6578503905048232, 'min_child_weight': 5.320738244202774, 'subsample': 0.8036573882619206, 'colsample_bytree': 0.8500304072681196}. Best is trial 3 with value: 0.9838989066043028.\n",
      "[I 2024-08-06 14:07:57,943] Trial 19 finished with value: 0.9230967408495712 and parameters: {'eta': 0.09809038846663716, 'max_depth': 4, 'lambda': 0.37816765820421316, 'min_child_weight': 8.316934921062618, 'subsample': 0.9248753809821826, 'colsample_bytree': 0.7349838287988361}. Best is trial 3 with value: 0.9838989066043028.\n",
      "[I 2024-08-06 14:08:02,365] Trial 20 finished with value: 0.9825292341749008 and parameters: {'eta': 0.26262124629249717, 'max_depth': 27, 'lambda': 0.7801456364772988, 'min_child_weight': 6.924245518038067, 'subsample': 0.9724429094288538, 'colsample_bytree': 0.9352143794037233}. Best is trial 3 with value: 0.9838989066043028.\n",
      "[I 2024-08-06 14:08:06,687] Trial 21 finished with value: 0.9836573806009202 and parameters: {'eta': 0.09360810066744707, 'max_depth': 21, 'lambda': 1.6263615695470397, 'min_child_weight': 7.884541417385375, 'subsample': 0.9666796163222018, 'colsample_bytree': 0.770485526913631}. Best is trial 3 with value: 0.9838989066043028.\n",
      "[I 2024-08-06 14:08:14,341] Trial 22 finished with value: 0.9834951459262218 and parameters: {'eta': 0.08856098486765429, 'max_depth': 22, 'lambda': 1.9759350676086673, 'min_child_weight': 8.923155002065664, 'subsample': 0.9773319673669612, 'colsample_bytree': 0.7923309843493564}. Best is trial 3 with value: 0.9838989066043028.\n",
      "[I 2024-08-06 14:08:18,407] Trial 23 finished with value: 0.9780822745045951 and parameters: {'eta': 0.01025133193350708, 'max_depth': 17, 'lambda': 1.661372559049144, 'min_child_weight': 7.91750346184637, 'subsample': 0.9431245217550402, 'colsample_bytree': 0.8312864401480006}. Best is trial 3 with value: 0.9838989066043028.\n",
      "[I 2024-08-06 14:08:22,696] Trial 24 finished with value: 0.9834745828362343 and parameters: {'eta': 0.15686589999014813, 'max_depth': 25, 'lambda': 1.7815235047286788, 'min_child_weight': 6.386322370736188, 'subsample': 0.981997661350752, 'colsample_bytree': 0.7638212099535636}. Best is trial 3 with value: 0.9838989066043028.\n",
      "[I 2024-08-06 14:08:27,240] Trial 25 finished with value: 0.983920128404301 and parameters: {'eta': 0.11298942422145, 'max_depth': 21, 'lambda': 1.166631729359571, 'min_child_weight': 3.4144791999596027, 'subsample': 0.9069089381115942, 'colsample_bytree': 0.7276897364081161}. Best is trial 25 with value: 0.983920128404301.\n",
      "[I 2024-08-06 14:08:30,684] Trial 26 finished with value: 0.9837575672860934 and parameters: {'eta': 0.17660423508005413, 'max_depth': 14, 'lambda': 1.18624727394593, 'min_child_weight': 2.438744905909765, 'subsample': 0.9022033235515826, 'colsample_bytree': 0.7264743174669888}. Best is trial 25 with value: 0.983920128404301.\n",
      "[I 2024-08-06 14:08:34,968] Trial 27 finished with value: 0.9835979318412174 and parameters: {'eta': 0.22880533681684445, 'max_depth': 18, 'lambda': 0.10452371375737302, 'min_child_weight': 3.7568659896297967, 'subsample': 0.8848386511652467, 'colsample_bytree': 0.702598890563818}. Best is trial 25 with value: 0.983920128404301.\n",
      "[I 2024-08-06 14:08:40,345] Trial 28 finished with value: 0.9836779714173576 and parameters: {'eta': 0.11090034278140182, 'max_depth': 28, 'lambda': 1.0216397929953116, 'min_child_weight': 3.0646596275628197, 'subsample': 0.9380656047273463, 'colsample_bytree': 0.8010464701652337}. Best is trial 25 with value: 0.983920128404301.\n",
      "[I 2024-08-06 14:08:44,261] Trial 29 finished with value: 0.982834538589261 and parameters: {'eta': 0.06603399756405974, 'max_depth': 15, 'lambda': 0.7396700049274212, 'min_child_weight': 5.49964720094181, 'subsample': 0.9073472170669384, 'colsample_bytree': 0.72936711077674}. Best is trial 25 with value: 0.983920128404301.\n",
      "[I 2024-08-06 14:08:47,457] Trial 30 finished with value: 0.9808208076639992 and parameters: {'eta': 0.0434773261870344, 'max_depth': 12, 'lambda': 1.3350128613357184, 'min_child_weight': 3.454876021331305, 'subsample': 0.9121159594397963, 'colsample_bytree': 0.750465946689754}. Best is trial 25 with value: 0.983920128404301.\n",
      "[I 2024-08-06 14:08:54,697] Trial 31 finished with value: 0.9834954591924875 and parameters: {'eta': 0.17299245762612034, 'max_depth': 15, 'lambda': 1.114992517730716, 'min_child_weight': 2.2558431292352, 'subsample': 0.8901258510873388, 'colsample_bytree': 0.7205452992732349}. Best is trial 25 with value: 0.983920128404301.\n",
      "[I 2024-08-06 14:08:57,745] Trial 32 finished with value: 0.9834157185498882 and parameters: {'eta': 0.1273670316212535, 'max_depth': 12, 'lambda': 0.8846129475050637, 'min_child_weight': 1.8311606445183974, 'subsample': 0.9075519838926063, 'colsample_bytree': 0.7372398156166092}. Best is trial 25 with value: 0.983920128404301.\n",
      "[I 2024-08-06 14:09:02,168] Trial 33 finished with value: 0.9835557644834931 and parameters: {'eta': 0.17477405669935858, 'max_depth': 19, 'lambda': 0.462703915681839, 'min_child_weight': 2.7546829225784726, 'subsample': 0.8949129770561397, 'colsample_bytree': 0.7135714538221567}. Best is trial 25 with value: 0.983920128404301.\n",
      "[I 2024-08-06 14:09:08,082] Trial 34 finished with value: 0.983920128404301 and parameters: {'eta': 0.06917807607232762, 'max_depth': 22, 'lambda': 0.24212010750271695, 'min_child_weight': 5.912997051509141, 'subsample': 0.8710195277059218, 'colsample_bytree': 0.779920394801211}. Best is trial 25 with value: 0.983920128404301.\n",
      "[I 2024-08-06 14:09:14,684] Trial 35 finished with value: 0.9837384278020509 and parameters: {'eta': 0.07863722156405362, 'max_depth': 23, 'lambda': 0.2043284249566793, 'min_child_weight': 5.9702532983845416, 'subsample': 0.8758397819710578, 'colsample_bytree': 0.8397284964760382}. Best is trial 25 with value: 0.983920128404301.\n",
      "[I 2024-08-06 14:09:21,607] Trial 36 finished with value: 0.9839604879021249 and parameters: {'eta': 0.06222195279445995, 'max_depth': 25, 'lambda': 0.35211507434284167, 'min_child_weight': 5.120976566818147, 'subsample': 0.8511045501183742, 'colsample_bytree': 0.779023296876329}. Best is trial 36 with value: 0.9839604879021249.\n",
      "[I 2024-08-06 14:09:27,677] Trial 37 finished with value: 0.9825073760322736 and parameters: {'eta': 0.027680627800853966, 'max_depth': 25, 'lambda': 0.3156380496509676, 'min_child_weight': 4.790433087579874, 'subsample': 0.8441180200704903, 'colsample_bytree': 0.8667960544894265}. Best is trial 36 with value: 0.9839604879021249.\n",
      "[I 2024-08-06 14:09:33,183] Trial 38 finished with value: 0.9839800992045398 and parameters: {'eta': 0.06473800889200883, 'max_depth': 27, 'lambda': 0.45263799888398615, 'min_child_weight': 5.017164073672921, 'subsample': 0.8733251677881478, 'colsample_bytree': 0.7794319452787444}. Best is trial 38 with value: 0.9839800992045398.\n",
      "[I 2024-08-06 14:09:38,702] Trial 39 finished with value: 0.9837175199202352 and parameters: {'eta': 0.05385532088322458, 'max_depth': 30, 'lambda': 0.4236840160644879, 'min_child_weight': 5.048835474756886, 'subsample': 0.872950782651494, 'colsample_bytree': 0.7750397872324901}. Best is trial 38 with value: 0.9839800992045398.\n",
      "[I 2024-08-06 14:09:43,890] Trial 40 finished with value: 0.9835572297365425 and parameters: {'eta': 0.06868788404672466, 'max_depth': 27, 'lambda': 0.6637069169511904, 'min_child_weight': 3.9710375713473187, 'subsample': 0.8533159365530405, 'colsample_bytree': 0.8833536461661933}. Best is trial 38 with value: 0.9839800992045398.\n",
      "[I 2024-08-06 14:09:49,420] Trial 41 finished with value: 0.9834157185498882 and parameters: {'eta': 0.04124099952458578, 'max_depth': 23, 'lambda': 0.2653863323659885, 'min_child_weight': 5.817416123537459, 'subsample': 0.8472784447717999, 'colsample_bytree': 0.7555321201633612}. Best is trial 38 with value: 0.9839800992045398.\n",
      "[I 2024-08-06 14:09:57,545] Trial 42 finished with value: 0.9825263327654109 and parameters: {'eta': 0.0284461570560212, 'max_depth': 25, 'lambda': 0.5197450748687016, 'min_child_weight': 6.408207047495421, 'subsample': 0.8304208093064821, 'colsample_bytree': 0.7879994889554163}. Best is trial 38 with value: 0.9839800992045398.\n",
      "[I 2024-08-06 14:10:02,484] Trial 43 finished with value: 0.9823054086768597 and parameters: {'eta': 0.3889271609948251, 'max_depth': 28, 'lambda': 0.19150433894902133, 'min_child_weight': 4.270242631544573, 'subsample': 0.8675121077201838, 'colsample_bytree': 0.742291066335854}. Best is trial 38 with value: 0.9839800992045398.\n",
      "[I 2024-08-06 14:10:07,761] Trial 44 finished with value: 0.9838194801918109 and parameters: {'eta': 0.10540135563816146, 'max_depth': 31, 'lambda': 0.3213968794136375, 'min_child_weight': 4.9011181382210305, 'subsample': 0.8167694138136004, 'colsample_bytree': 0.78224748469083}. Best is trial 38 with value: 0.9839800992045398.\n",
      "[I 2024-08-06 14:10:12,888] Trial 45 finished with value: 0.9839392670888073 and parameters: {'eta': 0.07203820377189048, 'max_depth': 24, 'lambda': 0.9214973993448448, 'min_child_weight': 3.4186711129657272, 'subsample': 0.8791017485667756, 'colsample_bytree': 0.7619514500727455}. Best is trial 38 with value: 0.9839800992045398.\n",
      "[I 2024-08-06 14:10:17,947] Trial 46 finished with value: 0.9838389193755255 and parameters: {'eta': 0.06995838050175786, 'max_depth': 24, 'lambda': 0.9363776992196522, 'min_child_weight': 3.297860082556417, 'subsample': 0.8591402847027734, 'colsample_bytree': 0.801359515480873}. Best is trial 38 with value: 0.9839800992045398.\n",
      "[I 2024-08-06 14:10:22,338] Trial 47 finished with value: 0.9824862896466438 and parameters: {'eta': 0.3191713746995654, 'max_depth': 22, 'lambda': 0.6536814343753674, 'min_child_weight': 3.9604942486572368, 'subsample': 0.8891431944764302, 'colsample_bytree': 0.8212748780057152}. Best is trial 38 with value: 0.9839800992045398.\n",
      "[I 2024-08-06 14:10:30,675] Trial 48 finished with value: 0.9828690149893285 and parameters: {'eta': 0.026324996613055075, 'max_depth': 26, 'lambda': 0.5002305496635999, 'min_child_weight': 5.131391721663172, 'subsample': 0.8770374272630744, 'colsample_bytree': 0.7624763636293372}. Best is trial 38 with value: 0.9839800992045398.\n",
      "[I 2024-08-06 14:10:36,271] Trial 49 finished with value: 0.9832526734157857 and parameters: {'eta': 0.05899585510817132, 'max_depth': 29, 'lambda': 0.39360232049518407, 'min_child_weight': 5.669710613554569, 'subsample': 0.8665687738842491, 'colsample_bytree': 0.938890659471236}. Best is trial 38 with value: 0.9839800992045398.\n",
      "[I 2024-08-06 14:10:40,477] Trial 50 finished with value: 0.984162786193662 and parameters: {'eta': 0.12110265332373442, 'max_depth': 20, 'lambda': 0.9237839725120169, 'min_child_weight': 4.391138346420399, 'subsample': 0.8803271644665565, 'colsample_bytree': 0.7170251021275498}. Best is trial 50 with value: 0.984162786193662.\n",
      "[I 2024-08-06 14:10:44,764] Trial 51 finished with value: 0.9841626176585138 and parameters: {'eta': 0.11812216391129028, 'max_depth': 20, 'lambda': 0.8562444921265502, 'min_child_weight': 4.333073308068472, 'subsample': 0.8792310980495669, 'colsample_bytree': 0.7118283207349324}. Best is trial 50 with value: 0.984162786193662.\n",
      "[I 2024-08-06 14:10:49,040] Trial 52 finished with value: 0.983778787375673 and parameters: {'eta': 0.15400605529188038, 'max_depth': 17, 'lambda': 0.8653648418848546, 'min_child_weight': 4.575027700005456, 'subsample': 0.8849871760588093, 'colsample_bytree': 0.7086203947510384}. Best is trial 50 with value: 0.984162786193662.\n",
      "[I 2024-08-06 14:10:55,478] Trial 53 finished with value: 0.9838392444636971 and parameters: {'eta': 0.1167196109235669, 'max_depth': 20, 'lambda': 1.064953776202023, 'min_child_weight': 3.5462156474857194, 'subsample': 0.8962024930926243, 'colsample_bytree': 0.7189837569965535}. Best is trial 50 with value: 0.984162786193662.\n",
      "[I 2024-08-06 14:11:00,921] Trial 54 finished with value: 0.9841811251007532 and parameters: {'eta': 0.14125997609617025, 'max_depth': 20, 'lambda': 0.9674532237426338, 'min_child_weight': 4.082841046413778, 'subsample': 0.8776652508409101, 'colsample_bytree': 0.7417850753962157}. Best is trial 54 with value: 0.9841811251007532.\n",
      "[I 2024-08-06 14:11:06,020] Trial 55 finished with value: 0.9839196392812535 and parameters: {'eta': 0.1449922850694005, 'max_depth': 19, 'lambda': 0.9606756882046688, 'min_child_weight': 4.278270804476334, 'subsample': 0.8526992798709216, 'colsample_bytree': 0.7422961648471775}. Best is trial 54 with value: 0.9841811251007532.\n",
      "[I 2024-08-06 14:11:12,226] Trial 56 finished with value: 0.9839398997397955 and parameters: {'eta': 0.08584039408843398, 'max_depth': 20, 'lambda': 0.7719835260574535, 'min_child_weight': 4.627120656423218, 'subsample': 0.8808954808423758, 'colsample_bytree': 0.7106512458649031}. Best is trial 54 with value: 0.9841811251007532.\n",
      "[I 2024-08-06 14:11:17,675] Trial 57 finished with value: 0.9836575438277207 and parameters: {'eta': 0.1289711081438998, 'max_depth': 16, 'lambda': 0.7647394036476427, 'min_child_weight': 4.660597322261307, 'subsample': 0.860349614079885, 'colsample_bytree': 0.701863951660537}. Best is trial 54 with value: 0.9841811251007532.\n",
      "[I 2024-08-06 14:11:29,050] Trial 58 finished with value: 0.9841428625899816 and parameters: {'eta': 0.08674540815353973, 'max_depth': 20, 'lambda': 0.5877094995484579, 'min_child_weight': 5.239065096352965, 'subsample': 0.8347777574256253, 'colsample_bytree': 0.712629541850069}. Best is trial 54 with value: 0.9841811251007532.\n",
      "[I 2024-08-06 14:11:35,721] Trial 59 finished with value: 0.9839598395464138 and parameters: {'eta': 0.09799339379389836, 'max_depth': 18, 'lambda': 0.5916310380423757, 'min_child_weight': 5.199977877286882, 'subsample': 0.8391687949585566, 'colsample_bytree': 0.7212052422304916}. Best is trial 54 with value: 0.9841811251007532.\n",
      "[I 2024-08-06 14:11:42,103] Trial 60 finished with value: 0.9830724111243927 and parameters: {'eta': 0.22311741224013848, 'max_depth': 32, 'lambda': 0.7111798577990732, 'min_child_weight': 3.9891126190016704, 'subsample': 0.837139625518685, 'colsample_bytree': 0.749305021852929}. Best is trial 54 with value: 0.9841811251007532.\n",
      "[I 2024-08-06 14:11:47,223] Trial 61 finished with value: 0.9837588572615868 and parameters: {'eta': 0.09612431767733587, 'max_depth': 18, 'lambda': 0.5863805987058861, 'min_child_weight': 5.29548234815686, 'subsample': 0.8350527077437905, 'colsample_bytree': 0.7211592614849245}. Best is trial 54 with value: 0.9841811251007532.\n",
      "[I 2024-08-06 14:11:51,240] Trial 62 finished with value: 0.9838802728899638 and parameters: {'eta': 0.10035288163900266, 'max_depth': 18, 'lambda': 0.8416838971012917, 'min_child_weight': 5.490930160810995, 'subsample': 0.8200425535276931, 'colsample_bytree': 0.731991151280838}. Best is trial 54 with value: 0.9841811251007532.\n",
      "[I 2024-08-06 14:11:55,477] Trial 63 finished with value: 0.9837384278020509 and parameters: {'eta': 0.15748596642508156, 'max_depth': 20, 'lambda': 0.615414778501022, 'min_child_weight': 4.293845268932808, 'subsample': 0.8438039451938302, 'colsample_bytree': 0.7111279864602865}. Best is trial 54 with value: 0.9841811251007532.\n",
      "[I 2024-08-06 14:11:59,083] Trial 64 finished with value: 0.9836178536183393 and parameters: {'eta': 0.13837919901367124, 'max_depth': 17, 'lambda': 0.5623831011873552, 'min_child_weight': 6.204025978541973, 'subsample': 0.8065290325799112, 'colsample_bytree': 0.7350540237576448}. Best is trial 54 with value: 0.9841811251007532.\n",
      "[I 2024-08-06 14:12:02,141] Trial 65 finished with value: 0.9839007096916308 and parameters: {'eta': 0.1899019421623232, 'max_depth': 13, 'lambda': 0.7045095049042296, 'min_child_weight': 5.1012654546539435, 'subsample': 0.8506635679862175, 'colsample_bytree': 0.723469288230856}. Best is trial 54 with value: 0.9841811251007532.\n",
      "[I 2024-08-06 14:12:08,026] Trial 66 finished with value: 0.9840217861408062 and parameters: {'eta': 0.1258106903379936, 'max_depth': 16, 'lambda': 0.9913152939592019, 'min_child_weight': 6.738766107548406, 'subsample': 0.8252613518176094, 'colsample_bytree': 0.7000281551676752}. Best is trial 54 with value: 0.9841811251007532.\n",
      "[I 2024-08-06 14:12:12,240] Trial 67 finished with value: 0.9840011808793214 and parameters: {'eta': 0.12126226204848355, 'max_depth': 16, 'lambda': 0.9888307755274188, 'min_child_weight': 6.949658336872445, 'subsample': 0.8100576054097354, 'colsample_bytree': 0.7040069382252041}. Best is trial 54 with value: 0.9841811251007532.\n",
      "[I 2024-08-06 14:12:15,434] Trial 68 finished with value: 0.9833356862621454 and parameters: {'eta': 0.12103973425801218, 'max_depth': 14, 'lambda': 0.9975270101122838, 'min_child_weight': 7.6273946237118055, 'subsample': 0.8099678944092109, 'colsample_bytree': 0.7041251970387523}. Best is trial 54 with value: 0.9841811251007532.\n",
      "[I 2024-08-06 14:12:18,873] Trial 69 finished with value: 0.9835363009699736 and parameters: {'eta': 0.14913867817040902, 'max_depth': 16, 'lambda': 1.0999697349807005, 'min_child_weight': 7.391117000071473, 'subsample': 0.811689659123321, 'colsample_bytree': 0.7139298013189114}. Best is trial 54 with value: 0.9841811251007532.\n",
      "[I 2024-08-06 14:12:22,372] Trial 70 finished with value: 0.9836572189744399 and parameters: {'eta': 0.1363378539015377, 'max_depth': 16, 'lambda': 0.8245665376468636, 'min_child_weight': 6.924939551586134, 'subsample': 0.8018687821428833, 'colsample_bytree': 0.7398500936184619}. Best is trial 54 with value: 0.9841811251007532.\n",
      "[I 2024-08-06 14:12:24,843] Trial 71 finished with value: 0.9809633911063672 and parameters: {'eta': 0.08566766118872954, 'max_depth': 10, 'lambda': 1.0642130018928249, 'min_child_weight': 6.484728534736034, 'subsample': 0.8288667328312039, 'colsample_bytree': 0.7053037487395865}. Best is trial 54 with value: 0.9841811251007532.\n",
      "[I 2024-08-06 14:12:28,694] Trial 72 finished with value: 0.9838596721923544 and parameters: {'eta': 0.11199237795973038, 'max_depth': 19, 'lambda': 0.9986016736220135, 'min_child_weight': 6.658808915428973, 'subsample': 0.8278379786942396, 'colsample_bytree': 0.7282250062198332}. Best is trial 54 with value: 0.9841811251007532.\n",
      "[I 2024-08-06 14:12:32,896] Trial 73 finished with value: 0.9840611410804081 and parameters: {'eta': 0.1277503142023545, 'max_depth': 22, 'lambda': 1.2610584948359673, 'min_child_weight': 5.609095235946648, 'subsample': 0.8167434980253753, 'colsample_bytree': 0.7146879420590857}. Best is trial 54 with value: 0.9841811251007532.\n",
      "[I 2024-08-06 14:12:37,157] Trial 74 finished with value: 0.9840601948379538 and parameters: {'eta': 0.12958795470333553, 'max_depth': 21, 'lambda': 1.2791946953992568, 'min_child_weight': 6.900715974224092, 'subsample': 0.817002164579108, 'colsample_bytree': 0.7158538228694565}. Best is trial 54 with value: 0.9841811251007532.\n",
      "[I 2024-08-06 14:12:44,220] Trial 75 finished with value: 0.9836176838391635 and parameters: {'eta': 0.1596792023658919, 'max_depth': 21, 'lambda': 1.277342633142771, 'min_child_weight': 7.062668683616185, 'subsample': 0.8204306362337964, 'colsample_bytree': 0.7166191393354711}. Best is trial 54 with value: 0.9841811251007532.\n",
      "[I 2024-08-06 14:12:48,405] Trial 76 finished with value: 0.9838593424540644 and parameters: {'eta': 0.1277854198336045, 'max_depth': 22, 'lambda': 1.243710436556924, 'min_child_weight': 6.7363057799886334, 'subsample': 0.8170353283952674, 'colsample_bytree': 0.7006107254663252}. Best is trial 54 with value: 0.9841811251007532.\n",
      "[I 2024-08-06 14:12:52,328] Trial 77 finished with value: 0.9830724111243927 and parameters: {'eta': 0.18808972094318305, 'max_depth': 20, 'lambda': 1.447515816272043, 'min_child_weight': 6.166829582471045, 'subsample': 0.824186335602382, 'colsample_bytree': 0.7122643567137135}. Best is trial 54 with value: 0.9841811251007532.\n",
      "[I 2024-08-06 14:12:56,087] Trial 78 finished with value: 0.9831926772120572 and parameters: {'eta': 0.24553234493843096, 'max_depth': 21, 'lambda': 1.3541154389417633, 'min_child_weight': 8.23411675218483, 'subsample': 0.8103101533614737, 'colsample_bytree': 0.7265791549009667}. Best is trial 54 with value: 0.9841811251007532.\n",
      "[I 2024-08-06 14:13:00,312] Trial 79 finished with value: 0.9839816005425067 and parameters: {'eta': 0.12479022494592308, 'max_depth': 23, 'lambda': 1.539317637101517, 'min_child_weight': 5.538105866729306, 'subsample': 0.8153575047683843, 'colsample_bytree': 0.7342396543014958}. Best is trial 54 with value: 0.9841811251007532.\n",
      "[I 2024-08-06 14:13:04,159] Trial 80 finished with value: 0.9838587021852006 and parameters: {'eta': 0.10923947208853847, 'max_depth': 19, 'lambda': 1.1438938354937835, 'min_child_weight': 7.544689779459772, 'subsample': 0.83236505964109, 'colsample_bytree': 0.7462290510387394}. Best is trial 54 with value: 0.9841811251007532.\n",
      "[I 2024-08-06 14:13:09,524] Trial 81 finished with value: 0.9834951459262218 and parameters: {'eta': 0.1681267248110725, 'max_depth': 22, 'lambda': 1.737740025528052, 'min_child_weight': 5.478456524793641, 'subsample': 0.8006639355855917, 'colsample_bytree': 0.7340764615061783}. Best is trial 54 with value: 0.9841811251007532.\n",
      "[I 2024-08-06 14:13:15,469] Trial 82 finished with value: 0.9840008473999488 and parameters: {'eta': 0.12061223579623051, 'max_depth': 23, 'lambda': 1.561398119988798, 'min_child_weight': 5.728810735034268, 'subsample': 0.8142304683166094, 'colsample_bytree': 0.7170850621642153}. Best is trial 54 with value: 0.9841811251007532.\n",
      "[I 2024-08-06 14:13:21,346] Trial 83 finished with value: 0.9837374646662845 and parameters: {'eta': 0.13598768985872833, 'max_depth': 21, 'lambda': 1.514599026443804, 'min_child_weight': 7.197642742683667, 'subsample': 0.8221890995523432, 'colsample_bytree': 0.7169099684758904}. Best is trial 54 with value: 0.9841811251007532.\n",
      "[I 2024-08-06 14:13:26,076] Trial 84 finished with value: 0.9840397868512256 and parameters: {'eta': 0.1469766598890507, 'max_depth': 19, 'lambda': 1.2263445678233587, 'min_child_weight': 6.287000699129974, 'subsample': 0.8082506730127994, 'colsample_bytree': 0.7001411872094949}. Best is trial 54 with value: 0.9841811251007532.\n",
      "[I 2024-08-06 14:13:30,805] Trial 85 finished with value: 0.9839402256701615 and parameters: {'eta': 0.16268026496419424, 'max_depth': 17, 'lambda': 1.2222212437562054, 'min_child_weight': 6.205482528618971, 'subsample': 0.8060457625354661, 'colsample_bytree': 0.7016118039238193}. Best is trial 54 with value: 0.9841811251007532.\n",
      "[I 2024-08-06 14:13:35,751] Trial 86 finished with value: 0.9838794409204267 and parameters: {'eta': 0.1448438235182418, 'max_depth': 19, 'lambda': 1.3063528501875596, 'min_child_weight': 6.809393371378672, 'subsample': 0.8252080832823863, 'colsample_bytree': 0.7091925396986225}. Best is trial 54 with value: 0.9841811251007532.\n",
      "[I 2024-08-06 14:13:41,397] Trial 87 finished with value: 0.9836786496252966 and parameters: {'eta': 0.18305844948105304, 'max_depth': 16, 'lambda': 1.4068426704499086, 'min_child_weight': 3.775351605171895, 'subsample': 0.9165598398761191, 'colsample_bytree': 0.7266402151514962}. Best is trial 54 with value: 0.9841811251007532.\n",
      "[I 2024-08-06 14:13:46,214] Trial 88 finished with value: 0.9835754102148299 and parameters: {'eta': 0.07833961339163818, 'max_depth': 20, 'lambda': 1.177218390526045, 'min_child_weight': 7.753665079987052, 'subsample': 0.8652010390346232, 'colsample_bytree': 0.7566770285534519}. Best is trial 54 with value: 0.9841811251007532.\n",
      "[I 2024-08-06 14:13:50,221] Trial 89 finished with value: 0.9838404326883502 and parameters: {'eta': 0.10371138416807194, 'max_depth': 15, 'lambda': 1.1112827596225414, 'min_child_weight': 5.969204141487117, 'subsample': 0.8071948222067523, 'colsample_bytree': 0.7107230749137943}. Best is trial 54 with value: 0.9841811251007532.\n",
      "[I 2024-08-06 14:13:55,068] Trial 90 finished with value: 0.9841232945958066 and parameters: {'eta': 0.14898906162822978, 'max_depth': 18, 'lambda': 0.9534762991442536, 'min_child_weight': 3.1241532438934247, 'subsample': 0.8987092182347902, 'colsample_bytree': 0.70135986826944}. Best is trial 54 with value: 0.9841811251007532.\n",
      "[I 2024-08-06 14:13:59,501] Trial 91 finished with value: 0.9838601788038178 and parameters: {'eta': 0.14927776524087197, 'max_depth': 18, 'lambda': 0.9448581895941707, 'min_child_weight': 2.960183342320259, 'subsample': 0.9011296169866356, 'colsample_bytree': 0.700491132970847}. Best is trial 54 with value: 0.9841811251007532.\n",
      "[I 2024-08-06 14:14:03,699] Trial 92 finished with value: 0.9839604879021249 and parameters: {'eta': 0.1329482231826405, 'max_depth': 17, 'lambda': 0.8795806235564648, 'min_child_weight': 6.422460051714426, 'subsample': 0.9262792390520259, 'colsample_bytree': 0.7222496375267138}. Best is trial 54 with value: 0.9841811251007532.\n",
      "[I 2024-08-06 14:14:07,806] Trial 93 finished with value: 0.9838796041131342 and parameters: {'eta': 0.11581706542942913, 'max_depth': 21, 'lambda': 0.9797051998307297, 'min_child_weight': 4.482821413819854, 'subsample': 0.8824966009380222, 'colsample_bytree': 0.7067765040839824}. Best is trial 54 with value: 0.9841811251007532.\n",
      "[I 2024-08-06 14:14:11,845] Trial 94 finished with value: 0.9836985718565062 and parameters: {'eta': 0.16681859028818416, 'max_depth': 18, 'lambda': 1.0680171763455162, 'min_child_weight': 2.5645735499006683, 'subsample': 0.8904801472227243, 'colsample_bytree': 0.7171919416290241}. Best is trial 54 with value: 0.9841811251007532.\n",
      "[I 2024-08-06 14:14:15,705] Trial 95 finished with value: 0.9838788041566549 and parameters: {'eta': 0.14300936234611628, 'max_depth': 20, 'lambda': 1.0366787700432019, 'min_child_weight': 4.840232237799423, 'subsample': 0.8956005909275992, 'colsample_bytree': 0.7410422320619996}. Best is trial 54 with value: 0.9841811251007532.\n",
      "[I 2024-08-06 14:14:19,155] Trial 96 finished with value: 0.982731209534454 and parameters: {'eta': 0.09272517095873099, 'max_depth': 14, 'lambda': 0.9120809546453957, 'min_child_weight': 1.9142328307412106, 'subsample': 0.8182358117606492, 'colsample_bytree': 0.9957343201881329}. Best is trial 54 with value: 0.9841811251007532.\n",
      "[I 2024-08-06 14:14:26,372] Trial 97 finished with value: 0.9836783073209366 and parameters: {'eta': 0.20063169833417221, 'max_depth': 19, 'lambda': 1.147249807492204, 'min_child_weight': 4.140891024914046, 'subsample': 0.832445235036607, 'colsample_bytree': 0.7082079660681184}. Best is trial 54 with value: 0.9841811251007532.\n",
      "[I 2024-08-06 14:14:30,662] Trial 98 finished with value: 0.984102332610043 and parameters: {'eta': 0.10732215551210848, 'max_depth': 17, 'lambda': 1.203233481142945, 'min_child_weight': 3.69083553403177, 'subsample': 0.8128554792444141, 'colsample_bytree': 0.7001390740455057}. Best is trial 54 with value: 0.9841811251007532.\n",
      "[I 2024-08-06 14:14:35,569] Trial 99 finished with value: 0.9834752000715974 and parameters: {'eta': 0.10769020673753821, 'max_depth': 22, 'lambda': 1.3546477933198964, 'min_child_weight': 3.6399155028847066, 'subsample': 0.825361262930234, 'colsample_bytree': 0.9162907528988602}. Best is trial 54 with value: 0.9841811251007532.\n"
     ]
    },
    {
     "data": {
      "text/plain": [
       "{'eta': 0.14125997609617025,\n",
       " 'max_depth': 20,\n",
       " 'lambda': 0.9674532237426338,\n",
       " 'min_child_weight': 4.082841046413778,\n",
       " 'subsample': 0.8776652508409101,\n",
       " 'colsample_bytree': 0.7417850753962157}"
      ]
     },
     "execution_count": 27,
     "metadata": {},
     "output_type": "execute_result"
    }
   ],
   "source": [
    "X_train, X_test, y_train, y_test = train_test_split(X_sel, y_trans, test_size=0.2, random_state=42)\n",
    "\n",
    "def objective(trial):\n",
    "    params = {\n",
    "        \"objective\": \"binary:logistic\",\n",
    "        \"booster\": \"gbtree\",\n",
    "        \"eta\": trial.suggest_float(\"eta\", 0.01, 0.4),\n",
    "        \"max_depth\": trial.suggest_int(\"max_depth\", 4, 32),\n",
    "        \"lambda\": trial.suggest_float(\"lambda\", 0.1, 2),\n",
    "        'min_child_weight': trial.suggest_float('min_child_weight', 1, 10),\n",
    "        'subsample': trial.suggest_float('subsample', 0.8, 1),\n",
    "        'colsample_bytree': trial.suggest_float('colsample_bytree', 0.7, 1)\n",
    "    }\n",
    "\n",
    "\n",
    "    model = xgb.XGBClassifier(**params)\n",
    "    model.fit(X_train, y_train)\n",
    "\n",
    "    y_pred = model.predict(X_test)\n",
    "    error = matthews_corrcoef(y_test, y_pred)\n",
    "    return error\n",
    "\n",
    "study = optuna.create_study(direction='maximize')\n",
    "study.optimize(objective, n_trials=100)  \n",
    "\n",
    "study.best_params"
   ]
  },
  {
   "cell_type": "code",
   "execution_count": 28,
   "metadata": {},
   "outputs": [
    {
     "data": {
      "text/plain": [
       "0.9841811251007532"
      ]
     },
     "execution_count": 28,
     "metadata": {},
     "output_type": "execute_result"
    }
   ],
   "source": [
    "study.best_value"
   ]
  },
  {
   "cell_type": "code",
   "execution_count": 29,
   "metadata": {},
   "outputs": [
    {
     "data": {
      "text/plain": [
       "dict"
      ]
     },
     "execution_count": 29,
     "metadata": {},
     "output_type": "execute_result"
    }
   ],
   "source": [
    "xgb_params = {'eta': 0.14125997609617025,\n",
    " 'max_depth': 20,\n",
    " 'lambda': 0.9674532237426338,\n",
    " 'min_child_weight': 4.082841046413778,\n",
    " 'subsample': 0.8776652508409101,\n",
    " 'colsample_bytree': 0.7417850753962157}"
   ]
  },
  {
   "cell_type": "markdown",
   "metadata": {},
   "source": [
    "### LightGBM"
   ]
  },
  {
   "cell_type": "code",
   "execution_count": 24,
   "metadata": {},
   "outputs": [],
   "source": [
    "import lightgbm as lgb"
   ]
  },
  {
   "cell_type": "code",
   "execution_count": 39,
   "metadata": {},
   "outputs": [
    {
     "name": "stderr",
     "output_type": "stream",
     "text": [
      "[I 2024-08-06 17:20:59,723] A new study created in memory with name: no-name-9ceb4714-9d13-4c8e-a63d-c56961d9c76c\n",
      "[I 2024-08-06 17:21:02,044] Trial 0 finished with value: 0.9830129925789962 and parameters: {'num_leaves': 59, 'learning_rate': 0.18885966422225564, 'feature_fraction': 0.9709096780166482, 'bagging_fraction': 0.8264771086289683, 'bagging_freq': 2, 'min_child_samples': 90}. Best is trial 0 with value: 0.9830129925789962.\n",
      "[I 2024-08-06 17:21:03,986] Trial 1 finished with value: 0.9823846809583773 and parameters: {'num_leaves': 125, 'learning_rate': 0.23356604221274813, 'feature_fraction': 0.8721366799438168, 'bagging_fraction': 0.539560543250033, 'bagging_freq': 5, 'min_child_samples': 100}. Best is trial 0 with value: 0.9830129925789962.\n",
      "[I 2024-08-06 17:21:05,570] Trial 2 finished with value: 0.9827098606317859 and parameters: {'num_leaves': 42, 'learning_rate': 0.24689831942672652, 'feature_fraction': 0.7690732570198016, 'bagging_fraction': 0.8039939453622327, 'bagging_freq': 7, 'min_child_samples': 72}. Best is trial 0 with value: 0.9830129925789962.\n",
      "[I 2024-08-06 17:21:07,608] Trial 3 finished with value: 0.9833355122236633 and parameters: {'num_leaves': 48, 'learning_rate': 0.15556538995192742, 'feature_fraction': 0.5497253563547208, 'bagging_fraction': 0.853750046612838, 'bagging_freq': 3, 'min_child_samples': 33}. Best is trial 3 with value: 0.9833355122236633.\n",
      "[I 2024-08-06 17:21:09,477] Trial 4 finished with value: 0.9830526540517508 and parameters: {'num_leaves': 67, 'learning_rate': 0.2139502657937911, 'feature_fraction': 0.5933073693618599, 'bagging_fraction': 0.7842624176237958, 'bagging_freq': 3, 'min_child_samples': 35}. Best is trial 3 with value: 0.9833355122236633.\n",
      "[I 2024-08-06 17:21:11,713] Trial 5 finished with value: 0.9813136842906603 and parameters: {'num_leaves': 97, 'learning_rate': 0.2502943807107326, 'feature_fraction': 0.9238568558472601, 'bagging_fraction': 0.9205101500087158, 'bagging_freq': 2, 'min_child_samples': 26}. Best is trial 3 with value: 0.9833355122236633.\n",
      "[I 2024-08-06 17:21:13,682] Trial 6 finished with value: 0.9759742191312464 and parameters: {'num_leaves': 105, 'learning_rate': 0.21829283831327426, 'feature_fraction': 0.5601916734450769, 'bagging_fraction': 0.5337016073898673, 'bagging_freq': 2, 'min_child_samples': 8}. Best is trial 3 with value: 0.9833355122236633.\n",
      "[I 2024-08-06 17:21:16,478] Trial 7 finished with value: 0.9829703014407466 and parameters: {'num_leaves': 139, 'learning_rate': 0.09016866979961796, 'feature_fraction': 0.7844579295789575, 'bagging_fraction': 0.9875824524784911, 'bagging_freq': 7, 'min_child_samples': 11}. Best is trial 3 with value: 0.9833355122236633.\n",
      "[I 2024-08-06 17:21:18,191] Trial 8 finished with value: 0.976375761336564 and parameters: {'num_leaves': 24, 'learning_rate': 0.12156002193403477, 'feature_fraction': 0.5945413059217122, 'bagging_fraction': 0.9307665230333958, 'bagging_freq': 5, 'min_child_samples': 82}. Best is trial 3 with value: 0.9833355122236633.\n",
      "[I 2024-08-06 17:21:20,040] Trial 9 finished with value: 0.9824652507802574 and parameters: {'num_leaves': 101, 'learning_rate': 0.29846120507015916, 'feature_fraction': 0.7530240130557211, 'bagging_fraction': 0.9564912778814672, 'bagging_freq': 5, 'min_child_samples': 65}. Best is trial 3 with value: 0.9833355122236633.\n",
      "[I 2024-08-06 17:21:21,241] Trial 10 finished with value: 0.9146191697976833 and parameters: {'num_leaves': 20, 'learning_rate': 0.020732131538351378, 'feature_fraction': 0.5028740816483872, 'bagging_fraction': 0.6705959008169322, 'bagging_freq': 1, 'min_child_samples': 45}. Best is trial 3 with value: 0.9833355122236633.\n",
      "[I 2024-08-06 17:21:23,152] Trial 11 finished with value: 0.9829916918255185 and parameters: {'num_leaves': 64, 'learning_rate': 0.15420092285840767, 'feature_fraction': 0.6596682933670669, 'bagging_fraction': 0.7190624628410409, 'bagging_freq': 3, 'min_child_samples': 40}. Best is trial 3 with value: 0.9833355122236633.\n",
      "[I 2024-08-06 17:21:25,258] Trial 12 finished with value: 0.9830516562391708 and parameters: {'num_leaves': 71, 'learning_rate': 0.16678315897273033, 'feature_fraction': 0.6855323349202973, 'bagging_fraction': 0.8409840847750149, 'bagging_freq': 4, 'min_child_samples': 31}. Best is trial 3 with value: 0.9833355122236633.\n",
      "[I 2024-08-06 17:21:27,239] Trial 13 finished with value: 0.9817628055952102 and parameters: {'num_leaves': 46, 'learning_rate': 0.09113280682084994, 'feature_fraction': 0.5025362574863446, 'bagging_fraction': 0.6590304235066935, 'bagging_freq': 3, 'min_child_samples': 60}. Best is trial 3 with value: 0.9833355122236633.\n",
      "[I 2024-08-06 17:21:28,966] Trial 14 finished with value: 0.9788361624742925 and parameters: {'num_leaves': 77, 'learning_rate': 0.2939947933011834, 'feature_fraction': 0.6276921290395586, 'bagging_fraction': 0.7744583087976235, 'bagging_freq': 4, 'min_child_samples': 22}. Best is trial 3 with value: 0.9833355122236633.\n",
      "[I 2024-08-06 17:21:30,831] Trial 15 finished with value: 0.9833172407086535 and parameters: {'num_leaves': 44, 'learning_rate': 0.19778579604817, 'feature_fraction': 0.5550021843424213, 'bagging_fraction': 0.8815223179295888, 'bagging_freq': 3, 'min_child_samples': 52}. Best is trial 3 with value: 0.9833355122236633.\n",
      "[I 2024-08-06 17:21:32,264] Trial 16 finished with value: 0.9824098866332307 and parameters: {'num_leaves': 41, 'learning_rate': 0.1295992472666553, 'feature_fraction': 0.6843494297622984, 'bagging_fraction': 0.8865244837322281, 'bagging_freq': 1, 'min_child_samples': 50}. Best is trial 3 with value: 0.9833355122236633.\n",
      "[I 2024-08-06 17:21:34,418] Trial 17 finished with value: 0.9796666869602375 and parameters: {'num_leaves': 52, 'learning_rate': 0.05596689033500532, 'feature_fraction': 0.5321978118202515, 'bagging_fraction': 0.8907512303812392, 'bagging_freq': 6, 'min_child_samples': 54}. Best is trial 3 with value: 0.9833355122236633.\n",
      "[I 2024-08-06 17:21:36,043] Trial 18 finished with value: 0.9816851286849151 and parameters: {'num_leaves': 31, 'learning_rate': 0.1810836066843469, 'feature_fraction': 0.5737037103663117, 'bagging_fraction': 0.7167199254034744, 'bagging_freq': 3, 'min_child_samples': 16}. Best is trial 3 with value: 0.9833355122236633.\n",
      "[I 2024-08-06 17:21:38,185] Trial 19 finished with value: 0.9829910353021858 and parameters: {'num_leaves': 82, 'learning_rate': 0.12849228009652436, 'feature_fraction': 0.8338501063409034, 'bagging_fraction': 0.8675887235613633, 'bagging_freq': 4, 'min_child_samples': 75}. Best is trial 3 with value: 0.9833355122236633.\n",
      "[I 2024-08-06 17:21:39,844] Trial 20 finished with value: 0.9820267990797815 and parameters: {'num_leaves': 34, 'learning_rate': 0.19136536479122862, 'feature_fraction': 0.7124050129385219, 'bagging_fraction': 0.6025322841599352, 'bagging_freq': 2, 'min_child_samples': 40}. Best is trial 3 with value: 0.9833355122236633.\n",
      "[I 2024-08-06 17:21:41,656] Trial 21 finished with value: 0.983195419115828 and parameters: {'num_leaves': 58, 'learning_rate': 0.21299548906947197, 'feature_fraction': 0.6132588226196581, 'bagging_fraction': 0.778064220335269, 'bagging_freq': 3, 'min_child_samples': 34}. Best is trial 3 with value: 0.9833355122236633.\n",
      "[I 2024-08-06 17:21:43,533] Trial 22 finished with value: 0.9830531745474027 and parameters: {'num_leaves': 54, 'learning_rate': 0.1571974212354355, 'feature_fraction': 0.6300768131868775, 'bagging_fraction': 0.73870903772232, 'bagging_freq': 3, 'min_child_samples': 23}. Best is trial 3 with value: 0.9833355122236633.\n",
      "[I 2024-08-06 17:21:45,241] Trial 23 finished with value: 0.9832944724922074 and parameters: {'num_leaves': 53, 'learning_rate': 0.26521130342479055, 'feature_fraction': 0.5435655002131707, 'bagging_fraction': 0.8578143113510891, 'bagging_freq': 4, 'min_child_samples': 52}. Best is trial 3 with value: 0.9833355122236633.\n",
      "[I 2024-08-06 17:21:47,113] Trial 24 finished with value: 0.9827879916544104 and parameters: {'num_leaves': 90, 'learning_rate': 0.26277531895606043, 'feature_fraction': 0.5386385321340575, 'bagging_fraction': 0.8522798110075794, 'bagging_freq': 4, 'min_child_samples': 56}. Best is trial 3 with value: 0.9833355122236633.\n",
      "[I 2024-08-06 17:21:48,753] Trial 25 finished with value: 0.9824890611694594 and parameters: {'num_leaves': 34, 'learning_rate': 0.28686427556261895, 'feature_fraction': 0.5531201636540783, 'bagging_fraction': 0.9869977387746058, 'bagging_freq': 5, 'min_child_samples': 47}. Best is trial 3 with value: 0.9833355122236633.\n",
      "[I 2024-08-06 17:21:50,477] Trial 26 finished with value: 0.9830514955347271 and parameters: {'num_leaves': 49, 'learning_rate': 0.26684190030992816, 'feature_fraction': 0.6596847980683904, 'bagging_fraction': 0.9118992116829775, 'bagging_freq': 6, 'min_child_samples': 62}. Best is trial 3 with value: 0.9833355122236633.\n",
      "[I 2024-08-06 17:21:52,803] Trial 27 finished with value: 0.9834368467928646 and parameters: {'num_leaves': 73, 'learning_rate': 0.10725788089771204, 'feature_fraction': 0.50197818400912, 'bagging_fraction': 0.8249503194368291, 'bagging_freq': 4, 'min_child_samples': 41}. Best is trial 27 with value: 0.9834368467928646.\n",
      "[I 2024-08-06 17:21:55,568] Trial 28 finished with value: 0.9837385939262272 and parameters: {'num_leaves': 115, 'learning_rate': 0.11157202910504177, 'feature_fraction': 0.5023389012438432, 'bagging_fraction': 0.946763089528995, 'bagging_freq': 2, 'min_child_samples': 40}. Best is trial 28 with value: 0.9837385939262272.\n",
      "[I 2024-08-06 17:21:57,426] Trial 29 finished with value: 0.9837985594226615 and parameters: {'num_leaves': 118, 'learning_rate': 0.09810415858989768, 'feature_fraction': 0.5161131831212962, 'bagging_fraction': 0.8202299584336644, 'bagging_freq': 1, 'min_child_samples': 40}. Best is trial 29 with value: 0.9837985594226615.\n",
      "[I 2024-08-06 17:21:59,379] Trial 30 finished with value: 0.9815369403835819 and parameters: {'num_leaves': 114, 'learning_rate': 0.07988079676886492, 'feature_fraction': 0.9982301417988377, 'bagging_fraction': 0.8070296023071415, 'bagging_freq': 1, 'min_child_samples': 42}. Best is trial 29 with value: 0.9837985594226615.\n",
      "[I 2024-08-06 17:22:02,205] Trial 31 finished with value: 0.9836358772050015 and parameters: {'num_leaves': 150, 'learning_rate': 0.1167680898025077, 'feature_fraction': 0.5082368167482099, 'bagging_fraction': 0.8326707651785694, 'bagging_freq': 2, 'min_child_samples': 28}. Best is trial 29 with value: 0.9837985594226615.\n",
      "[I 2024-08-06 17:22:04,154] Trial 32 finished with value: 0.9840008473999488 and parameters: {'num_leaves': 146, 'learning_rate': 0.10968560776185897, 'feature_fraction': 0.5087978812629232, 'bagging_fraction': 0.8152333195335346, 'bagging_freq': 1, 'min_child_samples': 28}. Best is trial 32 with value: 0.9840008473999488.\n",
      "[I 2024-08-06 17:22:06,252] Trial 33 finished with value: 0.9837995548031929 and parameters: {'num_leaves': 149, 'learning_rate': 0.05861972275569678, 'feature_fraction': 0.5162225981962382, 'bagging_fraction': 0.9516200070401744, 'bagging_freq': 1, 'min_child_samples': 16}. Best is trial 32 with value: 0.9840008473999488.\n",
      "[I 2024-08-06 17:22:08,226] Trial 34 finished with value: 0.9827296083751677 and parameters: {'num_leaves': 127, 'learning_rate': 0.044349588882134236, 'feature_fraction': 0.5809823288299708, 'bagging_fraction': 0.9545922233174657, 'bagging_freq': 1, 'min_child_samples': 21}. Best is trial 32 with value: 0.9840008473999488.\n",
      "[I 2024-08-06 17:22:10,246] Trial 35 finished with value: 0.9838990625177242 and parameters: {'num_leaves': 130, 'learning_rate': 0.06636246595600896, 'feature_fraction': 0.5295732702962654, 'bagging_fraction': 0.9577413552191868, 'bagging_freq': 1, 'min_child_samples': 18}. Best is trial 32 with value: 0.9840008473999488.\n",
      "[I 2024-08-06 17:22:12,240] Trial 36 finished with value: 0.9836765390684822 and parameters: {'num_leaves': 137, 'learning_rate': 0.06568525612996387, 'feature_fraction': 0.6035540928302282, 'bagging_fraction': 0.997253948838698, 'bagging_freq': 1, 'min_child_samples': 16}. Best is trial 32 with value: 0.9840008473999488.\n",
      "[I 2024-08-06 17:22:14,279] Trial 37 finished with value: 0.9822430364765474 and parameters: {'num_leaves': 150, 'learning_rate': 0.03137084232564068, 'feature_fraction': 0.5339091519726324, 'bagging_fraction': 0.9070433603877718, 'bagging_freq': 1, 'min_child_samples': 14}. Best is trial 32 with value: 0.9840008473999488.\n",
      "[I 2024-08-06 17:22:16,272] Trial 38 finished with value: 0.9748499530764895 and parameters: {'num_leaves': 139, 'learning_rate': 0.011305129692711496, 'feature_fraction': 0.802474885276367, 'bagging_fraction': 0.5744263796616231, 'bagging_freq': 1, 'min_child_samples': 5}. Best is trial 32 with value: 0.9840008473999488.\n",
      "[I 2024-08-06 17:22:19,117] Trial 39 finished with value: 0.9837789533482696 and parameters: {'num_leaves': 129, 'learning_rate': 0.06057103301458831, 'feature_fraction': 0.5742033219926674, 'bagging_fraction': 0.806301991244038, 'bagging_freq': 2, 'min_child_samples': 28}. Best is trial 32 with value: 0.9840008473999488.\n",
      "[I 2024-08-06 17:22:21,014] Trial 40 finished with value: 0.9840209448174058 and parameters: {'num_leaves': 119, 'learning_rate': 0.08589944532425867, 'feature_fraction': 0.5300461494807064, 'bagging_fraction': 0.9647973653383989, 'bagging_freq': 1, 'min_child_samples': 20}. Best is trial 40 with value: 0.9840209448174058.\n",
      "[I 2024-08-06 17:22:22,968] Trial 41 finished with value: 0.9839196392812535 and parameters: {'num_leaves': 118, 'learning_rate': 0.07712279213155443, 'feature_fraction': 0.5253414853879068, 'bagging_fraction': 0.9713496116025468, 'bagging_freq': 1, 'min_child_samples': 97}. Best is trial 40 with value: 0.9840209448174058.\n",
      "[I 2024-08-06 17:22:24,972] Trial 42 finished with value: 0.9829103147890692 and parameters: {'num_leaves': 143, 'learning_rate': 0.0757203771340618, 'feature_fraction': 0.8916625566343239, 'bagging_fraction': 0.9680225501847408, 'bagging_freq': 1, 'min_child_samples': 100}. Best is trial 40 with value: 0.9840209448174058.\n",
      "[I 2024-08-06 17:22:28,028] Trial 43 finished with value: 0.9840412068977727 and parameters: {'num_leaves': 131, 'learning_rate': 0.07976969212073202, 'feature_fraction': 0.5282661609162088, 'bagging_fraction': 0.9353522750749597, 'bagging_freq': 2, 'min_child_samples': 92}. Best is trial 43 with value: 0.9840412068977727.\n",
      "[I 2024-08-06 17:22:31,057] Trial 44 finished with value: 0.9820016425127414 and parameters: {'num_leaves': 132, 'learning_rate': 0.03861699853901902, 'feature_fraction': 0.5737786747464781, 'bagging_fraction': 0.9249777054329009, 'bagging_freq': 2, 'min_child_samples': 92}. Best is trial 43 with value: 0.9840412068977727.\n",
      "[I 2024-08-06 17:22:33,716] Trial 45 finished with value: 0.9838797689064771 and parameters: {'num_leaves': 121, 'learning_rate': 0.14158869618779216, 'feature_fraction': 0.5309248191599475, 'bagging_fraction': 0.9851247378011265, 'bagging_freq': 2, 'min_child_samples': 94}. Best is trial 43 with value: 0.9840412068977727.\n",
      "[I 2024-08-06 17:22:35,588] Trial 46 finished with value: 0.9837980833396434 and parameters: {'num_leaves': 107, 'learning_rate': 0.07868682839318243, 'feature_fraction': 0.5976594126255312, 'bagging_fraction': 0.5022997491280974, 'bagging_freq': 1, 'min_child_samples': 84}. Best is trial 43 with value: 0.9840412068977727.\n",
      "[I 2024-08-06 17:22:38,425] Trial 47 finished with value: 0.9836573806009202 and parameters: {'num_leaves': 110, 'learning_rate': 0.09652895729776385, 'feature_fraction': 0.633215477048641, 'bagging_fraction': 0.9340307483664175, 'bagging_freq': 2, 'min_child_samples': 95}. Best is trial 43 with value: 0.9840412068977727.\n",
      "[I 2024-08-06 17:22:41,576] Trial 48 finished with value: 0.9840011808793214 and parameters: {'num_leaves': 124, 'learning_rate': 0.08480284728798652, 'feature_fraction': 0.568311803796201, 'bagging_fraction': 0.9721954390198688, 'bagging_freq': 2, 'min_child_samples': 84}. Best is trial 43 with value: 0.9840412068977727.\n",
      "[I 2024-08-06 17:22:44,629] Trial 49 finished with value: 0.9839410685080225 and parameters: {'num_leaves': 123, 'learning_rate': 0.0863623292583366, 'feature_fraction': 0.5599484587172213, 'bagging_fraction': 0.972666897888813, 'bagging_freq': 2, 'min_child_samples': 86}. Best is trial 43 with value: 0.9840412068977727.\n",
      "[I 2024-08-06 17:22:47,116] Trial 50 finished with value: 0.9838796041131342 and parameters: {'num_leaves': 98, 'learning_rate': 0.14070281941383397, 'feature_fraction': 0.5625642315799747, 'bagging_fraction': 0.8993954333493769, 'bagging_freq': 2, 'min_child_samples': 88}. Best is trial 43 with value: 0.9840412068977727.\n",
      "[I 2024-08-06 17:22:50,217] Trial 51 finished with value: 0.9840603485423209 and parameters: {'num_leaves': 124, 'learning_rate': 0.08082089335344589, 'feature_fraction': 0.5538413626802992, 'bagging_fraction': 0.9740604698890266, 'bagging_freq': 2, 'min_child_samples': 76}. Best is trial 51 with value: 0.9840603485423209.\n",
      "[I 2024-08-06 17:22:53,030] Trial 52 finished with value: 0.9839403910364392 and parameters: {'num_leaves': 123, 'learning_rate': 0.10370734376058058, 'feature_fraction': 0.5565109929334539, 'bagging_fraction': 0.9339473738549293, 'bagging_freq': 2, 'min_child_samples': 77}. Best is trial 51 with value: 0.9840603485423209.\n",
      "[I 2024-08-06 17:22:56,066] Trial 53 finished with value: 0.9842015334518139 and parameters: {'num_leaves': 135, 'learning_rate': 0.08569553957045796, 'feature_fraction': 0.587636264370601, 'bagging_fraction': 0.9797259168944369, 'bagging_freq': 3, 'min_child_samples': 86}. Best is trial 53 with value: 0.9842015334518139.\n",
      "[I 2024-08-06 17:22:59,116] Trial 54 finished with value: 0.9826880920691664 and parameters: {'num_leaves': 136, 'learning_rate': 0.04236635442000228, 'feature_fraction': 0.5867054476308787, 'bagging_fraction': 0.9958885832765552, 'bagging_freq': 3, 'min_child_samples': 80}. Best is trial 53 with value: 0.9842015334518139.\n",
      "[I 2024-08-06 17:23:01,730] Trial 55 finished with value: 0.9836957661499032 and parameters: {'num_leaves': 141, 'learning_rate': 0.12714659953540083, 'feature_fraction': 0.6552838408311008, 'bagging_fraction': 0.939884852814592, 'bagging_freq': 3, 'min_child_samples': 69}. Best is trial 53 with value: 0.9842015334518139.\n",
      "[I 2024-08-06 17:23:04,742] Trial 56 finished with value: 0.9836360269040909 and parameters: {'num_leaves': 145, 'learning_rate': 0.08628107433214327, 'feature_fraction': 0.7223768977888146, 'bagging_fraction': 0.9174800856380851, 'bagging_freq': 2, 'min_child_samples': 70}. Best is trial 53 with value: 0.9842015334518139.\n",
      "[I 2024-08-06 17:23:07,766] Trial 57 finished with value: 0.9835355065627741 and parameters: {'num_leaves': 135, 'learning_rate': 0.06936132866557433, 'feature_fraction': 0.613182501889544, 'bagging_fraction': 0.8826232999429853, 'bagging_freq': 3, 'min_child_samples': 90}. Best is trial 53 with value: 0.9842015334518139.\n",
      "[I 2024-08-06 17:23:11,018] Trial 58 finished with value: 0.983192208691491 and parameters: {'num_leaves': 132, 'learning_rate': 0.052990310520839204, 'feature_fraction': 0.5438504467708023, 'bagging_fraction': 0.9733050213489332, 'bagging_freq': 2, 'min_child_samples': 80}. Best is trial 53 with value: 0.9842015334518139.\n",
      "[I 2024-08-06 17:23:14,043] Trial 59 finished with value: 0.9840798500667067 and parameters: {'num_leaves': 145, 'learning_rate': 0.09502244011117147, 'feature_fraction': 0.5929897004108742, 'bagging_fraction': 0.9984183839937639, 'bagging_freq': 3, 'min_child_samples': 85}. Best is trial 53 with value: 0.9842015334518139.\n",
      "[I 2024-08-06 17:23:16,821] Trial 60 finished with value: 0.9838799353004196 and parameters: {'num_leaves': 89, 'learning_rate': 0.09156968692896778, 'feature_fraction': 0.6462593445520058, 'bagging_fraction': 0.9822481260879359, 'bagging_freq': 3, 'min_child_samples': 76}. Best is trial 53 with value: 0.9842015334518139.\n",
      "[I 2024-08-06 17:23:19,685] Trial 61 finished with value: 0.9839800992045398 and parameters: {'num_leaves': 127, 'learning_rate': 0.10343705359366989, 'feature_fraction': 0.5952690295750297, 'bagging_fraction': 0.999479024999123, 'bagging_freq': 3, 'min_child_samples': 84}. Best is trial 53 with value: 0.9842015334518139.\n",
      "[I 2024-08-06 17:23:22,260] Trial 62 finished with value: 0.9838181856352937 and parameters: {'num_leaves': 145, 'learning_rate': 0.11718908603755776, 'feature_fraction': 0.6137874559735511, 'bagging_fraction': 0.6797185221233899, 'bagging_freq': 2, 'min_child_samples': 89}. Best is trial 53 with value: 0.9842015334518139.\n",
      "[I 2024-08-06 17:23:24,857] Trial 63 finished with value: 0.9840000417161433 and parameters: {'num_leaves': 134, 'learning_rate': 0.13907481123382917, 'feature_fraction': 0.5676130891813679, 'bagging_fraction': 0.9592131344395162, 'bagging_freq': 3, 'min_child_samples': 82}. Best is trial 53 with value: 0.9842015334518139.\n",
      "[I 2024-08-06 17:23:27,668] Trial 64 finished with value: 0.9839603234120083 and parameters: {'num_leaves': 141, 'learning_rate': 0.09565526086786019, 'feature_fraction': 0.5459221573441292, 'bagging_fraction': 0.9248940868331157, 'bagging_freq': 4, 'min_child_samples': 65}. Best is trial 53 with value: 0.9842015334518139.\n",
      "[I 2024-08-06 17:23:30,599] Trial 65 finished with value: 0.9838588598513638 and parameters: {'num_leaves': 112, 'learning_rate': 0.08307974249030077, 'feature_fraction': 0.5219431507223183, 'bagging_fraction': 0.8708929959862165, 'bagging_freq': 2, 'min_child_samples': 72}. Best is trial 53 with value: 0.9842015334518139.\n",
      "[I 2024-08-06 17:23:33,950] Trial 66 finished with value: 0.9832943063003021 and parameters: {'num_leaves': 146, 'learning_rate': 0.05054230315146364, 'feature_fraction': 0.68404358900484, 'bagging_fraction': 0.9794969488421723, 'bagging_freq': 2, 'min_child_samples': 10}. Best is trial 53 with value: 0.9842015334518139.\n",
      "[I 2024-08-06 17:23:36,710] Trial 67 finished with value: 0.9838788041566549 and parameters: {'num_leaves': 120, 'learning_rate': 0.1147414413725141, 'feature_fraction': 0.5785868030743715, 'bagging_fraction': 0.9419513713806047, 'bagging_freq': 3, 'min_child_samples': 87}. Best is trial 53 with value: 0.9842015334518139.\n",
      "[I 2024-08-06 17:23:39,841] Trial 68 finished with value: 0.984060660754412 and parameters: {'num_leaves': 127, 'learning_rate': 0.06938111079004201, 'feature_fraction': 0.5494887223128975, 'bagging_fraction': 0.9031594323907188, 'bagging_freq': 5, 'min_child_samples': 99}. Best is trial 53 with value: 0.9842015334518139.\n",
      "[I 2024-08-06 17:23:42,862] Trial 69 finished with value: 0.9806901646865692 and parameters: {'num_leaves': 126, 'learning_rate': 0.03097482938136701, 'feature_fraction': 0.6212386077959928, 'bagging_fraction': 0.906491989791647, 'bagging_freq': 5, 'min_child_samples': 98}. Best is trial 53 with value: 0.9842015334518139.\n",
      "[I 2024-08-06 17:23:45,842] Trial 70 finished with value: 0.9837379390319648 and parameters: {'num_leaves': 116, 'learning_rate': 0.07229625588746358, 'feature_fraction': 0.5938859887682887, 'bagging_fraction': 0.9624450090933746, 'bagging_freq': 5, 'min_child_samples': 92}. Best is trial 53 with value: 0.9842015334518139.\n",
      "[I 2024-08-06 17:23:48,467] Trial 71 finished with value: 0.9840396370737327 and parameters: {'num_leaves': 103, 'learning_rate': 0.10219303828582767, 'feature_fraction': 0.5498196788412058, 'bagging_fraction': 0.9441133555811587, 'bagging_freq': 6, 'min_child_samples': 92}. Best is trial 53 with value: 0.9842015334518139.\n",
      "[I 2024-08-06 17:23:51,146] Trial 72 finished with value: 0.9839799403931927 and parameters: {'num_leaves': 104, 'learning_rate': 0.09916894550916007, 'feature_fraction': 0.5510518299701447, 'bagging_fraction': 0.9412020173074223, 'bagging_freq': 6, 'min_child_samples': 92}. Best is trial 53 with value: 0.9842015334518139.\n",
      "[I 2024-08-06 17:23:53,977] Trial 73 finished with value: 0.9840608192620648 and parameters: {'num_leaves': 124, 'learning_rate': 0.08852462944430388, 'feature_fraction': 0.5423297691824981, 'bagging_fraction': 0.8969817901028034, 'bagging_freq': 6, 'min_child_samples': 96}. Best is trial 53 with value: 0.9842015334518139.\n",
      "[I 2024-08-06 17:23:56,861] Trial 74 finished with value: 0.983517214057138 and parameters: {'num_leaves': 107, 'learning_rate': 0.06401585715786606, 'feature_fraction': 0.5194266939377574, 'bagging_fraction': 0.9163067399361213, 'bagging_freq': 5, 'min_child_samples': 100}. Best is trial 53 with value: 0.9842015334518139.\n",
      "[I 2024-08-06 17:23:59,934] Trial 75 finished with value: 0.9839392670888073 and parameters: {'num_leaves': 130, 'learning_rate': 0.07214142227734562, 'feature_fraction': 0.5395284396329456, 'bagging_fraction': 0.9509469155075095, 'bagging_freq': 6, 'min_child_samples': 96}. Best is trial 53 with value: 0.9842015334518139.\n",
      "[I 2024-08-06 17:24:02,713] Trial 76 finished with value: 0.9823075434377236 and parameters: {'num_leaves': 93, 'learning_rate': 0.0487231440806744, 'feature_fraction': 0.551463622170969, 'bagging_fraction': 0.8921718087327721, 'bagging_freq': 7, 'min_child_samples': 91}. Best is trial 53 with value: 0.9842015334518139.\n",
      "[I 2024-08-06 17:24:05,087] Trial 77 finished with value: 0.9825857424959817 and parameters: {'num_leaves': 102, 'learning_rate': 0.12259759076684845, 'feature_fraction': 0.9340973511858892, 'bagging_fraction': 0.8674534396240475, 'bagging_freq': 6, 'min_child_samples': 94}. Best is trial 53 with value: 0.9842015334518139.\n",
      "[I 2024-08-06 17:24:08,032] Trial 78 finished with value: 0.9840412068977727 and parameters: {'num_leaves': 138, 'learning_rate': 0.09084175020331248, 'feature_fraction': 0.5358600733690712, 'bagging_fraction': 0.9989977016398849, 'bagging_freq': 7, 'min_child_samples': 98}. Best is trial 53 with value: 0.9842015334518139.\n",
      "[I 2024-08-06 17:24:10,956] Trial 79 finished with value: 0.9842018429989348 and parameters: {'num_leaves': 140, 'learning_rate': 0.09154835441455036, 'feature_fraction': 0.5806836555634359, 'bagging_fraction': 0.9884282473485232, 'bagging_freq': 7, 'min_child_samples': 98}. Best is trial 79 with value: 0.9842018429989348.\n",
      "[I 2024-08-06 17:24:14,095] Trial 80 finished with value: 0.9841205085807241 and parameters: {'num_leaves': 140, 'learning_rate': 0.09461516690292351, 'feature_fraction': 0.6040004162675431, 'bagging_fraction': 0.9997329574139551, 'bagging_freq': 7, 'min_child_samples': 98}. Best is trial 79 with value: 0.9842018429989348.\n",
      "[I 2024-08-06 17:24:17,255] Trial 81 finished with value: 0.9840201435152952 and parameters: {'num_leaves': 138, 'learning_rate': 0.09344677877164828, 'feature_fraction': 0.6389161981601842, 'bagging_fraction': 0.9888273680371138, 'bagging_freq': 7, 'min_child_samples': 97}. Best is trial 79 with value: 0.9842018429989348.\n",
      "[I 2024-08-06 17:24:20,490] Trial 82 finished with value: 0.9837784602318668 and parameters: {'num_leaves': 141, 'learning_rate': 0.05818325497813414, 'feature_fraction': 0.5857054201405371, 'bagging_fraction': 0.9957928683745556, 'bagging_freq': 7, 'min_child_samples': 100}. Best is trial 79 with value: 0.9842018429989348.\n",
      "[I 2024-08-06 17:24:23,272] Trial 83 finished with value: 0.9841614827423765 and parameters: {'num_leaves': 133, 'learning_rate': 0.10909467644080006, 'feature_fraction': 0.6130822488884363, 'bagging_fraction': 0.999453439049522, 'bagging_freq': 7, 'min_child_samples': 98}. Best is trial 79 with value: 0.9842018429989348.\n",
      "[I 2024-08-06 17:24:26,082] Trial 84 finished with value: 0.9839398997397955 and parameters: {'num_leaves': 132, 'learning_rate': 0.1079212894990557, 'feature_fraction': 0.6125781039196007, 'bagging_fraction': 0.9820736652679839, 'bagging_freq': 7, 'min_child_samples': 95}. Best is trial 79 with value: 0.9842018429989348.\n",
      "[I 2024-08-06 17:24:29,354] Trial 85 finished with value: 0.9841811251007532 and parameters: {'num_leaves': 134, 'learning_rate': 0.07728796257859026, 'feature_fraction': 0.6030254952725904, 'bagging_fraction': 0.9592338474100611, 'bagging_freq': 7, 'min_child_samples': 86}. Best is trial 79 with value: 0.9842018429989348.\n",
      "[I 2024-08-06 17:24:32,347] Trial 86 finished with value: 0.9838387592323806 and parameters: {'num_leaves': 134, 'learning_rate': 0.07214327561589388, 'feature_fraction': 0.6758393939888301, 'bagging_fraction': 0.7876496270911675, 'bagging_freq': 7, 'min_child_samples': 86}. Best is trial 79 with value: 0.9842018429989348.\n",
      "[I 2024-08-06 17:24:35,705] Trial 87 finished with value: 0.9837779815201532 and parameters: {'num_leaves': 148, 'learning_rate': 0.0610897600432302, 'feature_fraction': 0.601276305667826, 'bagging_fraction': 0.957963638641809, 'bagging_freq': 7, 'min_child_samples': 89}. Best is trial 79 with value: 0.9842018429989348.\n",
      "[I 2024-08-06 17:24:38,459] Trial 88 finished with value: 0.9839796275733118 and parameters: {'num_leaves': 128, 'learning_rate': 0.12086933926603809, 'feature_fraction': 0.6242758757773068, 'bagging_fraction': 0.9856879066223457, 'bagging_freq': 6, 'min_child_samples': 81}. Best is trial 79 with value: 0.9842018429989348.\n",
      "[I 2024-08-06 17:24:41,012] Trial 89 finished with value: 0.9834954591924875 and parameters: {'num_leaves': 143, 'learning_rate': 0.15051457792064513, 'feature_fraction': 0.705409065299289, 'bagging_fraction': 0.9700098664442784, 'bagging_freq': 7, 'min_child_samples': 94}. Best is trial 79 with value: 0.9842018429989348.\n",
      "[I 2024-08-06 17:24:43,737] Trial 90 finished with value: 0.9838989066043028 and parameters: {'num_leaves': 125, 'learning_rate': 0.10987083114198742, 'feature_fraction': 0.5828825086183871, 'bagging_fraction': 0.9862103478155703, 'bagging_freq': 7, 'min_child_samples': 78}. Best is trial 79 with value: 0.9842018429989348.\n",
      "[I 2024-08-06 17:24:46,679] Trial 91 finished with value: 0.9839794735648493 and parameters: {'num_leaves': 130, 'learning_rate': 0.07903042660088772, 'feature_fraction': 0.606006840312799, 'bagging_fraction': 0.9267816864939372, 'bagging_freq': 7, 'min_child_samples': 98}. Best is trial 79 with value: 0.9842018429989348.\n",
      "[I 2024-08-06 17:24:49,071] Trial 92 finished with value: 0.9839391129282969 and parameters: {'num_leaves': 136, 'learning_rate': 0.17804687818894768, 'feature_fraction': 0.566566302880077, 'bagging_fraction': 0.9518965462223449, 'bagging_freq': 6, 'min_child_samples': 86}. Best is trial 79 with value: 0.9842018429989348.\n",
      "[I 2024-08-06 17:24:52,141] Trial 93 finished with value: 0.983938960368752 and parameters: {'num_leaves': 140, 'learning_rate': 0.08731229352640449, 'feature_fraction': 0.6463131857472321, 'bagging_fraction': 0.9768359321795951, 'bagging_freq': 4, 'min_child_samples': 90}. Best is trial 79 with value: 0.9842018429989348.\n",
      "[I 2024-08-06 17:24:55,241] Trial 94 finished with value: 0.9839991277282149 and parameters: {'num_leaves': 132, 'learning_rate': 0.07743271278784117, 'feature_fraction': 0.585917163601041, 'bagging_fraction': 0.9619855105486672, 'bagging_freq': 7, 'min_child_samples': 94}. Best is trial 79 with value: 0.9842018429989348.\n",
      "[I 2024-08-06 17:24:58,272] Trial 95 finished with value: 0.9839190095281736 and parameters: {'num_leaves': 144, 'learning_rate': 0.06755629826692089, 'feature_fraction': 0.5629222443835443, 'bagging_fraction': 0.9325811690188603, 'bagging_freq': 7, 'min_child_samples': 83}. Best is trial 79 with value: 0.9842018429989348.\n",
      "[I 2024-08-06 17:25:00,977] Trial 96 finished with value: 0.9835958173389837 and parameters: {'num_leaves': 148, 'learning_rate': 0.09716644518208861, 'feature_fraction': 0.7582921299183917, 'bagging_fraction': 0.9009346314097084, 'bagging_freq': 7, 'min_child_samples': 99}. Best is trial 79 with value: 0.9842018429989348.\n",
      "[I 2024-08-06 17:25:03,882] Trial 97 finished with value: 0.9839992760567684 and parameters: {'num_leaves': 135, 'learning_rate': 0.08287009792406426, 'feature_fraction': 0.5769865200077265, 'bagging_fraction': 0.9894429367997648, 'bagging_freq': 6, 'min_child_samples': 96}. Best is trial 79 with value: 0.9842018429989348.\n",
      "[I 2024-08-06 17:25:06,328] Trial 98 finished with value: 0.9839398997397955 and parameters: {'num_leaves': 123, 'learning_rate': 0.10429162281854128, 'feature_fraction': 0.5117285148846732, 'bagging_fraction': 0.7497413462749536, 'bagging_freq': 4, 'min_child_samples': 88}. Best is trial 79 with value: 0.9842018429989348.\n",
      "[I 2024-08-06 17:25:08,820] Trial 99 finished with value: 0.9827881413530141 and parameters: {'num_leaves': 139, 'learning_rate': 0.13114684743730792, 'feature_fraction': 0.8138773133525867, 'bagging_fraction': 0.9657745268606216, 'bagging_freq': 5, 'min_child_samples': 74}. Best is trial 79 with value: 0.9842018429989348.\n"
     ]
    },
    {
     "data": {
      "text/plain": [
       "{'num_leaves': 140,\n",
       " 'learning_rate': 0.09154835441455036,\n",
       " 'feature_fraction': 0.5806836555634359,\n",
       " 'bagging_fraction': 0.9884282473485232,\n",
       " 'bagging_freq': 7,\n",
       " 'min_child_samples': 98}"
      ]
     },
     "execution_count": 39,
     "metadata": {},
     "output_type": "execute_result"
    }
   ],
   "source": [
    "X_train, X_test, y_train, y_test = train_test_split(X_sel, y_trans, test_size=0.2, random_state=42)\n",
    "\n",
    "def objective(trial):\n",
    "    # Hyperparameters to tune\n",
    "    params = {\n",
    "        'objective': 'binary',\n",
    "        'boosting_type': 'gbdt',\n",
    "        'num_leaves': trial.suggest_int('num_leaves', 20, 150),\n",
    "        'learning_rate': trial.suggest_float('learning_rate', 0.01, 0.3),\n",
    "        'feature_fraction': trial.suggest_float('feature_fraction', 0.5, 1.0),\n",
    "        'bagging_fraction': trial.suggest_float('bagging_fraction', 0.5, 1.0),\n",
    "        'bagging_freq': trial.suggest_int('bagging_freq', 1, 7),\n",
    "        'min_child_samples': trial.suggest_int('min_child_samples', 5, 100),\n",
    "        'verbose': -1\n",
    "    }\n",
    "\n",
    "    model = lgb.LGBMClassifier(**params)\n",
    "    model.fit(X_train, y_train)\n",
    "\n",
    "    y_pred = model.predict(X_test)\n",
    "    error = matthews_corrcoef(y_test, y_pred)\n",
    "    return error\n",
    "\n",
    "study = optuna.create_study(direction='maximize')\n",
    "study.optimize(objective, n_trials=100)  \n",
    "\n",
    "study.best_params"
   ]
  },
  {
   "cell_type": "code",
   "execution_count": 40,
   "metadata": {},
   "outputs": [
    {
     "data": {
      "text/plain": [
       "0.9842018429989348"
      ]
     },
     "execution_count": 40,
     "metadata": {},
     "output_type": "execute_result"
    }
   ],
   "source": [
    "study.best_value"
   ]
  },
  {
   "cell_type": "code",
   "execution_count": 41,
   "metadata": {},
   "outputs": [],
   "source": [
    "lgbm_params = {'num_leaves': 140,\n",
    " 'learning_rate': 0.09154835441455036,\n",
    " 'feature_fraction': 0.5806836555634359,\n",
    " 'bagging_fraction': 0.9884282473485232,\n",
    " 'bagging_freq': 7,\n",
    " 'min_child_samples': 98,\n",
    " 'verbose': -1}"
   ]
  },
  {
   "cell_type": "code",
   "execution_count": 32,
   "metadata": {},
   "outputs": [
    {
     "name": "stderr",
     "output_type": "stream",
     "text": [
      "[I 2024-08-07 17:20:17,066] A new study created in memory with name: no-name-083e7505-6e80-47d6-b249-d7dbc2cc10c1\n",
      "[I 2024-08-07 17:20:23,107] Trial 0 finished with value: 0.982569963793631 and parameters: {'num_leaves': 91, 'learning_rate': 0.32156679381138387, 'feature_fraction': 0.5384905648784845, 'bagging_fraction': 0.8238291518917783, 'bagging_freq': 2, 'min_child_samples': 15}. Best is trial 0 with value: 0.982569963793631.\n",
      "[I 2024-08-07 17:20:28,346] Trial 1 finished with value: 0.9810992228818343 and parameters: {'num_leaves': 51, 'learning_rate': 0.16205834939063732, 'feature_fraction': 0.5560727020236879, 'bagging_fraction': 0.9090150459522306, 'bagging_freq': 5, 'min_child_samples': 99}. Best is trial 0 with value: 0.982569963793631.\n",
      "[I 2024-08-07 17:20:33,158] Trial 2 finished with value: 0.9781357040313676 and parameters: {'num_leaves': 37, 'learning_rate': 0.15844586422797324, 'feature_fraction': 0.7447411988469266, 'bagging_fraction': 0.9663139982251948, 'bagging_freq': 7, 'min_child_samples': 91}. Best is trial 0 with value: 0.982569963793631.\n",
      "[I 2024-08-07 17:20:40,331] Trial 3 finished with value: 0.9805271321298064 and parameters: {'num_leaves': 175, 'learning_rate': 0.05968296982869421, 'feature_fraction': 0.7530709911281885, 'bagging_fraction': 0.6635432323929455, 'bagging_freq': 2, 'min_child_samples': 70}. Best is trial 0 with value: 0.982569963793631.\n",
      "[I 2024-08-07 17:20:46,775] Trial 4 finished with value: 0.9774651165732882 and parameters: {'num_leaves': 174, 'learning_rate': 0.3763223256421553, 'feature_fraction': 0.9191673180187523, 'bagging_fraction': 0.6496265963517535, 'bagging_freq': 2, 'min_child_samples': 17}. Best is trial 0 with value: 0.982569963793631.\n",
      "[I 2024-08-07 17:20:52,237] Trial 5 finished with value: 0.9827723201773058 and parameters: {'num_leaves': 50, 'learning_rate': 0.22507267810718154, 'feature_fraction': 0.9486349271578738, 'bagging_fraction': 0.8237321591247107, 'bagging_freq': 4, 'min_child_samples': 57}. Best is trial 5 with value: 0.9827723201773058.\n",
      "[I 2024-08-07 17:20:57,199] Trial 6 finished with value: 0.98216876542039 and parameters: {'num_leaves': 27, 'learning_rate': 0.387822226180634, 'feature_fraction': 0.706315978586513, 'bagging_fraction': 0.7925435639880418, 'bagging_freq': 5, 'min_child_samples': 76}. Best is trial 5 with value: 0.9827723201773058.\n",
      "[I 2024-08-07 17:21:05,097] Trial 7 finished with value: 0.9838198198361136 and parameters: {'num_leaves': 187, 'learning_rate': 0.2520424955330665, 'feature_fraction': 0.7494086373425417, 'bagging_fraction': 0.7671918955559855, 'bagging_freq': 3, 'min_child_samples': 62}. Best is trial 7 with value: 0.9838198198361136.\n",
      "[I 2024-08-07 17:21:11,440] Trial 8 finished with value: 0.9830531745474027 and parameters: {'num_leaves': 112, 'learning_rate': 0.12166738001142188, 'feature_fraction': 0.660698011125324, 'bagging_fraction': 0.877478528379861, 'bagging_freq': 7, 'min_child_samples': 8}. Best is trial 7 with value: 0.9838198198361136.\n",
      "[I 2024-08-07 17:21:17,530] Trial 9 finished with value: 0.9839414168472052 and parameters: {'num_leaves': 96, 'learning_rate': 0.17092651063885472, 'feature_fraction': 0.5696476251841693, 'bagging_fraction': 0.786885367225465, 'bagging_freq': 7, 'min_child_samples': 40}. Best is trial 9 with value: 0.9839414168472052.\n",
      "[I 2024-08-07 17:21:23,525] Trial 10 finished with value: 0.977158171347684 and parameters: {'num_leaves': 125, 'learning_rate': 0.026871789284425157, 'feature_fraction': 0.6217403069566285, 'bagging_fraction': 0.5142152011233249, 'bagging_freq': 6, 'min_child_samples': 38}. Best is trial 9 with value: 0.9839414168472052.\n",
      "[I 2024-08-07 17:21:31,276] Trial 11 finished with value: 0.9835364646519146 and parameters: {'num_leaves': 237, 'learning_rate': 0.25198529320021357, 'feature_fraction': 0.8546156664951738, 'bagging_fraction': 0.7032024062883564, 'bagging_freq': 4, 'min_child_samples': 40}. Best is trial 9 with value: 0.9839414168472052.\n",
      "[I 2024-08-07 17:21:38,760] Trial 12 finished with value: 0.9834160580229223 and parameters: {'num_leaves': 174, 'learning_rate': 0.28120389980791993, 'feature_fraction': 0.8205341562515551, 'bagging_fraction': 0.7593383799245252, 'bagging_freq': 3, 'min_child_samples': 42}. Best is trial 9 with value: 0.9839414168472052.\n",
      "[I 2024-08-07 17:21:45,952] Trial 13 finished with value: 0.9842639390391571 and parameters: {'num_leaves': 237, 'learning_rate': 0.18280097238636572, 'feature_fraction': 0.501920942851294, 'bagging_fraction': 0.5969933102568167, 'bagging_freq': 1, 'min_child_samples': 58}. Best is trial 13 with value: 0.9842639390391571.\n",
      "[I 2024-08-07 17:21:53,114] Trial 14 finished with value: 0.9841832214063734 and parameters: {'num_leaves': 244, 'learning_rate': 0.10638257110889739, 'feature_fraction': 0.5106411303255151, 'bagging_fraction': 0.5734943812887993, 'bagging_freq': 1, 'min_child_samples': 34}. Best is trial 13 with value: 0.9842639390391571.\n",
      "[I 2024-08-07 17:22:00,153] Trial 15 finished with value: 0.9840209448174058 and parameters: {'num_leaves': 240, 'learning_rate': 0.08938593334473013, 'feature_fraction': 0.5082904062238416, 'bagging_fraction': 0.5389396911471708, 'bagging_freq': 1, 'min_child_samples': 27}. Best is trial 13 with value: 0.9842639390391571.\n",
      "[I 2024-08-07 17:22:07,348] Trial 16 finished with value: 0.9840614693025662 and parameters: {'num_leaves': 212, 'learning_rate': 0.11112380262894898, 'feature_fraction': 0.5795860010450032, 'bagging_fraction': 0.5842227955888892, 'bagging_freq': 1, 'min_child_samples': 53}. Best is trial 13 with value: 0.9842639390391571.\n",
      "[I 2024-08-07 17:22:14,390] Trial 17 finished with value: 0.9842034868075704 and parameters: {'num_leaves': 249, 'learning_rate': 0.20885627476032378, 'feature_fraction': 0.6309017305477381, 'bagging_fraction': 0.5927226249706112, 'bagging_freq': 1, 'min_child_samples': 28}. Best is trial 13 with value: 0.9842639390391571.\n",
      "[I 2024-08-07 17:22:21,690] Trial 18 finished with value: 0.983800607796706 and parameters: {'num_leaves': 209, 'learning_rate': 0.20390628387628462, 'feature_fraction': 0.6334128147589403, 'bagging_fraction': 0.602994820003133, 'bagging_freq': 3, 'min_child_samples': 78}. Best is trial 13 with value: 0.9842639390391571.\n",
      "[I 2024-08-07 17:22:27,744] Trial 19 finished with value: 0.9836781385690317 and parameters: {'num_leaves': 149, 'learning_rate': 0.29984838412559817, 'feature_fraction': 0.6736663141744936, 'bagging_fraction': 0.7002400506389231, 'bagging_freq': 1, 'min_child_samples': 26}. Best is trial 13 with value: 0.9842639390391571.\n",
      "[I 2024-08-07 17:22:35,295] Trial 20 finished with value: 0.9843032994320204 and parameters: {'num_leaves': 213, 'learning_rate': 0.2032115025214568, 'feature_fraction': 0.6027739548323291, 'bagging_fraction': 0.6284325533946401, 'bagging_freq': 2, 'min_child_samples': 47}. Best is trial 20 with value: 0.9843032994320204.\n",
      "[I 2024-08-07 17:22:42,926] Trial 21 finished with value: 0.9843240544377061 and parameters: {'num_leaves': 217, 'learning_rate': 0.1992606992118774, 'feature_fraction': 0.6052467422446256, 'bagging_fraction': 0.6304707179027226, 'bagging_freq': 2, 'min_child_samples': 49}. Best is trial 21 with value: 0.9843240544377061.\n",
      "[I 2024-08-07 17:22:50,628] Trial 22 finished with value: 0.9845062631894081 and parameters: {'num_leaves': 213, 'learning_rate': 0.17850991523643675, 'feature_fraction': 0.5931415236612, 'bagging_fraction': 0.636515468231564, 'bagging_freq': 2, 'min_child_samples': 49}. Best is trial 22 with value: 0.9845062631894081.\n",
      "[I 2024-08-07 17:22:57,944] Trial 23 finished with value: 0.9843650943524814 and parameters: {'num_leaves': 206, 'learning_rate': 0.24286501146802852, 'feature_fraction': 0.6119973705314145, 'bagging_fraction': 0.6649895697265839, 'bagging_freq': 2, 'min_child_samples': 48}. Best is trial 22 with value: 0.9845062631894081.\n",
      "[I 2024-08-07 17:23:05,239] Trial 24 finished with value: 0.98398108569009 and parameters: {'num_leaves': 202, 'learning_rate': 0.24992943329902834, 'feature_fraction': 0.6923604407596096, 'bagging_fraction': 0.7018270495147284, 'bagging_freq': 3, 'min_child_samples': 64}. Best is trial 22 with value: 0.9845062631894081.\n",
      "[I 2024-08-07 17:23:11,715] Trial 25 finished with value: 0.984122769326049 and parameters: {'num_leaves': 141, 'learning_rate': 0.2875892677263156, 'feature_fraction': 0.5892908899559702, 'bagging_fraction': 0.6681840263573212, 'bagging_freq': 2, 'min_child_samples': 49}. Best is trial 22 with value: 0.9845062631894081.\n",
      "[I 2024-08-07 17:23:19,246] Trial 26 finished with value: 0.9844846786213491 and parameters: {'num_leaves': 223, 'learning_rate': 0.13892785317363276, 'feature_fraction': 0.6537201213070494, 'bagging_fraction': 0.729770131410526, 'bagging_freq': 3, 'min_child_samples': 48}. Best is trial 22 with value: 0.9845062631894081.\n",
      "[I 2024-08-07 17:23:26,161] Trial 27 finished with value: 0.9836779714173576 and parameters: {'num_leaves': 159, 'learning_rate': 0.12765757228093555, 'feature_fraction': 0.7186352883254437, 'bagging_fraction': 0.7327856667554113, 'bagging_freq': 3, 'min_child_samples': 66}. Best is trial 22 with value: 0.9845062631894081.\n",
      "[I 2024-08-07 17:23:33,427] Trial 28 finished with value: 0.9837186665157348 and parameters: {'num_leaves': 194, 'learning_rate': 0.15047410494863867, 'feature_fraction': 0.796538231465446, 'bagging_fraction': 0.729803215634096, 'bagging_freq': 4, 'min_child_samples': 32}. Best is trial 22 with value: 0.9845062631894081.\n",
      "[I 2024-08-07 17:23:40,935] Trial 29 finished with value: 0.9819199934958055 and parameters: {'num_leaves': 229, 'learning_rate': 0.31293113602737155, 'feature_fraction': 0.6524753083496009, 'bagging_fraction': 0.6877987824107291, 'bagging_freq': 2, 'min_child_samples': 18}. Best is trial 22 with value: 0.9845062631894081.\n",
      "[I 2024-08-07 17:23:48,174] Trial 30 finished with value: 0.9835163672682005 and parameters: {'num_leaves': 221, 'learning_rate': 0.3525289475301988, 'feature_fraction': 0.5345164427620125, 'bagging_fraction': 0.8540683324972226, 'bagging_freq': 5, 'min_child_samples': 73}. Best is trial 22 with value: 0.9845062631894081.\n",
      "[I 2024-08-07 17:23:55,144] Trial 31 finished with value: 0.9842244577852538 and parameters: {'num_leaves': 190, 'learning_rate': 0.23059716540604425, 'feature_fraction': 0.6072680743658945, 'bagging_fraction': 0.5503996502608831, 'bagging_freq': 2, 'min_child_samples': 47}. Best is trial 22 with value: 0.9845062631894081.\n",
      "[I 2024-08-07 17:24:02,460] Trial 32 finished with value: 0.9843443177618407 and parameters: {'num_leaves': 221, 'learning_rate': 0.14274229476456313, 'feature_fraction': 0.5357700236149775, 'bagging_fraction': 0.6430972026871651, 'bagging_freq': 3, 'min_child_samples': 53}. Best is trial 22 with value: 0.9845062631894081.\n",
      "[I 2024-08-07 17:24:09,664] Trial 33 finished with value: 0.9843848453839723 and parameters: {'num_leaves': 200, 'learning_rate': 0.14551120235157824, 'feature_fraction': 0.5536522539771669, 'bagging_fraction': 0.6240589575834944, 'bagging_freq': 3, 'min_child_samples': 57}. Best is trial 22 with value: 0.9845062631894081.\n",
      "[I 2024-08-07 17:24:16,792] Trial 34 finished with value: 0.9819812252085601 and parameters: {'num_leaves': 163, 'learning_rate': 0.06022870844423968, 'feature_fraction': 0.539984029956618, 'bagging_fraction': 0.9581242320109561, 'bagging_freq': 3, 'min_child_samples': 85}. Best is trial 22 with value: 0.9845062631894081.\n",
      "[I 2024-08-07 17:24:23,602] Trial 35 finished with value: 0.9833539616808928 and parameters: {'num_leaves': 197, 'learning_rate': 0.0823119042581757, 'feature_fraction': 0.5568478917831323, 'bagging_fraction': 0.6690026420612771, 'bagging_freq': 4, 'min_child_samples': 58}. Best is trial 22 with value: 0.9845062631894081.\n",
      "[I 2024-08-07 17:24:31,028] Trial 36 finished with value: 0.9840427566145851 and parameters: {'num_leaves': 188, 'learning_rate': 0.1733643469040797, 'feature_fraction': 0.6482995939389848, 'bagging_fraction': 0.726428137791508, 'bagging_freq': 2, 'min_child_samples': 100}. Best is trial 22 with value: 0.9845062631894081.\n",
      "[I 2024-08-07 17:24:36,564] Trial 37 finished with value: 0.9829929023078303 and parameters: {'num_leaves': 79, 'learning_rate': 0.1441129725369723, 'feature_fraction': 0.6823651274852106, 'bagging_fraction': 0.6098965669427836, 'bagging_freq': 3, 'min_child_samples': 43}. Best is trial 22 with value: 0.9845062631894081.\n",
      "[I 2024-08-07 17:24:43,997] Trial 38 finished with value: 0.9840814023603196 and parameters: {'num_leaves': 226, 'learning_rate': 0.1847867125386277, 'feature_fraction': 0.71441608855186, 'bagging_fraction': 0.5556795830337883, 'bagging_freq': 4, 'min_child_samples': 69}. Best is trial 22 with value: 0.9845062631894081.\n",
      "[I 2024-08-07 17:24:50,894] Trial 39 finished with value: 0.9840216146746346 and parameters: {'num_leaves': 181, 'learning_rate': 0.22248255004485157, 'feature_fraction': 0.5705062854605757, 'bagging_fraction': 0.5028368808322058, 'bagging_freq': 2, 'min_child_samples': 58}. Best is trial 22 with value: 0.9845062631894081.\n",
      "[I 2024-08-07 17:24:58,363] Trial 40 finished with value: 0.9839204624897252 and parameters: {'num_leaves': 205, 'learning_rate': 0.2711429341684644, 'feature_fraction': 0.7792568576967004, 'bagging_fraction': 0.8132731643512171, 'bagging_freq': 3, 'min_child_samples': 35}. Best is trial 22 with value: 0.9845062631894081.\n",
      "[I 2024-08-07 17:25:05,562] Trial 41 finished with value: 0.9841019950855172 and parameters: {'num_leaves': 227, 'learning_rate': 0.13059018480676884, 'feature_fraction': 0.5499988150840881, 'bagging_fraction': 0.630649141418419, 'bagging_freq': 3, 'min_child_samples': 54}. Best is trial 22 with value: 0.9845062631894081.\n",
      "[I 2024-08-07 17:25:12,301] Trial 42 finished with value: 0.9840216146746346 and parameters: {'num_leaves': 161, 'learning_rate': 0.15327759954248357, 'feature_fraction': 0.5288734498329128, 'bagging_fraction': 0.6476877400031085, 'bagging_freq': 3, 'min_child_samples': 62}. Best is trial 22 with value: 0.9845062631894081.\n",
      "[I 2024-08-07 17:25:19,501] Trial 43 finished with value: 0.9834546309047493 and parameters: {'num_leaves': 231, 'learning_rate': 0.08771780029754873, 'feature_fraction': 0.5868806259703154, 'bagging_fraction': 0.6547960252061301, 'bagging_freq': 5, 'min_child_samples': 52}. Best is trial 22 with value: 0.9845062631894081.\n",
      "[I 2024-08-07 17:25:26,667] Trial 44 finished with value: 0.9844856585407455 and parameters: {'num_leaves': 201, 'learning_rate': 0.1443373440161639, 'feature_fraction': 0.5651749802914632, 'bagging_fraction': 0.6854846917356012, 'bagging_freq': 2, 'min_child_samples': 45}. Best is trial 22 with value: 0.9845062631894081.\n",
      "[I 2024-08-07 17:25:33,984] Trial 45 finished with value: 0.9834162301590716 and parameters: {'num_leaves': 179, 'learning_rate': 0.1633530159752224, 'feature_fraction': 0.9974012650184111, 'bagging_fraction': 0.6830562466474949, 'bagging_freq': 2, 'min_child_samples': 44}. Best is trial 22 with value: 0.9845062631894081.\n",
      "[I 2024-08-07 17:25:41,529] Trial 46 finished with value: 0.9842234095131556 and parameters: {'num_leaves': 200, 'learning_rate': 0.18610066063956748, 'feature_fraction': 0.6192944673987941, 'bagging_fraction': 0.7761072030387933, 'bagging_freq': 2, 'min_child_samples': 37}. Best is trial 22 with value: 0.9845062631894081.\n",
      "[I 2024-08-07 17:25:48,305] Trial 47 finished with value: 0.9800200492148929 and parameters: {'num_leaves': 169, 'learning_rate': 0.0203091236311555, 'feature_fraction': 0.5633106058470088, 'bagging_fraction': 0.7397099722203531, 'bagging_freq': 4, 'min_child_samples': 45}. Best is trial 22 with value: 0.9845062631894081.\n",
      "[I 2024-08-07 17:25:54,207] Trial 48 finished with value: 0.982748553273092 and parameters: {'num_leaves': 119, 'learning_rate': 0.10180305644936787, 'feature_fraction': 0.6453513665378277, 'bagging_fraction': 0.7125841343939184, 'bagging_freq': 1, 'min_child_samples': 60}. Best is trial 22 with value: 0.9845062631894081.\n",
      "[I 2024-08-07 17:25:59,946] Trial 49 finished with value: 0.9767154817599843 and parameters: {'num_leaves': 66, 'learning_rate': 0.06521830774076337, 'feature_fraction': 0.5888487115174919, 'bagging_fraction': 0.753116670365282, 'bagging_freq': 2, 'min_child_samples': 40}. Best is trial 22 with value: 0.9845062631894081.\n",
      "[I 2024-08-07 17:26:07,617] Trial 50 finished with value: 0.9842015334518139 and parameters: {'num_leaves': 206, 'learning_rate': 0.2360477506165088, 'feature_fraction': 0.7342485777189768, 'bagging_fraction': 0.6787692683620418, 'bagging_freq': 2, 'min_child_samples': 30}. Best is trial 22 with value: 0.9845062631894081.\n",
      "[I 2024-08-07 17:26:15,624] Trial 51 finished with value: 0.9842438455483311 and parameters: {'num_leaves': 220, 'learning_rate': 0.13912027179817357, 'feature_fraction': 0.5351163683747069, 'bagging_fraction': 0.6456695274754458, 'bagging_freq': 3, 'min_child_samples': 52}. Best is trial 22 with value: 0.9845062631894081.\n",
      "[I 2024-08-07 17:26:26,499] Trial 52 finished with value: 0.9842241019575108 and parameters: {'num_leaves': 248, 'learning_rate': 0.11805341340941315, 'feature_fraction': 0.5267795128343198, 'bagging_fraction': 0.6114723890572659, 'bagging_freq': 3, 'min_child_samples': 55}. Best is trial 22 with value: 0.9845062631894081.\n",
      "[I 2024-08-07 17:26:34,253] Trial 53 finished with value: 0.9842838633238183 and parameters: {'num_leaves': 235, 'learning_rate': 0.1630722194596124, 'feature_fraction': 0.5657449407048888, 'bagging_fraction': 0.5735551084988779, 'bagging_freq': 4, 'min_child_samples': 49}. Best is trial 22 with value: 0.9845062631894081.\n",
      "[I 2024-08-07 17:26:41,670] Trial 54 finished with value: 0.9841837435946551 and parameters: {'num_leaves': 215, 'learning_rate': 0.14149456360395912, 'feature_fraction': 0.5168376489826739, 'bagging_fraction': 0.6310436862189583, 'bagging_freq': 2, 'min_child_samples': 68}. Best is trial 22 with value: 0.9845062631894081.\n",
      "[I 2024-08-07 17:26:48,973] Trial 55 finished with value: 0.9840822385456931 and parameters: {'num_leaves': 185, 'learning_rate': 0.1751708335303115, 'feature_fraction': 0.6204592958917355, 'bagging_fraction': 0.7141112667095815, 'bagging_freq': 3, 'min_child_samples': 55}. Best is trial 22 with value: 0.9845062631894081.\n",
      "[I 2024-08-07 17:26:56,369] Trial 56 finished with value: 0.9842840330058913 and parameters: {'num_leaves': 240, 'learning_rate': 0.21576543975047732, 'feature_fraction': 0.6692991358463021, 'bagging_fraction': 0.6897269682338026, 'bagging_freq': 1, 'min_child_samples': 50}. Best is trial 22 with value: 0.9845062631894081.\n",
      "[I 2024-08-07 17:27:06,413] Trial 57 finished with value: 0.9840408801248951 and parameters: {'num_leaves': 210, 'learning_rate': 0.19343664234388994, 'feature_fraction': 0.5498660019369062, 'bagging_fraction': 0.6557017885653827, 'bagging_freq': 3, 'min_child_samples': 63}. Best is trial 22 with value: 0.9845062631894081.\n",
      "[I 2024-08-07 17:27:14,558] Trial 58 finished with value: 0.983819312770312 and parameters: {'num_leaves': 222, 'learning_rate': 0.10107948684472332, 'feature_fraction': 0.5946360986854553, 'bagging_fraction': 0.6212597503957903, 'bagging_freq': 2, 'min_child_samples': 41}. Best is trial 22 with value: 0.9845062631894081.\n",
      "[I 2024-08-07 17:27:22,604] Trial 59 finished with value: 0.9835563997054776 and parameters: {'num_leaves': 197, 'learning_rate': 0.126937757836877, 'feature_fraction': 0.887319193517713, 'bagging_fraction': 0.5872968684877563, 'bagging_freq': 6, 'min_child_samples': 24}. Best is trial 22 with value: 0.9845062631894081.\n",
      "[I 2024-08-07 17:27:29,071] Trial 60 finished with value: 0.9843848453839723 and parameters: {'num_leaves': 173, 'learning_rate': 0.15402248074401423, 'feature_fraction': 0.5764401905992409, 'bagging_fraction': 0.5265231926743387, 'bagging_freq': 1, 'min_child_samples': 46}. Best is trial 22 with value: 0.9845062631894081.\n",
      "[I 2024-08-07 17:27:35,607] Trial 61 finished with value: 0.9842644603203665 and parameters: {'num_leaves': 174, 'learning_rate': 0.1602595508227554, 'feature_fraction': 0.5757612515496366, 'bagging_fraction': 0.5334647311807948, 'bagging_freq': 1, 'min_child_samples': 45}. Best is trial 22 with value: 0.9845062631894081.\n",
      "[I 2024-08-07 17:27:41,738] Trial 62 finished with value: 0.9842242790709478 and parameters: {'num_leaves': 152, 'learning_rate': 0.14116507535195594, 'feature_fraction': 0.5172940320284425, 'bagging_fraction': 0.6681342213973331, 'bagging_freq': 1, 'min_child_samples': 39}. Best is trial 22 with value: 0.9845062631894081.\n",
      "[I 2024-08-07 17:27:48,299] Trial 63 finished with value: 0.9838799353004196 and parameters: {'num_leaves': 191, 'learning_rate': 0.11269506547723969, 'feature_fraction': 0.6103943079345051, 'bagging_fraction': 0.640474221044931, 'bagging_freq': 1, 'min_child_samples': 51}. Best is trial 22 with value: 0.9845062631894081.\n",
      "[I 2024-08-07 17:27:55,521] Trial 64 finished with value: 0.98386069981927 and parameters: {'num_leaves': 206, 'learning_rate': 0.24163286726078706, 'feature_fraction': 0.6364560243315835, 'bagging_fraction': 0.5237389541786555, 'bagging_freq': 2, 'min_child_samples': 47}. Best is trial 22 with value: 0.9845062631894081.\n",
      "[I 2024-08-07 17:27:58,880] Trial 65 finished with value: 0.9760743406207459 and parameters: {'num_leaves': 21, 'learning_rate': 0.26306281266889614, 'feature_fraction': 0.5028454905127041, 'bagging_fraction': 0.5540574506103076, 'bagging_freq': 2, 'min_child_samples': 36}. Best is trial 22 with value: 0.9845062631894081.\n",
      "[I 2024-08-07 17:28:06,299] Trial 66 finished with value: 0.9846258596647396 and parameters: {'num_leaves': 213, 'learning_rate': 0.17350166254941968, 'feature_fraction': 0.5477511528962398, 'bagging_fraction': 0.6988340817577159, 'bagging_freq': 3, 'min_child_samples': 60}. Best is trial 66 with value: 0.9846258596647396.\n",
      "[I 2024-08-07 17:28:14,060] Trial 67 finished with value: 0.9843848453839723 and parameters: {'num_leaves': 214, 'learning_rate': 0.17369219437525799, 'feature_fraction': 0.5535597489193793, 'bagging_fraction': 0.8047163168575279, 'bagging_freq': 2, 'min_child_samples': 60}. Best is trial 66 with value: 0.9846258596647396.\n",
      "[I 2024-08-07 17:28:20,926] Trial 68 finished with value: 0.984404606802028 and parameters: {'num_leaves': 213, 'learning_rate': 0.19594304793671463, 'feature_fraction': 0.5516464208306691, 'bagging_fraction': 0.7977831068989343, 'bagging_freq': 1, 'min_child_samples': 74}. Best is trial 66 with value: 0.9846258596647396.\n",
      "[I 2024-08-07 17:28:27,625] Trial 69 finished with value: 0.9845861417891172 and parameters: {'num_leaves': 198, 'learning_rate': 0.19569470297159924, 'feature_fraction': 0.5790116746857433, 'bagging_fraction': 0.8541375500086769, 'bagging_freq': 1, 'min_child_samples': 82}. Best is trial 66 with value: 0.9846258596647396.\n",
      "[I 2024-08-07 17:28:34,506] Trial 70 finished with value: 0.9844240595209272 and parameters: {'num_leaves': 200, 'learning_rate': 0.19205926098291615, 'feature_fraction': 0.5979759189111218, 'bagging_fraction': 0.858168353480955, 'bagging_freq': 1, 'min_child_samples': 93}. Best is trial 66 with value: 0.9846258596647396.\n",
      "[I 2024-08-07 17:28:41,328] Trial 71 finished with value: 0.9845050980583642 and parameters: {'num_leaves': 195, 'learning_rate': 0.21383102563389203, 'feature_fraction': 0.5846554408929002, 'bagging_fraction': 0.8895079625844879, 'bagging_freq': 1, 'min_child_samples': 95}. Best is trial 66 with value: 0.9846258596647396.\n",
      "[I 2024-08-07 17:28:48,081] Trial 72 finished with value: 0.9841839208591372 and parameters: {'num_leaves': 194, 'learning_rate': 0.20929539338324338, 'feature_fraction': 0.6302414101578111, 'bagging_fraction': 0.8898673496938322, 'bagging_freq': 1, 'min_child_samples': 95}. Best is trial 66 with value: 0.9846258596647396.\n",
      "[I 2024-08-07 17:28:54,743] Trial 73 finished with value: 0.9842639390391571 and parameters: {'num_leaves': 183, 'learning_rate': 0.2204078410723525, 'feature_fraction': 0.5957469068536395, 'bagging_fraction': 0.8478462539430379, 'bagging_freq': 1, 'min_child_samples': 86}. Best is trial 66 with value: 0.9846258596647396.\n",
      "[I 2024-08-07 17:29:01,828] Trial 74 finished with value: 0.9845066104975007 and parameters: {'num_leaves': 232, 'learning_rate': 0.1922754559919523, 'feature_fraction': 0.58098773932137, 'bagging_fraction': 0.8411598041507389, 'bagging_freq': 1, 'min_child_samples': 90}. Best is trial 66 with value: 0.9846258596647396.\n",
      "[I 2024-08-07 17:29:08,810] Trial 75 finished with value: 0.9846060778030016 and parameters: {'num_leaves': 226, 'learning_rate': 0.18797225779487453, 'feature_fraction': 0.5806754177587636, 'bagging_fraction': 0.9283033155619308, 'bagging_freq': 1, 'min_child_samples': 95}. Best is trial 66 with value: 0.9846258596647396.\n",
      "[I 2024-08-07 17:29:16,018] Trial 76 finished with value: 0.9845662096064947 and parameters: {'num_leaves': 235, 'learning_rate': 0.20510024020000073, 'feature_fraction': 0.5818844674694434, 'bagging_fraction': 0.9311316791852817, 'bagging_freq': 1, 'min_child_samples': 85}. Best is trial 66 with value: 0.9846258596647396.\n",
      "[I 2024-08-07 17:29:23,241] Trial 77 finished with value: 0.9844454685740499 and parameters: {'num_leaves': 243, 'learning_rate': 0.20924724007589873, 'feature_fraction': 0.5776916079486332, 'bagging_fraction': 0.9266093374832609, 'bagging_freq': 1, 'min_child_samples': 88}. Best is trial 66 with value: 0.9846258596647396.\n",
      "[I 2024-08-07 17:29:30,350] Trial 78 finished with value: 0.984505587790812 and parameters: {'num_leaves': 234, 'learning_rate': 0.17852028997972075, 'feature_fraction': 0.5660835279975293, 'bagging_fraction': 0.9309405528528047, 'bagging_freq': 1, 'min_child_samples': 82}. Best is trial 66 with value: 0.9846258596647396.\n",
      "[I 2024-08-07 17:29:37,490] Trial 79 finished with value: 0.9843853605008483 and parameters: {'num_leaves': 231, 'learning_rate': 0.2257556709060752, 'feature_fraction': 0.5851500210783788, 'bagging_fraction': 0.9289323102449871, 'bagging_freq': 1, 'min_child_samples': 80}. Best is trial 66 with value: 0.9846258596647396.\n",
      "[I 2024-08-07 17:29:44,613] Trial 80 finished with value: 0.9843036258348206 and parameters: {'num_leaves': 233, 'learning_rate': 0.18241571767251902, 'feature_fraction': 0.6164534244594789, 'bagging_fraction': 0.9788371034874654, 'bagging_freq': 1, 'min_child_samples': 97}. Best is trial 66 with value: 0.9846258596647396.\n",
      "[I 2024-08-07 17:29:51,862] Trial 81 finished with value: 0.9844443186684853 and parameters: {'num_leaves': 245, 'learning_rate': 0.20332792549718057, 'feature_fraction': 0.5677700729151979, 'bagging_fraction': 0.9008604458675042, 'bagging_freq': 1, 'min_child_samples': 81}. Best is trial 66 with value: 0.9846258596647396.\n",
      "[I 2024-08-07 17:29:58,949] Trial 82 finished with value: 0.9845459470613415 and parameters: {'num_leaves': 237, 'learning_rate': 0.1697029331743816, 'feature_fraction': 0.5417832125364417, 'bagging_fraction': 0.9463227759829311, 'bagging_freq': 1, 'min_child_samples': 91}. Best is trial 66 with value: 0.9846258596647396.\n",
      "[I 2024-08-07 17:30:06,023] Trial 83 finished with value: 0.9844252043516765 and parameters: {'num_leaves': 238, 'learning_rate': 0.16966734505286388, 'feature_fraction': 0.5396755024341271, 'bagging_fraction': 0.9481719407420619, 'bagging_freq': 1, 'min_child_samples': 90}. Best is trial 66 with value: 0.9846258596647396.\n",
      "[I 2024-08-07 17:30:13,149] Trial 84 finished with value: 0.9844449661483057 and parameters: {'num_leaves': 248, 'learning_rate': 0.18329155147449272, 'feature_fraction': 0.5225202128074993, 'bagging_fraction': 0.9215332594091853, 'bagging_freq': 1, 'min_child_samples': 83}. Best is trial 66 with value: 0.9846258596647396.\n",
      "[I 2024-08-07 17:30:20,178] Trial 85 finished with value: 0.9841822202562143 and parameters: {'num_leaves': 228, 'learning_rate': 0.21565242122804656, 'feature_fraction': 0.5451125613176303, 'bagging_fraction': 0.872768642117121, 'bagging_freq': 1, 'min_child_samples': 91}. Best is trial 66 with value: 0.9846258596647396.\n",
      "[I 2024-08-07 17:30:27,115] Trial 86 finished with value: 0.984526017584131 and parameters: {'num_leaves': 219, 'learning_rate': 0.19175646378237796, 'feature_fraction': 0.5990623967706369, 'bagging_fraction': 0.9917823284164031, 'bagging_freq': 1, 'min_child_samples': 97}. Best is trial 66 with value: 0.9846258596647396.\n",
      "[I 2024-08-07 17:30:34,039] Trial 87 finished with value: 0.9844237468405318 and parameters: {'num_leaves': 224, 'learning_rate': 0.19235487734271808, 'feature_fraction': 0.597443676783321, 'bagging_fraction': 0.980627255920999, 'bagging_freq': 1, 'min_child_samples': 77}. Best is trial 66 with value: 0.9846258596647396.\n",
      "[I 2024-08-07 17:30:41,049] Trial 88 finished with value: 0.984666860633202 and parameters: {'num_leaves': 236, 'learning_rate': 0.17745389398567907, 'feature_fraction': 0.5590877395748017, 'bagging_fraction': 0.9950711489582625, 'bagging_freq': 1, 'min_child_samples': 85}. Best is trial 88 with value: 0.984666860633202.\n",
      "[I 2024-08-07 17:30:47,947] Trial 89 finished with value: 0.984546281254789 and parameters: {'num_leaves': 218, 'learning_rate': 0.16322129873189023, 'feature_fraction': 0.5012759665941283, 'bagging_fraction': 0.9647729986894991, 'bagging_freq': 1, 'min_child_samples': 86}. Best is trial 88 with value: 0.984666860633202.\n",
      "[I 2024-08-07 17:30:55,866] Trial 90 finished with value: 0.984424869249753 and parameters: {'num_leaves': 219, 'learning_rate': 0.16477872422923606, 'feature_fraction': 0.5149369838592521, 'bagging_fraction': 0.9947945853142524, 'bagging_freq': 6, 'min_child_samples': 86}. Best is trial 88 with value: 0.984666860633202.\n",
      "[I 2024-08-07 17:31:02,933] Trial 91 finished with value: 0.9844448018760117 and parameters: {'num_leaves': 239, 'learning_rate': 0.2033198468112437, 'feature_fraction': 0.5035649937315119, 'bagging_fraction': 0.9995275034259283, 'bagging_freq': 1, 'min_child_samples': 98}. Best is trial 88 with value: 0.984666860633202.\n",
      "[I 2024-08-07 17:31:09,769] Trial 92 finished with value: 0.9845457823670748 and parameters: {'num_leaves': 217, 'learning_rate': 0.1877569474139592, 'feature_fraction': 0.5315905164259279, 'bagging_fraction': 0.9552166898212691, 'bagging_freq': 1, 'min_child_samples': 92}. Best is trial 88 with value: 0.984666860633202.\n",
      "[I 2024-08-07 17:31:16,889] Trial 93 finished with value: 0.9846275115846538 and parameters: {'num_leaves': 250, 'learning_rate': 0.19069533906588387, 'feature_fraction': 0.5418916610346027, 'bagging_fraction': 0.9478063749057966, 'bagging_freq': 1, 'min_child_samples': 89}. Best is trial 88 with value: 0.984666860633202.\n",
      "[I 2024-08-07 17:31:23,944] Trial 94 finished with value: 0.9843845099792236 and parameters: {'num_leaves': 243, 'learning_rate': 0.2324361957935712, 'feature_fraction': 0.530587404794315, 'bagging_fraction': 0.945675928491704, 'bagging_freq': 1, 'min_child_samples': 92}. Best is trial 88 with value: 0.984666860633202.\n",
      "[I 2024-08-07 17:31:30,897] Trial 95 finished with value: 0.9843644136325042 and parameters: {'num_leaves': 226, 'learning_rate': 0.16653799279083562, 'feature_fraction': 0.5423440964654146, 'bagging_fraction': 0.9669875787470071, 'bagging_freq': 1, 'min_child_samples': 88}. Best is trial 88 with value: 0.984666860633202.\n",
      "[I 2024-08-07 17:31:37,987] Trial 96 finished with value: 0.9843845099792236 and parameters: {'num_leaves': 249, 'learning_rate': 0.15628574896128028, 'feature_fraction': 0.5251380693669225, 'bagging_fraction': 0.9633872216107833, 'bagging_freq': 1, 'min_child_samples': 95}. Best is trial 88 with value: 0.984666860633202.\n",
      "[I 2024-08-07 17:31:43,795] Trial 97 finished with value: 0.9841225974377327 and parameters: {'num_leaves': 104, 'learning_rate': 0.19911612846765356, 'feature_fraction': 0.5599636678480953, 'bagging_fraction': 0.9413863078990489, 'bagging_freq': 1, 'min_child_samples': 84}. Best is trial 88 with value: 0.984666860633202.\n",
      "[I 2024-08-07 17:31:50,683] Trial 98 finished with value: 0.9843249100971373 and parameters: {'num_leaves': 217, 'learning_rate': 0.18614298572174254, 'feature_fraction': 0.5009775201691197, 'bagging_fraction': 0.9830609901454259, 'bagging_freq': 1, 'min_child_samples': 79}. Best is trial 88 with value: 0.984666860633202.\n",
      "[I 2024-08-07 17:31:58,720] Trial 99 finished with value: 0.9846476044793214 and parameters: {'num_leaves': 236, 'learning_rate': 0.16822513631382496, 'feature_fraction': 0.5131094677841019, 'bagging_fraction': 0.9584477744755558, 'bagging_freq': 5, 'min_child_samples': 100}. Best is trial 88 with value: 0.984666860633202.\n"
     ]
    },
    {
     "name": "stdout",
     "output_type": "stream",
     "text": [
      "Best params: {'num_leaves': 236, 'learning_rate': 0.17745389398567907, 'feature_fraction': 0.5590877395748017, 'bagging_fraction': 0.9950711489582625, 'bagging_freq': 1, 'min_child_samples': 85}\n",
      "Best value: 0.984666860633202\n"
     ]
    }
   ],
   "source": [
    "X_train, X_test, y_train, y_test = train_test_split(X_sel, y_trans, test_size=0.2, random_state=42)\n",
    "\n",
    "def objective(trial):\n",
    "    # Hyperparameters to tune\n",
    "    params = {\n",
    "        'objective': 'binary',\n",
    "        'boosting_type': 'dart',\n",
    "        'num_leaves': trial.suggest_int('num_leaves', 20, 250),\n",
    "        'learning_rate': trial.suggest_float('learning_rate', 0.01, 0.4),\n",
    "        'feature_fraction': trial.suggest_float('feature_fraction', 0.5, 1.0),\n",
    "        'bagging_fraction': trial.suggest_float('bagging_fraction', 0.5, 1.0),\n",
    "        'bagging_freq': trial.suggest_int('bagging_freq', 1, 7),\n",
    "        'min_child_samples': trial.suggest_int('min_child_samples', 5, 100),\n",
    "        'verbose': -1\n",
    "    }\n",
    "\n",
    "    model = lgb.LGBMClassifier(**params)\n",
    "    model.fit(X_train, y_train)\n",
    "\n",
    "    y_pred = model.predict(X_test)\n",
    "    error = matthews_corrcoef(y_test, y_pred)\n",
    "    return error\n",
    "\n",
    "study = optuna.create_study(direction='maximize')\n",
    "study.optimize(objective, n_trials=100)  \n",
    "\n",
    "print(f'Best params: {study.best_params}')\n",
    "print(f'Best value: {study.best_value}')"
   ]
  },
  {
   "cell_type": "code",
   "execution_count": 33,
   "metadata": {},
   "outputs": [
    {
     "data": {
      "text/plain": [
       "{'num_leaves': 236,\n",
       " 'learning_rate': 0.17745389398567907,\n",
       " 'feature_fraction': 0.5590877395748017,\n",
       " 'bagging_fraction': 0.9950711489582625,\n",
       " 'bagging_freq': 1,\n",
       " 'min_child_samples': 85}"
      ]
     },
     "execution_count": 33,
     "metadata": {},
     "output_type": "execute_result"
    }
   ],
   "source": [
    "study.best_params"
   ]
  },
  {
   "cell_type": "code",
   "execution_count": 34,
   "metadata": {},
   "outputs": [],
   "source": [
    "dart_params = {'num_leaves': 236,\n",
    " 'learning_rate': 0.17745389398567907,\n",
    " 'feature_fraction': 0.5590877395748017,\n",
    " 'bagging_fraction': 0.9950711489582625,\n",
    " 'bagging_freq': 1,\n",
    " 'min_child_samples': 85}"
   ]
  },
  {
   "cell_type": "markdown",
   "metadata": {},
   "source": [
    "### CatBoost"
   ]
  },
  {
   "cell_type": "code",
   "execution_count": 37,
   "metadata": {},
   "outputs": [
    {
     "name": "stderr",
     "output_type": "stream",
     "text": [
      "[I 2024-08-07 21:03:40,479] A new study created in memory with name: no-name-94fdccaa-222f-4368-a30b-afcf4c55892b\n",
      "[I 2024-08-07 21:03:46,071] Trial 0 finished with value: 0.9827905787185568 and parameters: {'iterations': 86, 'learning_rate': 0.12372378642345407, 'depth': 9, 'border_count': 38}. Best is trial 0 with value: 0.9827905787185568.\n",
      "[I 2024-08-07 21:03:52,545] Trial 1 finished with value: 0.9829335600674758 and parameters: {'iterations': 194, 'learning_rate': 0.19307174605801988, 'depth': 6, 'border_count': 127}. Best is trial 1 with value: 0.9829335600674758.\n",
      "[I 2024-08-07 21:03:56,328] Trial 2 finished with value: 0.9725085354418537 and parameters: {'iterations': 121, 'learning_rate': 0.09587399866142422, 'depth': 5, 'border_count': 89}. Best is trial 1 with value: 0.9829335600674758.\n",
      "[I 2024-08-07 21:04:07,004] Trial 3 finished with value: 0.9835781902214972 and parameters: {'iterations': 122, 'learning_rate': 0.25999346455913347, 'depth': 11, 'border_count': 34}. Best is trial 3 with value: 0.9835781902214972.\n",
      "[I 2024-08-07 21:04:12,889] Trial 4 finished with value: 0.9836192694515781 and parameters: {'iterations': 119, 'learning_rate': 0.15431776160448107, 'depth': 9, 'border_count': 70}. Best is trial 4 with value: 0.9836192694515781.\n",
      "[I 2024-08-07 21:04:17,036] Trial 5 finished with value: 0.9780757790616 and parameters: {'iterations': 143, 'learning_rate': 0.08011165182422017, 'depth': 6, 'border_count': 70}. Best is trial 4 with value: 0.9836192694515781.\n",
      "[I 2024-08-07 21:04:21,861] Trial 6 finished with value: 0.98317289862929 and parameters: {'iterations': 137, 'learning_rate': 0.24159215336128667, 'depth': 8, 'border_count': 83}. Best is trial 4 with value: 0.9836192694515781.\n",
      "[I 2024-08-07 21:04:25,945] Trial 7 finished with value: 0.978055236685425 and parameters: {'iterations': 163, 'learning_rate': 0.11806571802509286, 'depth': 5, 'border_count': 65}. Best is trial 4 with value: 0.9836192694515781.\n",
      "[I 2024-08-07 21:04:35,701] Trial 8 finished with value: 0.9759488363013927 and parameters: {'iterations': 188, 'learning_rate': 0.013734161066715725, 'depth': 10, 'border_count': 63}. Best is trial 4 with value: 0.9836192694515781.\n",
      "[I 2024-08-07 21:04:41,703] Trial 9 finished with value: 0.9836575438277207 and parameters: {'iterations': 166, 'learning_rate': 0.2510014827840957, 'depth': 9, 'border_count': 100}. Best is trial 9 with value: 0.9836575438277207.\n",
      "[I 2024-08-07 21:05:05,562] Trial 10 finished with value: 0.9836180249975927 and parameters: {'iterations': 164, 'learning_rate': 0.29374003743325966, 'depth': 12, 'border_count': 113}. Best is trial 9 with value: 0.9836575438277207.\n",
      "[I 2024-08-07 21:05:09,285] Trial 11 finished with value: 0.9829752797719193 and parameters: {'iterations': 92, 'learning_rate': 0.19730514198228458, 'depth': 8, 'border_count': 102}. Best is trial 9 with value: 0.9836575438277207.\n",
      "[I 2024-08-07 21:05:16,105] Trial 12 finished with value: 0.9835376552258978 and parameters: {'iterations': 166, 'learning_rate': 0.17614141273870498, 'depth': 9, 'border_count': 98}. Best is trial 9 with value: 0.9836575438277207.\n",
      "[I 2024-08-07 21:05:20,246] Trial 13 finished with value: 0.9826894206169856 and parameters: {'iterations': 107, 'learning_rate': 0.23770119159315078, 'depth': 7, 'border_count': 52}. Best is trial 9 with value: 0.9836575438277207.\n",
      "[I 2024-08-07 21:05:28,330] Trial 14 finished with value: 0.9834155512130738 and parameters: {'iterations': 145, 'learning_rate': 0.14992704396122736, 'depth': 10, 'border_count': 76}. Best is trial 9 with value: 0.9836575438277207.\n",
      "[I 2024-08-07 21:05:39,126] Trial 15 finished with value: 0.9831147031450912 and parameters: {'iterations': 181, 'learning_rate': 0.06385500397580908, 'depth': 10, 'border_count': 112}. Best is trial 9 with value: 0.9836575438277207.\n",
      "[I 2024-08-07 21:05:52,122] Trial 16 finished with value: 0.9840619736423387 and parameters: {'iterations': 107, 'learning_rate': 0.2117483878517612, 'depth': 12, 'border_count': 49}. Best is trial 16 with value: 0.9840619736423387.\n",
      "[I 2024-08-07 21:06:04,565] Trial 17 finished with value: 0.9832542808617186 and parameters: {'iterations': 101, 'learning_rate': 0.2862299427767164, 'depth': 12, 'border_count': 51}. Best is trial 16 with value: 0.9840619736423387.\n",
      "[I 2024-08-07 21:06:15,373] Trial 18 finished with value: 0.9835364646519146 and parameters: {'iterations': 134, 'learning_rate': 0.22023671631590522, 'depth': 11, 'border_count': 49}. Best is trial 16 with value: 0.9840619736423387.\n",
      "[I 2024-08-07 21:06:20,608] Trial 19 finished with value: 0.9794487890690053 and parameters: {'iterations': 155, 'learning_rate': 0.26203744825509906, 'depth': 4, 'border_count': 92}. Best is trial 16 with value: 0.9840619736423387.\n",
      "[I 2024-08-07 21:06:34,195] Trial 20 finished with value: 0.98349577885939 and parameters: {'iterations': 180, 'learning_rate': 0.20087902389670437, 'depth': 11, 'border_count': 118}. Best is trial 16 with value: 0.9840619736423387.\n",
      "[I 2024-08-07 21:06:38,572] Trial 21 finished with value: 0.9829742988533374 and parameters: {'iterations': 115, 'learning_rate': 0.15633863863288838, 'depth': 8, 'border_count': 58}. Best is trial 16 with value: 0.9840619736423387.\n",
      "[I 2024-08-07 21:06:42,705] Trial 22 finished with value: 0.9834976514261085 and parameters: {'iterations': 102, 'learning_rate': 0.225285010362358, 'depth': 9, 'border_count': 80}. Best is trial 16 with value: 0.9840619736423387.\n",
      "[I 2024-08-07 21:06:46,783] Trial 23 finished with value: 0.9826890788878754 and parameters: {'iterations': 128, 'learning_rate': 0.1627561759751452, 'depth': 7, 'border_count': 42}. Best is trial 16 with value: 0.9840619736423387.\n",
      "[I 2024-08-07 21:06:51,297] Trial 24 finished with value: 0.9829333717258856 and parameters: {'iterations': 113, 'learning_rate': 0.2671045998408416, 'depth': 9, 'border_count': 72}. Best is trial 16 with value: 0.9840619736423387.\n",
      "[I 2024-08-07 21:07:02,644] Trial 25 finished with value: 0.9831751482036107 and parameters: {'iterations': 81, 'learning_rate': 0.13344470046652143, 'depth': 12, 'border_count': 104}. Best is trial 16 with value: 0.9840619736423387.\n",
      "[I 2024-08-07 21:07:11,608] Trial 26 finished with value: 0.9835967596583416 and parameters: {'iterations': 153, 'learning_rate': 0.21747232090852375, 'depth': 10, 'border_count': 87}. Best is trial 16 with value: 0.9840619736423387.\n",
      "[I 2024-08-07 21:07:15,015] Trial 27 finished with value: 0.9818455014255169 and parameters: {'iterations': 94, 'learning_rate': 0.17890261861369772, 'depth': 7, 'border_count': 44}. Best is trial 16 with value: 0.9840619736423387.\n",
      "[I 2024-08-07 21:07:24,936] Trial 28 finished with value: 0.9836810306032647 and parameters: {'iterations': 126, 'learning_rate': 0.21125467020539757, 'depth': 11, 'border_count': 61}. Best is trial 16 with value: 0.9840619736423387.\n",
      "[I 2024-08-07 21:07:34,689] Trial 29 finished with value: 0.9832544504043982 and parameters: {'iterations': 130, 'learning_rate': 0.24605593203600182, 'depth': 11, 'border_count': 32}. Best is trial 16 with value: 0.9840619736423387.\n",
      "[I 2024-08-07 21:07:59,846] Trial 30 finished with value: 0.9832541129185852 and parameters: {'iterations': 174, 'learning_rate': 0.2778253325783435, 'depth': 12, 'border_count': 58}. Best is trial 16 with value: 0.9840619736423387.\n",
      "[I 2024-08-07 21:08:06,764] Trial 31 finished with value: 0.9830734420662711 and parameters: {'iterations': 121, 'learning_rate': 0.21446301065103585, 'depth': 9, 'border_count': 59}. Best is trial 16 with value: 0.9840619736423387.\n",
      "[I 2024-08-07 21:08:15,743] Trial 32 finished with value: 0.9836575438277207 and parameters: {'iterations': 108, 'learning_rate': 0.18821163018471285, 'depth': 11, 'border_count': 68}. Best is trial 16 with value: 0.9840619736423387.\n",
      "[I 2024-08-07 21:08:24,800] Trial 33 finished with value: 0.9830942491402498 and parameters: {'iterations': 108, 'learning_rate': 0.18208398646229915, 'depth': 11, 'border_count': 65}. Best is trial 16 with value: 0.9840619736423387.\n",
      "[I 2024-08-07 21:08:37,841] Trial 34 finished with value: 0.983112938447823 and parameters: {'iterations': 90, 'learning_rate': 0.20273378859778052, 'depth': 12, 'border_count': 42}. Best is trial 16 with value: 0.9840619736423387.\n",
      "[I 2024-08-07 21:08:50,150] Trial 35 finished with value: 0.9835168705417443 and parameters: {'iterations': 126, 'learning_rate': 0.24767210415339158, 'depth': 11, 'border_count': 78}. Best is trial 16 with value: 0.9840619736423387.\n",
      "[I 2024-08-07 21:08:57,842] Trial 36 finished with value: 0.9833959643693385 and parameters: {'iterations': 111, 'learning_rate': 0.22711023760256097, 'depth': 10, 'border_count': 123}. Best is trial 16 with value: 0.9840619736423387.\n",
      "[I 2024-08-07 21:09:14,622] Trial 37 finished with value: 0.98379888481426 and parameters: {'iterations': 200, 'learning_rate': 0.18378435644879174, 'depth': 11, 'border_count': 73}. Best is trial 16 with value: 0.9840619736423387.\n",
      "[I 2024-08-07 21:09:36,452] Trial 38 finished with value: 0.9837803387410308 and parameters: {'iterations': 151, 'learning_rate': 0.12520837449623404, 'depth': 12, 'border_count': 94}. Best is trial 16 with value: 0.9840619736423387.\n",
      "[I 2024-08-07 21:10:02,890] Trial 39 finished with value: 0.9840814023603196 and parameters: {'iterations': 195, 'learning_rate': 0.11983607560106642, 'depth': 12, 'border_count': 91}. Best is trial 39 with value: 0.9840814023603196.\n",
      "[I 2024-08-07 21:10:29,072] Trial 40 finished with value: 0.9841430352030918 and parameters: {'iterations': 200, 'learning_rate': 0.10571921323669281, 'depth': 12, 'border_count': 96}. Best is trial 40 with value: 0.9841430352030918.\n",
      "[I 2024-08-07 21:10:56,413] Trial 41 finished with value: 0.9840015207616137 and parameters: {'iterations': 200, 'learning_rate': 0.10268630623480782, 'depth': 12, 'border_count': 94}. Best is trial 40 with value: 0.9841430352030918.\n",
      "[I 2024-08-07 21:11:23,558] Trial 42 finished with value: 0.9842634321676351 and parameters: {'iterations': 199, 'learning_rate': 0.08534124405244262, 'depth': 12, 'border_count': 85}. Best is trial 42 with value: 0.9842634321676351.\n",
      "[I 2024-08-07 21:11:49,933] Trial 43 finished with value: 0.9838406088362981 and parameters: {'iterations': 192, 'learning_rate': 0.09767716538576228, 'depth': 12, 'border_count': 87}. Best is trial 42 with value: 0.9842634321676351.\n",
      "[I 2024-08-07 21:12:17,306] Trial 44 finished with value: 0.983477029473878 and parameters: {'iterations': 200, 'learning_rate': 0.05453742476560229, 'depth': 12, 'border_count': 107}. Best is trial 42 with value: 0.9842634321676351.\n",
      "[I 2024-08-07 21:12:42,004] Trial 45 finished with value: 0.9837600700098833 and parameters: {'iterations': 186, 'learning_rate': 0.09902626643499385, 'depth': 12, 'border_count': 96}. Best is trial 42 with value: 0.9842634321676351.\n",
      "[I 2024-08-07 21:13:08,934] Trial 46 finished with value: 0.9839419513594269 and parameters: {'iterations': 194, 'learning_rate': 0.11064759106574425, 'depth': 12, 'border_count': 85}. Best is trial 42 with value: 0.9842634321676351.\n",
      "[I 2024-08-07 21:13:35,295] Trial 47 finished with value: 0.9838394094086532 and parameters: {'iterations': 187, 'learning_rate': 0.078107810133969, 'depth': 12, 'border_count': 91}. Best is trial 42 with value: 0.9842634321676351.\n",
      "[I 2024-08-07 21:13:49,315] Trial 48 finished with value: 0.9834180394987106 and parameters: {'iterations': 194, 'learning_rate': 0.05092454660233006, 'depth': 11, 'border_count': 82}. Best is trial 42 with value: 0.9842634321676351.\n",
      "[I 2024-08-07 21:13:59,279] Trial 49 finished with value: 0.9835173882146387 and parameters: {'iterations': 173, 'learning_rate': 0.13963455123967541, 'depth': 10, 'border_count': 109}. Best is trial 42 with value: 0.9842634321676351.\n",
      "[I 2024-08-07 21:14:27,251] Trial 50 finished with value: 0.9811979880855972 and parameters: {'iterations': 181, 'learning_rate': 0.026889046429910163, 'depth': 12, 'border_count': 101}. Best is trial 42 with value: 0.9842634321676351.\n",
      "[I 2024-08-07 21:14:55,695] Trial 51 finished with value: 0.9840431186030587 and parameters: {'iterations': 195, 'learning_rate': 0.1070870022487934, 'depth': 12, 'border_count': 85}. Best is trial 42 with value: 0.9842634321676351.\n",
      "[I 2024-08-07 21:15:20,693] Trial 52 finished with value: 0.9839204624897252 and parameters: {'iterations': 197, 'learning_rate': 0.08254113143874905, 'depth': 12, 'border_count': 89}. Best is trial 42 with value: 0.9842634321676351.\n",
      "[I 2024-08-07 21:15:43,682] Trial 53 finished with value: 0.9839410685080225 and parameters: {'iterations': 190, 'learning_rate': 0.1095018851897698, 'depth': 12, 'border_count': 96}. Best is trial 42 with value: 0.9842634321676351.\n",
      "[I 2024-08-07 21:16:05,336] Trial 54 finished with value: 0.9838799353004196 and parameters: {'iterations': 196, 'learning_rate': 0.08668642747687264, 'depth': 11, 'border_count': 76}. Best is trial 42 with value: 0.9842634321676351.\n",
      "[I 2024-08-07 21:16:29,864] Trial 55 finished with value: 0.9839012350546653 and parameters: {'iterations': 184, 'learning_rate': 0.11968118655409966, 'depth': 12, 'border_count': 82}. Best is trial 42 with value: 0.9842634321676351.\n",
      "[I 2024-08-07 21:16:35,124] Trial 56 finished with value: 0.9780562188579874 and parameters: {'iterations': 178, 'learning_rate': 0.10621418489469316, 'depth': 5, 'border_count': 92}. Best is trial 42 with value: 0.9842634321676351.\n",
      "[I 2024-08-07 21:16:46,646] Trial 57 finished with value: 0.9838809672747013 and parameters: {'iterations': 190, 'learning_rate': 0.14302394337847316, 'depth': 10, 'border_count': 99}. Best is trial 42 with value: 0.9842634321676351.\n",
      "[I 2024-08-07 21:17:01,659] Trial 58 finished with value: 0.983862349280079 and parameters: {'iterations': 200, 'learning_rate': 0.07002882859188142, 'depth': 11, 'border_count': 106}. Best is trial 42 with value: 0.9842634321676351.\n",
      "[I 2024-08-07 21:17:08,732] Trial 59 finished with value: 0.981401168894856 and parameters: {'iterations': 172, 'learning_rate': 0.12671862557342, 'depth': 6, 'border_count': 87}. Best is trial 42 with value: 0.9842634321676351.\n",
      "[I 2024-08-07 21:17:24,114] Trial 60 finished with value: 0.9835570605301991 and parameters: {'iterations': 185, 'learning_rate': 0.16443675716124398, 'depth': 11, 'border_count': 83}. Best is trial 42 with value: 0.9842634321676351.\n",
      "[I 2024-08-07 21:17:47,740] Trial 61 finished with value: 0.9838802728899638 and parameters: {'iterations': 194, 'learning_rate': 0.10967618774619738, 'depth': 12, 'border_count': 84}. Best is trial 42 with value: 0.9842634321676351.\n",
      "[I 2024-08-07 21:18:12,745] Trial 62 finished with value: 0.9838402581407242 and parameters: {'iterations': 195, 'learning_rate': 0.09288311579301509, 'depth': 12, 'border_count': 95}. Best is trial 42 with value: 0.9842634321676351.\n",
      "[I 2024-08-07 21:18:37,374] Trial 63 finished with value: 0.9838402581407242 and parameters: {'iterations': 191, 'learning_rate': 0.11476225351384581, 'depth': 12, 'border_count': 90}. Best is trial 42 with value: 0.9842634321676351.\n",
      "[I 2024-08-07 21:19:02,150] Trial 64 finished with value: 0.9837403431813412 and parameters: {'iterations': 198, 'learning_rate': 0.07006276543656367, 'depth': 12, 'border_count': 77}. Best is trial 42 with value: 0.9842634321676351.\n",
      "[I 2024-08-07 21:19:18,128] Trial 65 finished with value: 0.9842644603203665 and parameters: {'iterations': 188, 'learning_rate': 0.13167139351484006, 'depth': 11, 'border_count': 87}. Best is trial 65 with value: 0.9842644603203665.\n",
      "[I 2024-08-07 21:19:24,565] Trial 66 finished with value: 0.973684805783711 and parameters: {'iterations': 176, 'learning_rate': 0.13340784012885476, 'depth': 4, 'border_count': 98}. Best is trial 65 with value: 0.9842644603203665.\n",
      "[I 2024-08-07 21:19:37,437] Trial 67 finished with value: 0.9836187265146755 and parameters: {'iterations': 170, 'learning_rate': 0.1516491622699168, 'depth': 11, 'border_count': 103}. Best is trial 65 with value: 0.9842644603203665.\n",
      "[I 2024-08-07 21:19:52,614] Trial 68 finished with value: 0.9840824105852883 and parameters: {'iterations': 183, 'learning_rate': 0.16797420337250163, 'depth': 11, 'border_count': 79}. Best is trial 65 with value: 0.9842644603203665.\n",
      "[I 2024-08-07 21:20:06,517] Trial 69 finished with value: 0.9842849054324642 and parameters: {'iterations': 159, 'learning_rate': 0.17379868130781356, 'depth': 11, 'border_count': 80}. Best is trial 69 with value: 0.9842849054324642.\n",
      "[I 2024-08-07 21:20:16,223] Trial 70 finished with value: 0.9834765113469462 and parameters: {'iterations': 161, 'learning_rate': 0.17105228740689984, 'depth': 10, 'border_count': 69}. Best is trial 69 with value: 0.9842849054324642.\n",
      "[I 2024-08-07 21:20:28,853] Trial 71 finished with value: 0.9841631280668097 and parameters: {'iterations': 182, 'learning_rate': 0.14298947103344578, 'depth': 11, 'border_count': 80}. Best is trial 69 with value: 0.9842849054324642.\n",
      "[I 2024-08-07 21:20:42,374] Trial 72 finished with value: 0.9836994432403868 and parameters: {'iterations': 182, 'learning_rate': 0.15941945990319872, 'depth': 11, 'border_count': 80}. Best is trial 69 with value: 0.9842849054324642.\n",
      "[I 2024-08-07 21:20:50,199] Trial 73 finished with value: 0.9836984023802224 and parameters: {'iterations': 140, 'learning_rate': 0.14530491660076045, 'depth': 10, 'border_count': 54}. Best is trial 69 with value: 0.9842849054324642.\n",
      "[I 2024-08-07 21:21:01,700] Trial 74 finished with value: 0.9835984582058784 and parameters: {'iterations': 159, 'learning_rate': 0.1293991657513705, 'depth': 11, 'border_count': 73}. Best is trial 69 with value: 0.9842849054324642.\n",
      "[I 2024-08-07 21:21:15,207] Trial 75 finished with value: 0.9838797689064771 and parameters: {'iterations': 166, 'learning_rate': 0.1413987068301693, 'depth': 11, 'border_count': 66}. Best is trial 69 with value: 0.9842849054324642.\n",
      "[I 2024-08-07 21:21:24,746] Trial 76 finished with value: 0.9837615520143227 and parameters: {'iterations': 148, 'learning_rate': 0.1706579540071581, 'depth': 10, 'border_count': 80}. Best is trial 69 with value: 0.9842849054324642.\n",
      "[I 2024-08-07 21:21:40,152] Trial 77 finished with value: 0.9835988171151401 and parameters: {'iterations': 168, 'learning_rate': 0.15235196806832624, 'depth': 11, 'border_count': 75}. Best is trial 69 with value: 0.9842849054324642.\n",
      "[I 2024-08-07 21:21:56,560] Trial 78 finished with value: 0.9835568929238859 and parameters: {'iterations': 188, 'learning_rate': 0.1976120941793601, 'depth': 11, 'border_count': 87}. Best is trial 69 with value: 0.9842849054324642.\n",
      "[I 2024-08-07 21:22:09,265] Trial 79 finished with value: 0.9838411468817221 and parameters: {'iterations': 178, 'learning_rate': 0.19035105463069685, 'depth': 11, 'border_count': 79}. Best is trial 69 with value: 0.9842849054324642.\n",
      "[I 2024-08-07 21:22:18,325] Trial 80 finished with value: 0.9838022952947287 and parameters: {'iterations': 157, 'learning_rate': 0.1194958397968235, 'depth': 10, 'border_count': 114}. Best is trial 69 with value: 0.9842849054324642.\n",
      "[I 2024-08-07 21:22:39,709] Trial 81 finished with value: 0.9838022952947287 and parameters: {'iterations': 191, 'learning_rate': 0.09146480459158512, 'depth': 12, 'border_count': 85}. Best is trial 69 with value: 0.9842849054324642.\n",
      "[I 2024-08-07 21:22:59,886] Trial 82 finished with value: 0.9839807504584815 and parameters: {'iterations': 183, 'learning_rate': 0.13128391481322974, 'depth': 12, 'border_count': 93}. Best is trial 69 with value: 0.9842849054324642.\n",
      "[I 2024-08-07 21:23:20,486] Trial 83 finished with value: 0.9839001987328698 and parameters: {'iterations': 188, 'learning_rate': 0.13650640059304553, 'depth': 12, 'border_count': 89}. Best is trial 69 with value: 0.9842849054324642.\n",
      "[I 2024-08-07 21:23:36,283] Trial 84 finished with value: 0.9836178536183393 and parameters: {'iterations': 197, 'learning_rate': 0.23418865645665476, 'depth': 11, 'border_count': 71}. Best is trial 69 with value: 0.9842849054324642.\n",
      "[I 2024-08-07 21:24:00,309] Trial 85 finished with value: 0.9838605245470678 and parameters: {'iterations': 193, 'learning_rate': 0.12290596822147784, 'depth': 12, 'border_count': 82}. Best is trial 69 with value: 0.9842849054324642.\n",
      "[I 2024-08-07 21:24:10,897] Trial 86 finished with value: 0.9836795333877664 and parameters: {'iterations': 80, 'learning_rate': 0.14720157276818896, 'depth': 12, 'border_count': 48}. Best is trial 69 with value: 0.9842849054324642.\n",
      "[I 2024-08-07 21:24:24,699] Trial 87 finished with value: 0.9840425780211569 and parameters: {'iterations': 186, 'learning_rate': 0.1689732236697941, 'depth': 11, 'border_count': 89}. Best is trial 69 with value: 0.9842849054324642.\n",
      "[I 2024-08-07 21:24:47,148] Trial 88 finished with value: 0.9841839208591372 and parameters: {'iterations': 176, 'learning_rate': 0.10230671690343346, 'depth': 12, 'border_count': 38}. Best is trial 69 with value: 0.9842849054324642.\n",
      "[I 2024-08-07 21:25:10,616] Trial 89 finished with value: 0.983516533426062 and parameters: {'iterations': 177, 'learning_rate': 0.20593570131861463, 'depth': 12, 'border_count': 37}. Best is trial 69 with value: 0.9842849054324642.\n",
      "[I 2024-08-07 21:25:23,026] Trial 90 finished with value: 0.9840226674810917 and parameters: {'iterations': 181, 'learning_rate': 0.10058708034730254, 'depth': 11, 'border_count': 36}. Best is trial 69 with value: 0.9842849054324642.\n",
      "[I 2024-08-07 21:25:34,817] Trial 91 finished with value: 0.9830544450031149 and parameters: {'iterations': 97, 'learning_rate': 0.114508625824658, 'depth': 12, 'border_count': 32}. Best is trial 69 with value: 0.9842849054324642.\n",
      "[I 2024-08-07 21:25:58,692] Trial 92 finished with value: 0.9839832315269299 and parameters: {'iterations': 189, 'learning_rate': 0.08682762973361345, 'depth': 12, 'border_count': 44}. Best is trial 69 with value: 0.9842849054324642.\n",
      "[I 2024-08-07 21:26:23,885] Trial 93 finished with value: 0.9840022197338322 and parameters: {'iterations': 197, 'learning_rate': 0.07447848098176832, 'depth': 12, 'border_count': 85}. Best is trial 69 with value: 0.9842849054324642.\n",
      "[I 2024-08-07 21:26:37,333] Trial 94 finished with value: 0.9833367640821308 and parameters: {'iterations': 184, 'learning_rate': 0.05649040263025719, 'depth': 11, 'border_count': 40}. Best is trial 69 with value: 0.9842849054324642.\n",
      "[I 2024-08-07 21:26:51,757] Trial 95 finished with value: 0.9835979318412174 and parameters: {'iterations': 117, 'learning_rate': 0.09488748357408987, 'depth': 12, 'border_count': 74}. Best is trial 69 with value: 0.9842849054324642.\n",
      "[I 2024-08-07 21:27:05,089] Trial 96 finished with value: 0.9840429368085639 and parameters: {'iterations': 192, 'learning_rate': 0.10532892662738877, 'depth': 11, 'border_count': 78}. Best is trial 69 with value: 0.9842849054324642.\n",
      "[I 2024-08-07 21:27:25,769] Trial 97 finished with value: 0.9837001691483385 and parameters: {'iterations': 175, 'learning_rate': 0.17843256068449553, 'depth': 12, 'border_count': 98}. Best is trial 69 with value: 0.9842849054324642.\n",
      "[I 2024-08-07 21:27:48,154] Trial 98 finished with value: 0.9840838445263899 and parameters: {'iterations': 179, 'learning_rate': 0.12569725224447686, 'depth': 12, 'border_count': 55}. Best is trial 69 with value: 0.9842849054324642.\n",
      "[I 2024-08-07 21:27:53,677] Trial 99 finished with value: 0.9831359204654836 and parameters: {'iterations': 179, 'learning_rate': 0.1569777566677598, 'depth': 7, 'border_count': 47}. Best is trial 69 with value: 0.9842849054324642.\n"
     ]
    },
    {
     "name": "stdout",
     "output_type": "stream",
     "text": [
      "Best params: {'iterations': 159, 'learning_rate': 0.17379868130781356, 'depth': 11, 'border_count': 80}\n",
      "Best value: 0.9842849054324642\n"
     ]
    }
   ],
   "source": [
    "X_train, X_test, y_train, y_test = train_test_split(X_sel, y_trans, test_size=0.2, random_state=42)\n",
    "\n",
    "def objective(trial):\n",
    "    # Hyperparameters to tune\n",
    "    params = {\n",
    "        'iterations': trial.suggest_int('iterations', 80, 200),\n",
    "        'learning_rate': trial.suggest_float('learning_rate', 0.01, 0.3),\n",
    "        'depth': trial.suggest_int('depth', 4, 12),\n",
    "        'border_count': trial.suggest_int('border_count', 32, 128),\n",
    "        'verbose': 0  # Set verbose to 0 to prevent printing output during training\n",
    "    }\n",
    "\n",
    "    model = cb.CatBoostClassifier(**params)\n",
    "    model.fit(X_train, y_train)\n",
    "\n",
    "    y_pred = model.predict(X_test)\n",
    "    error = matthews_corrcoef(y_test, y_pred)\n",
    "    return error\n",
    "\n",
    "study = optuna.create_study(direction='maximize')\n",
    "study.optimize(objective, n_trials=100)  \n",
    "\n",
    "print(f'Best params: {study.best_params}')\n",
    "print(f'Best value: {study.best_value}')"
   ]
  },
  {
   "cell_type": "code",
   "execution_count": 38,
   "metadata": {},
   "outputs": [],
   "source": [
    "catboost_params = {'iterations': 159, 'learning_rate': 0.17379868130781356, 'depth': 11, 'border_count': 80}"
   ]
  },
  {
   "cell_type": "markdown",
   "metadata": {},
   "source": [
    "### HistGradientClassifier"
   ]
  },
  {
   "cell_type": "code",
   "execution_count": 22,
   "metadata": {},
   "outputs": [],
   "source": [
    "from sklearn.ensemble import HistGradientBoostingClassifier"
   ]
  },
  {
   "cell_type": "code",
   "execution_count": 25,
   "metadata": {},
   "outputs": [
    {
     "name": "stderr",
     "output_type": "stream",
     "text": [
      "[I 2024-08-08 16:19:05,955] A new study created in memory with name: no-name-36c1864d-b4ef-4d97-bfe8-eeab0c9f345f\n",
      "[I 2024-08-08 16:19:22,798] Trial 0 finished with value: 0.9835562384996367 and parameters: {'max_iter': 195, 'learning_rate': 0.23891711869376503, 'max_depth': 7, 'min_samples_leaf': 22, 'l2_regularization': 0.48258161534011546}. Best is trial 0 with value: 0.9835562384996367.\n",
      "[I 2024-08-08 16:19:37,418] Trial 1 finished with value: 0.9831950539873359 and parameters: {'max_iter': 162, 'learning_rate': 0.2228505172165706, 'max_depth': 11, 'min_samples_leaf': 63, 'l2_regularization': 0.8130580254735029}. Best is trial 0 with value: 0.9835562384996367.\n",
      "[I 2024-08-08 16:19:57,422] Trial 2 finished with value: 0.9494900510374813 and parameters: {'max_iter': 198, 'learning_rate': 0.014478307284649654, 'max_depth': 10, 'min_samples_leaf': 26, 'l2_regularization': 0.15416961340944146}. Best is trial 0 with value: 0.9835562384996367.\n",
      "[I 2024-08-08 16:20:04,169] Trial 3 finished with value: 0.8459559190939377 and parameters: {'max_iter': 94, 'learning_rate': 0.024164866551793007, 'max_depth': 5, 'min_samples_leaf': 77, 'l2_regularization': 0.3108887976640759}. Best is trial 0 with value: 0.9835562384996367.\n",
      "[I 2024-08-08 16:20:12,387] Trial 4 finished with value: 0.9660093428013344 and parameters: {'max_iter': 161, 'learning_rate': 0.16448350454465066, 'max_depth': 4, 'min_samples_leaf': 51, 'l2_regularization': 0.11699073066902477}. Best is trial 0 with value: 0.9835562384996367.\n",
      "[I 2024-08-08 16:20:24,622] Trial 5 finished with value: 0.9829731745048179 and parameters: {'max_iter': 176, 'learning_rate': 0.2039703019745248, 'max_depth': 8, 'min_samples_leaf': 15, 'l2_regularization': 0.6881601210171042}. Best is trial 0 with value: 0.9835562384996367.\n",
      "[I 2024-08-08 16:20:33,342] Trial 6 finished with value: 0.9675678562269961 and parameters: {'max_iter': 96, 'learning_rate': 0.07028336152503072, 'max_depth': 8, 'min_samples_leaf': 21, 'l2_regularization': 0.871507363855119}. Best is trial 0 with value: 0.9835562384996367.\n",
      "[I 2024-08-08 16:20:46,875] Trial 7 finished with value: 0.9818242140449254 and parameters: {'max_iter': 146, 'learning_rate': 0.10710926188253701, 'max_depth': 12, 'min_samples_leaf': 54, 'l2_regularization': 0.7586589465358964}. Best is trial 0 with value: 0.9835562384996367.\n",
      "[I 2024-08-08 16:20:59,444] Trial 8 finished with value: 0.97980718443682 and parameters: {'max_iter': 182, 'learning_rate': 0.12671393605049452, 'max_depth': 6, 'min_samples_leaf': 35, 'l2_regularization': 0.6945596934521705}. Best is trial 0 with value: 0.9835562384996367.\n",
      "[I 2024-08-08 16:21:13,979] Trial 9 finished with value: 0.9447614198408334 and parameters: {'max_iter': 179, 'learning_rate': 0.04641235330766395, 'max_depth': 5, 'min_samples_leaf': 65, 'l2_regularization': 0.09650795178883739}. Best is trial 0 with value: 0.9835562384996367.\n",
      "[I 2024-08-08 16:21:26,272] Trial 10 finished with value: 0.9830711260972433 and parameters: {'max_iter': 118, 'learning_rate': 0.29958219686082166, 'max_depth': 7, 'min_samples_leaf': 36, 'l2_regularization': 0.4633286343798186}. Best is trial 0 with value: 0.9835562384996367.\n",
      "[I 2024-08-08 16:21:42,185] Trial 11 finished with value: 0.9834768551650983 and parameters: {'max_iter': 140, 'learning_rate': 0.24256586057443155, 'max_depth': 10, 'min_samples_leaf': 65, 'l2_regularization': 0.9698871867034797}. Best is trial 0 with value: 0.9835562384996367.\n",
      "[I 2024-08-08 16:21:54,114] Trial 12 finished with value: 0.9830942491402498 and parameters: {'max_iter': 130, 'learning_rate': 0.2812402789670975, 'max_depth': 10, 'min_samples_leaf': 76, 'l2_regularization': 0.48330798736779246}. Best is trial 0 with value: 0.9835562384996367.\n",
      "[I 2024-08-08 16:22:03,893] Trial 13 finished with value: 0.983173062077134 and parameters: {'max_iter': 127, 'learning_rate': 0.24411353419935214, 'max_depth': 9, 'min_samples_leaf': 36, 'l2_regularization': 0.9734390249696908}. Best is trial 0 with value: 0.9835562384996367.\n",
      "[I 2024-08-08 16:22:14,626] Trial 14 finished with value: 0.9827107545394381 and parameters: {'max_iter': 148, 'learning_rate': 0.18638959617999862, 'max_depth': 7, 'min_samples_leaf': 10, 'l2_regularization': 0.3408567879829063}. Best is trial 0 with value: 0.9835562384996367.\n",
      "[I 2024-08-08 16:22:23,898] Trial 15 finished with value: 0.9825487784363822 and parameters: {'max_iter': 113, 'learning_rate': 0.24786421934309907, 'max_depth': 9, 'min_samples_leaf': 62, 'l2_regularization': 0.5902167363814508}. Best is trial 0 with value: 0.9835562384996367.\n",
      "[I 2024-08-08 16:22:34,031] Trial 16 finished with value: 0.9834569378956052 and parameters: {'max_iter': 199, 'learning_rate': 0.2654913429742192, 'max_depth': 12, 'min_samples_leaf': 45, 'l2_regularization': 0.3310651542839418}. Best is trial 0 with value: 0.9835562384996367.\n",
      "[I 2024-08-08 16:22:45,452] Trial 17 finished with value: 0.9830131710259512 and parameters: {'max_iter': 156, 'learning_rate': 0.22031299910021257, 'max_depth': 10, 'min_samples_leaf': 27, 'l2_regularization': 0.9785742136164136}. Best is trial 0 with value: 0.9835562384996367.\n",
      "[I 2024-08-08 16:22:55,594] Trial 18 finished with value: 0.9812363097595996 and parameters: {'max_iter': 132, 'learning_rate': 0.16259255040481368, 'max_depth': 7, 'min_samples_leaf': 68, 'l2_regularization': 0.5807365765601158}. Best is trial 0 with value: 0.9835562384996367.\n",
      "[I 2024-08-08 16:23:03,539] Trial 19 finished with value: 0.9769281240957921 and parameters: {'max_iter': 81, 'learning_rate': 0.12298193891739909, 'max_depth': 9, 'min_samples_leaf': 52, 'l2_regularization': 0.21669643159603486}. Best is trial 0 with value: 0.9835562384996367.\n",
      "[I 2024-08-08 16:23:16,926] Trial 20 finished with value: 0.9830121243294644 and parameters: {'max_iter': 170, 'learning_rate': 0.19258481438355213, 'max_depth': 11, 'min_samples_leaf': 46, 'l2_regularization': 0.6051048991994028}. Best is trial 0 with value: 0.9835562384996367.\n",
      "[I 2024-08-08 16:23:27,321] Trial 21 finished with value: 0.9825882649761123 and parameters: {'max_iter': 196, 'learning_rate': 0.26156454416083563, 'max_depth': 12, 'min_samples_leaf': 41, 'l2_regularization': 0.37033826458011176}. Best is trial 0 with value: 0.9835562384996367.\n",
      "[I 2024-08-08 16:23:41,483] Trial 22 finished with value: 0.9830923423231696 and parameters: {'max_iter': 189, 'learning_rate': 0.2728760822810373, 'max_depth': 11, 'min_samples_leaf': 58, 'l2_regularization': 0.4328835399732207}. Best is trial 0 with value: 0.9835562384996367.\n",
      "[I 2024-08-08 16:23:53,545] Trial 23 finished with value: 0.9829491441711706 and parameters: {'max_iter': 188, 'learning_rate': 0.29255430705213276, 'max_depth': 12, 'min_samples_leaf': 71, 'l2_regularization': 0.24696343163324194}. Best is trial 0 with value: 0.9835562384996367.\n",
      "[I 2024-08-08 16:24:08,123] Trial 24 finished with value: 0.9823466292413169 and parameters: {'max_iter': 140, 'learning_rate': 0.23697701076882421, 'max_depth': 11, 'min_samples_leaf': 45, 'l2_regularization': 0.0201588736674706}. Best is trial 0 with value: 0.9835562384996367.\n",
      "[I 2024-08-08 16:24:19,308] Trial 25 finished with value: 0.9833763976516593 and parameters: {'max_iter': 169, 'learning_rate': 0.26239922311590136, 'max_depth': 10, 'min_samples_leaf': 27, 'l2_regularization': 0.5395300694252907}. Best is trial 0 with value: 0.9835562384996367.\n",
      "[I 2024-08-08 16:24:34,443] Trial 26 finished with value: 0.9829527231914261 and parameters: {'max_iter': 198, 'learning_rate': 0.21048841910747176, 'max_depth': 6, 'min_samples_leaf': 17, 'l2_regularization': 0.4112684161954739}. Best is trial 0 with value: 0.9835562384996367.\n",
      "[I 2024-08-08 16:24:47,327] Trial 27 finished with value: 0.9829538336042122 and parameters: {'max_iter': 188, 'learning_rate': 0.24442590977603404, 'max_depth': 9, 'min_samples_leaf': 33, 'l2_regularization': 0.6628457101951264}. Best is trial 0 with value: 0.9835562384996367.\n",
      "[I 2024-08-08 16:24:59,145] Trial 28 finished with value: 0.9828937775272851 and parameters: {'max_iter': 151, 'learning_rate': 0.1823121990889795, 'max_depth': 8, 'min_samples_leaf': 80, 'l2_regularization': 0.28108835398798093}. Best is trial 0 with value: 0.9835562384996367.\n",
      "[I 2024-08-08 16:25:09,871] Trial 29 finished with value: 0.9828907090476148 and parameters: {'max_iter': 166, 'learning_rate': 0.2264944772914097, 'max_depth': 12, 'min_samples_leaf': 43, 'l2_regularization': 0.9083186823277772}. Best is trial 0 with value: 0.9835562384996367.\n",
      "[I 2024-08-08 16:25:20,157] Trial 30 finished with value: 0.9832355938883214 and parameters: {'max_iter': 140, 'learning_rate': 0.2691371602514489, 'max_depth': 11, 'min_samples_leaf': 59, 'l2_regularization': 0.7843859608697423}. Best is trial 0 with value: 0.9835562384996367.\n",
      "[I 2024-08-08 16:25:32,552] Trial 31 finished with value: 0.9833355122236633 and parameters: {'max_iter': 171, 'learning_rate': 0.2562307267912056, 'max_depth': 10, 'min_samples_leaf': 25, 'l2_regularization': 0.535059825363205}. Best is trial 0 with value: 0.9835562384996367.\n",
      "[I 2024-08-08 16:25:42,365] Trial 32 finished with value: 0.9829922010093692 and parameters: {'max_iter': 192, 'learning_rate': 0.28267617124649214, 'max_depth': 9, 'min_samples_leaf': 30, 'l2_regularization': 0.5290729070862408}. Best is trial 0 with value: 0.9835562384996367.\n",
      "[I 2024-08-08 16:25:55,470] Trial 33 finished with value: 0.9829930816298295 and parameters: {'max_iter': 160, 'learning_rate': 0.2178201400715764, 'max_depth': 10, 'min_samples_leaf': 17, 'l2_regularization': 0.17989564596890417}. Best is trial 0 with value: 0.9835562384996367.\n",
      "[I 2024-08-08 16:26:08,925] Trial 34 finished with value: 0.9830741613430687 and parameters: {'max_iter': 182, 'learning_rate': 0.23178500533868446, 'max_depth': 11, 'min_samples_leaf': 40, 'l2_regularization': 0.39334313694913603}. Best is trial 0 with value: 0.9835562384996367.\n",
      "[I 2024-08-08 16:26:19,400] Trial 35 finished with value: 0.9826897687403962 and parameters: {'max_iter': 200, 'learning_rate': 0.26038259945223097, 'max_depth': 8, 'min_samples_leaf': 24, 'l2_regularization': 0.83897538732602}. Best is trial 0 with value: 0.9835562384996367.\n",
      "[I 2024-08-08 16:26:32,408] Trial 36 finished with value: 0.9826497645926797 and parameters: {'max_iter': 177, 'learning_rate': 0.2824959799331697, 'max_depth': 6, 'min_samples_leaf': 49, 'l2_regularization': 0.31765748006104144}. Best is trial 0 with value: 0.9835562384996367.\n",
      "[I 2024-08-08 16:26:43,791] Trial 37 finished with value: 0.9826105096532738 and parameters: {'max_iter': 170, 'learning_rate': 0.2001877704115755, 'max_depth': 7, 'min_samples_leaf': 10, 'l2_regularization': 0.7261195225191605}. Best is trial 0 with value: 0.9835562384996367.\n",
      "[I 2024-08-08 16:26:52,600] Trial 38 finished with value: 0.9663332535196981 and parameters: {'max_iter': 156, 'learning_rate': 0.1720236725014907, 'max_depth': 4, 'min_samples_leaf': 21, 'l2_regularization': 0.6179622661010398}. Best is trial 0 with value: 0.9835562384996367.\n",
      "[I 2024-08-08 16:27:11,570] Trial 39 finished with value: 0.9828538120427656 and parameters: {'max_iter': 184, 'learning_rate': 0.14180828493049308, 'max_depth': 10, 'min_samples_leaf': 56, 'l2_regularization': 0.5266601725895744}. Best is trial 0 with value: 0.9835562384996367.\n",
      "[I 2024-08-08 16:27:23,764] Trial 40 finished with value: 0.9833348320658295 and parameters: {'max_iter': 113, 'learning_rate': 0.2965421833447448, 'max_depth': 12, 'min_samples_leaf': 30, 'l2_regularization': 0.9248462826230445}. Best is trial 0 with value: 0.9835562384996367.\n",
      "[I 2024-08-08 16:27:35,035] Trial 41 finished with value: 0.9831143374126863 and parameters: {'max_iter': 173, 'learning_rate': 0.25423451817002574, 'max_depth': 10, 'min_samples_leaf': 22, 'l2_regularization': 0.5176233257952068}. Best is trial 0 with value: 0.9835562384996367.\n",
      "[I 2024-08-08 16:27:46,725] Trial 42 finished with value: 0.9832336841025531 and parameters: {'max_iter': 164, 'learning_rate': 0.26562273001571146, 'max_depth': 11, 'min_samples_leaf': 27, 'l2_regularization': 0.4817319854400495}. Best is trial 0 with value: 0.9835562384996367.\n",
      "[I 2024-08-08 16:28:00,275] Trial 43 finished with value: 0.9835974198764766 and parameters: {'max_iter': 195, 'learning_rate': 0.2353132321837791, 'max_depth': 10, 'min_samples_leaf': 15, 'l2_regularization': 0.6665628490753004}. Best is trial 43 with value: 0.9835974198764766.\n",
      "[I 2024-08-08 16:28:13,799] Trial 44 finished with value: 0.9835967596583416 and parameters: {'max_iter': 192, 'learning_rate': 0.23372273167052432, 'max_depth': 8, 'min_samples_leaf': 14, 'l2_regularization': 0.6539696431022083}. Best is trial 43 with value: 0.9835974198764766.\n",
      "[I 2024-08-08 16:28:30,232] Trial 45 finished with value: 0.9809787963402872 and parameters: {'max_iter': 194, 'learning_rate': 0.08847569469714459, 'max_depth': 8, 'min_samples_leaf': 14, 'l2_regularization': 0.6558726790681325}. Best is trial 43 with value: 0.9835974198764766.\n",
      "[I 2024-08-08 16:28:44,120] Trial 46 finished with value: 0.9830942491402498 and parameters: {'max_iter': 185, 'learning_rate': 0.20846974231457505, 'max_depth': 7, 'min_samples_leaf': 14, 'l2_regularization': 0.7490868515657042}. Best is trial 43 with value: 0.9835974198764766.\n",
      "[I 2024-08-08 16:28:56,926] Trial 47 finished with value: 0.9831323766003901 and parameters: {'max_iter': 200, 'learning_rate': 0.23330952601194213, 'max_depth': 8, 'min_samples_leaf': 19, 'l2_regularization': 0.8372599710578272}. Best is trial 43 with value: 0.9835974198764766.\n",
      "[I 2024-08-08 16:29:11,474] Trial 48 finished with value: 0.9831529645003189 and parameters: {'max_iter': 193, 'learning_rate': 0.24340895297589557, 'max_depth': 9, 'min_samples_leaf': 12, 'l2_regularization': 0.36139462265852673}. Best is trial 43 with value: 0.9835974198764766.\n",
      "[I 2024-08-08 16:29:25,833] Trial 49 finished with value: 0.9826094059275335 and parameters: {'max_iter': 179, 'learning_rate': 0.21874459755986414, 'max_depth': 6, 'min_samples_leaf': 18, 'l2_regularization': 0.4487825225057256}. Best is trial 43 with value: 0.9835974198764766.\n",
      "[I 2024-08-08 16:29:38,019] Trial 50 finished with value: 0.9832124661727479 and parameters: {'max_iter': 135, 'learning_rate': 0.27581680776450035, 'max_depth': 7, 'min_samples_leaf': 13, 'l2_regularization': 0.7964993042621012}. Best is trial 43 with value: 0.9835974198764766.\n",
      "[I 2024-08-08 16:29:50,168] Trial 51 finished with value: 0.9831539840287812 and parameters: {'max_iter': 190, 'learning_rate': 0.249001979746511, 'max_depth': 9, 'min_samples_leaf': 22, 'l2_regularization': 0.5778025227687045}. Best is trial 43 with value: 0.9835974198764766.\n",
      "[I 2024-08-08 16:30:05,748] Trial 52 finished with value: 0.9649615222892006 and parameters: {'max_iter': 195, 'learning_rate': 0.029668908659029603, 'max_depth': 8, 'min_samples_leaf': 30, 'l2_regularization': 0.6266248793027822}. Best is trial 43 with value: 0.9835974198764766.\n",
      "[I 2024-08-08 16:30:19,658] Trial 53 finished with value: 0.9835774944992559 and parameters: {'max_iter': 182, 'learning_rate': 0.23507887322994173, 'max_depth': 10, 'min_samples_leaf': 38, 'l2_regularization': 0.6835466527042628}. Best is trial 43 with value: 0.9835974198764766.\n",
      "[I 2024-08-08 16:30:33,541] Trial 54 finished with value: 0.983093185070255 and parameters: {'max_iter': 184, 'learning_rate': 0.23093566388307601, 'max_depth': 8, 'min_samples_leaf': 49, 'l2_regularization': 0.7309079408566481}. Best is trial 43 with value: 0.9835974198764766.\n",
      "[I 2024-08-08 16:30:44,559] Trial 55 finished with value: 0.9823878882408397 and parameters: {'max_iter': 125, 'learning_rate': 0.2060164752051371, 'max_depth': 10, 'min_samples_leaf': 39, 'l2_regularization': 0.6923952410300547}. Best is trial 43 with value: 0.9835974198764766.\n",
      "[I 2024-08-08 16:30:58,236] Trial 56 finished with value: 0.9832357771011964 and parameters: {'max_iter': 196, 'learning_rate': 0.1936648984635279, 'max_depth': 9, 'min_samples_leaf': 72, 'l2_regularization': 0.8999433771221155}. Best is trial 43 with value: 0.9835974198764766.\n",
      "[I 2024-08-08 16:31:09,919] Trial 57 finished with value: 0.9829515004565273 and parameters: {'max_iter': 180, 'learning_rate': 0.24014600806047823, 'max_depth': 7, 'min_samples_leaf': 63, 'l2_regularization': 0.9959033802298694}. Best is trial 43 with value: 0.9835974198764766.\n",
      "[I 2024-08-08 16:31:22,020] Trial 58 finished with value: 0.9833358619001663 and parameters: {'max_iter': 187, 'learning_rate': 0.21943670173060711, 'max_depth': 12, 'min_samples_leaf': 36, 'l2_regularization': 0.6582390197984755}. Best is trial 43 with value: 0.9835974198764766.\n",
      "[I 2024-08-08 16:31:33,594] Trial 59 finished with value: 0.982469163057933 and parameters: {'max_iter': 176, 'learning_rate': 0.17884578511129745, 'max_depth': 6, 'min_samples_leaf': 52, 'l2_regularization': 0.10807180710639425}. Best is trial 43 with value: 0.9835974198764766.\n",
      "[I 2024-08-08 16:31:45,139] Trial 60 finished with value: 0.9824091030590155 and parameters: {'max_iter': 146, 'learning_rate': 0.14722448545505656, 'max_depth': 11, 'min_samples_leaf': 16, 'l2_regularization': 0.5572491723600667}. Best is trial 43 with value: 0.9835974198764766.\n",
      "[I 2024-08-08 16:31:54,432] Trial 61 finished with value: 0.9832147859047276 and parameters: {'max_iter': 191, 'learning_rate': 0.28871651336606363, 'max_depth': 10, 'min_samples_leaf': 33, 'l2_regularization': 0.4867223338057323}. Best is trial 43 with value: 0.9835974198764766.\n",
      "[I 2024-08-08 16:32:07,650] Trial 62 finished with value: 0.9831124402239738 and parameters: {'max_iter': 197, 'learning_rate': 0.2510295253852785, 'max_depth': 10, 'min_samples_leaf': 20, 'l2_regularization': 0.563691633506463}. Best is trial 43 with value: 0.9835974198764766.\n",
      "[I 2024-08-08 16:32:20,801] Trial 63 finished with value: 0.9836975790032024 and parameters: {'max_iter': 191, 'learning_rate': 0.2644094326309775, 'max_depth': 11, 'min_samples_leaf': 43, 'l2_regularization': 0.6299921631456823}. Best is trial 63 with value: 0.9836975790032024.\n",
      "[I 2024-08-08 16:32:31,559] Trial 64 finished with value: 0.9831735620176338 and parameters: {'max_iter': 200, 'learning_rate': 0.27377931107172376, 'max_depth': 11, 'min_samples_leaf': 47, 'l2_regularization': 0.6974395182382567}. Best is trial 63 with value: 0.9836975790032024.\n",
      "[I 2024-08-08 16:32:43,295] Trial 65 finished with value: 0.9830524837515068 and parameters: {'max_iter': 190, 'learning_rate': 0.22575278850174177, 'max_depth': 11, 'min_samples_leaf': 42, 'l2_regularization': 0.637660792743482}. Best is trial 63 with value: 0.9836975790032024.\n",
      "[I 2024-08-08 16:32:52,089] Trial 66 finished with value: 0.9828314679496362 and parameters: {'max_iter': 100, 'learning_rate': 0.23879330296927836, 'max_depth': 12, 'min_samples_leaf': 43, 'l2_regularization': 0.280812356781843}. Best is trial 63 with value: 0.9836975790032024.\n",
      "[I 2024-08-08 16:33:05,274] Trial 67 finished with value: 0.9830937099092888 and parameters: {'max_iter': 187, 'learning_rate': 0.2569171493087439, 'max_depth': 12, 'min_samples_leaf': 38, 'l2_regularization': 0.7650036552937856}. Best is trial 63 with value: 0.9836975790032024.\n",
      "[I 2024-08-08 16:33:15,860] Trial 68 finished with value: 0.9827495339288961 and parameters: {'max_iter': 138, 'learning_rate': 0.27179139935295454, 'max_depth': 11, 'min_samples_leaf': 54, 'l2_regularization': 0.6040068949002501}. Best is trial 63 with value: 0.9836975790032024.\n",
      "[I 2024-08-08 16:33:28,607] Trial 69 finished with value: 0.983134068574435 and parameters: {'max_iter': 175, 'learning_rate': 0.19744931759579473, 'max_depth': 9, 'min_samples_leaf': 12, 'l2_regularization': 0.7161209660672914}. Best is trial 63 with value: 0.9836975790032024.\n",
      "[I 2024-08-08 16:33:41,457] Trial 70 finished with value: 0.9829527231914261 and parameters: {'max_iter': 194, 'learning_rate': 0.21230832262814467, 'max_depth': 10, 'min_samples_leaf': 49, 'l2_regularization': 0.8191980825012}. Best is trial 63 with value: 0.9836975790032024.\n",
      "[I 2024-08-08 16:33:51,001] Trial 71 finished with value: 0.9831939969833596 and parameters: {'max_iter': 181, 'learning_rate': 0.26516820873538754, 'max_depth': 11, 'min_samples_leaf': 45, 'l2_regularization': 0.4116773455370444}. Best is trial 63 with value: 0.9836975790032024.\n",
      "[I 2024-08-08 16:34:01,017] Trial 72 finished with value: 0.983173062077134 and parameters: {'max_iter': 185, 'learning_rate': 0.2870410554788838, 'max_depth': 10, 'min_samples_leaf': 29, 'l2_regularization': 0.6734267865395228}. Best is trial 63 with value: 0.9836975790032024.\n",
      "[I 2024-08-08 16:34:09,899] Trial 73 finished with value: 0.9807952053962319 and parameters: {'max_iter': 145, 'learning_rate': 0.24520398071681088, 'max_depth': 5, 'min_samples_leaf': 24, 'l2_regularization': 0.9467352793931744}. Best is trial 63 with value: 0.9836975790032024.\n",
      "[I 2024-08-08 16:34:23,003] Trial 74 finished with value: 0.983274545106256 and parameters: {'max_iter': 198, 'learning_rate': 0.2554984266991147, 'max_depth': 9, 'min_samples_leaf': 33, 'l2_regularization': 0.4508095255726937}. Best is trial 63 with value: 0.9836975790032024.\n",
      "[I 2024-08-08 16:34:32,840] Trial 75 finished with value: 0.9828915635789172 and parameters: {'max_iter': 152, 'learning_rate': 0.26288303751795866, 'max_depth': 10, 'min_samples_leaf': 27, 'l2_regularization': 0.5888446556771468}. Best is trial 63 with value: 0.9836975790032024.\n",
      "[I 2024-08-08 16:34:43,158] Trial 76 finished with value: 0.9828922759832731 and parameters: {'max_iter': 192, 'learning_rate': 0.29981881348488776, 'max_depth': 12, 'min_samples_leaf': 16, 'l2_regularization': 0.1541360446708957}. Best is trial 63 with value: 0.9836975790032024.\n",
      "[I 2024-08-08 16:34:54,631] Trial 77 finished with value: 0.9832549686293618 and parameters: {'max_iter': 168, 'learning_rate': 0.2364898748479519, 'max_depth': 10, 'min_samples_leaf': 23, 'l2_regularization': 0.545037303783241}. Best is trial 63 with value: 0.9836975790032024.\n",
      "[I 2024-08-08 16:35:07,730] Trial 78 finished with value: 0.9835158783949589 and parameters: {'max_iter': 188, 'learning_rate': 0.2284313452894888, 'max_depth': 11, 'min_samples_leaf': 38, 'l2_regularization': 0.5041821361954959}. Best is trial 63 with value: 0.9836975790032024.\n",
      "[I 2024-08-08 16:35:18,924] Trial 79 finished with value: 0.983173227124496 and parameters: {'max_iter': 188, 'learning_rate': 0.22402928581720355, 'max_depth': 11, 'min_samples_leaf': 37, 'l2_regularization': 0.06251740245834497}. Best is trial 63 with value: 0.9836975790032024.\n",
      "[I 2024-08-08 16:35:29,024] Trial 80 finished with value: 0.9830920164197805 and parameters: {'max_iter': 125, 'learning_rate': 0.21378770318423912, 'max_depth': 12, 'min_samples_leaf': 60, 'l2_regularization': 0.5004554451629134}. Best is trial 63 with value: 0.9836975790032024.\n",
      "[I 2024-08-08 16:35:40,911] Trial 81 finished with value: 0.9829314054853796 and parameters: {'max_iter': 183, 'learning_rate': 0.22990804065581819, 'max_depth': 11, 'min_samples_leaf': 41, 'l2_regularization': 0.6382825088457963}. Best is trial 63 with value: 0.9836975790032024.\n",
      "[I 2024-08-08 16:35:51,192] Trial 82 finished with value: 0.9827291034303299 and parameters: {'max_iter': 195, 'learning_rate': 0.279595848580806, 'max_depth': 10, 'min_samples_leaf': 34, 'l2_regularization': 0.5061924920457793}. Best is trial 63 with value: 0.9836975790032024.\n",
      "[I 2024-08-08 16:36:01,729] Trial 83 finished with value: 0.9829728125119837 and parameters: {'max_iter': 191, 'learning_rate': 0.2422845718027663, 'max_depth': 9, 'min_samples_leaf': 45, 'l2_regularization': 0.4216706367095712}. Best is trial 63 with value: 0.9836975790032024.\n",
      "[I 2024-08-08 16:36:12,782] Trial 84 finished with value: 0.9832532971973456 and parameters: {'max_iter': 200, 'learning_rate': 0.2486922877047847, 'max_depth': 11, 'min_samples_leaf': 47, 'l2_regularization': 0.39075755747009}. Best is trial 63 with value: 0.9836975790032024.\n",
      "[I 2024-08-08 16:36:23,225] Trial 85 finished with value: 0.9829721077130047 and parameters: {'max_iter': 179, 'learning_rate': 0.2603029238983559, 'max_depth': 11, 'min_samples_leaf': 19, 'l2_regularization': 0.6043899841802143}. Best is trial 63 with value: 0.9836975790032024.\n",
      "[I 2024-08-08 16:36:32,881] Trial 86 finished with value: 0.9828495340071847 and parameters: {'max_iter': 186, 'learning_rate': 0.27081266512890423, 'max_depth': 10, 'min_samples_leaf': 40, 'l2_regularization': 0.4791951818692086}. Best is trial 63 with value: 0.9836975790032024.\n",
      "[I 2024-08-08 16:36:44,059] Trial 87 finished with value: 0.9828493757413853 and parameters: {'max_iter': 197, 'learning_rate': 0.2355407352732888, 'max_depth': 8, 'min_samples_leaf': 67, 'l2_regularization': 0.2209209826501649}. Best is trial 63 with value: 0.9836975790032024.\n",
      "[I 2024-08-08 16:36:55,697] Trial 88 finished with value: 0.9825486006481865 and parameters: {'max_iter': 192, 'learning_rate': 0.250444978217593, 'max_depth': 7, 'min_samples_leaf': 11, 'l2_regularization': 0.5665626234811774}. Best is trial 63 with value: 0.9836975790032024.\n",
      "[I 2024-08-08 16:37:07,159] Trial 89 finished with value: 0.9827697980351197 and parameters: {'max_iter': 173, 'learning_rate': 0.22409558716128372, 'max_depth': 9, 'min_samples_leaf': 43, 'l2_regularization': 0.33287846709299673}. Best is trial 63 with value: 0.9836975790032024.\n",
      "[I 2024-08-08 16:37:16,917] Trial 90 finished with value: 0.982971764907422 and parameters: {'max_iter': 158, 'learning_rate': 0.2675178566762853, 'max_depth': 12, 'min_samples_leaf': 76, 'l2_regularization': 0.2884954400997845}. Best is trial 63 with value: 0.9836975790032024.\n",
      "[I 2024-08-08 16:37:29,142] Trial 91 finished with value: 0.9833351689454571 and parameters: {'max_iter': 189, 'learning_rate': 0.22187304395384572, 'max_depth': 12, 'min_samples_leaf': 36, 'l2_regularization': 0.8675103275293325}. Best is trial 63 with value: 0.9836975790032024.\n",
      "[I 2024-08-08 16:37:39,575] Trial 92 finished with value: 0.9827308425318504 and parameters: {'max_iter': 187, 'learning_rate': 0.2053699655785004, 'max_depth': 12, 'min_samples_leaf': 35, 'l2_regularization': 0.6621224177429552}. Best is trial 63 with value: 0.9836975790032024.\n",
      "[I 2024-08-08 16:37:52,103] Trial 93 finished with value: 0.9835763385870963 and parameters: {'max_iter': 194, 'learning_rate': 0.23087746842115647, 'max_depth': 12, 'min_samples_leaf': 32, 'l2_regularization': 0.6435947742603799}. Best is trial 63 with value: 0.9836975790032024.\n",
      "[I 2024-08-08 16:38:03,263] Trial 94 finished with value: 0.9830926746240968 and parameters: {'max_iter': 193, 'learning_rate': 0.23111815258726695, 'max_depth': 10, 'min_samples_leaf': 31, 'l2_regularization': 0.7126361994311223}. Best is trial 63 with value: 0.9836975790032024.\n",
      "[I 2024-08-08 16:38:13,113] Trial 95 finished with value: 0.9829538336042122 and parameters: {'max_iter': 182, 'learning_rate': 0.2539872267129093, 'max_depth': 11, 'min_samples_leaf': 28, 'l2_regularization': 0.6235989915733452}. Best is trial 63 with value: 0.9836975790032024.\n",
      "[I 2024-08-08 16:38:23,993] Trial 96 finished with value: 0.9831134510656403 and parameters: {'max_iter': 196, 'learning_rate': 0.24381192809718075, 'max_depth': 12, 'min_samples_leaf': 25, 'l2_regularization': 0.7465361648003194}. Best is trial 63 with value: 0.9836975790032024.\n",
      "[I 2024-08-08 16:38:38,363] Trial 97 finished with value: 0.9824713329760786 and parameters: {'max_iter': 199, 'learning_rate': 0.11072478124297006, 'max_depth': 11, 'min_samples_leaf': 32, 'l2_regularization': 0.5340535092597593}. Best is trial 63 with value: 0.9836975790032024.\n",
      "[I 2024-08-08 16:38:50,244] Trial 98 finished with value: 0.9830528259511716 and parameters: {'max_iter': 177, 'learning_rate': 0.1881158414627808, 'max_depth': 10, 'min_samples_leaf': 15, 'l2_regularization': 0.6879158014334712}. Best is trial 63 with value: 0.9836975790032024.\n",
      "[I 2024-08-08 16:38:56,956] Trial 99 finished with value: 0.9602208291361064 and parameters: {'max_iter': 80, 'learning_rate': 0.058130834147370344, 'max_depth': 8, 'min_samples_leaf': 38, 'l2_regularization': 0.5909912366757767}. Best is trial 63 with value: 0.9836975790032024.\n"
     ]
    },
    {
     "name": "stdout",
     "output_type": "stream",
     "text": [
      "Best params: {'max_iter': 191, 'learning_rate': 0.2644094326309775, 'max_depth': 11, 'min_samples_leaf': 43, 'l2_regularization': 0.6299921631456823}\n",
      "Best value: 0.9836975790032024\n"
     ]
    }
   ],
   "source": [
    "X_train, X_test, y_train, y_test = train_test_split(X_sel.toarray(), y_trans, test_size=0.2, random_state=42)\n",
    "\n",
    "def objective(trial):\n",
    "    # Hyperparameters to tune\n",
    "    params = {\n",
    "        'max_iter': trial.suggest_int('max_iter', 80, 200),\n",
    "        'learning_rate': trial.suggest_float('learning_rate', 0.01, 0.3),\n",
    "        'max_depth': trial.suggest_int('max_depth', 4, 12),\n",
    "        'min_samples_leaf': trial.suggest_int('min_samples_leaf', 10, 80),\n",
    "        'l2_regularization': trial.suggest_float('l2_regularization', 1e-8, 1),\n",
    "        'verbose': 0  # Set verbose to 0 to prevent printing output during training\n",
    "    }\n",
    "\n",
    "    model = HistGradientBoostingClassifier(**params)\n",
    "    model.fit(X_train, y_train)\n",
    "\n",
    "    y_pred = model.predict(X_test)\n",
    "    error = matthews_corrcoef(y_test, y_pred)\n",
    "    return error\n",
    "\n",
    "study = optuna.create_study(direction='maximize')\n",
    "study.optimize(objective, n_trials=100)  \n",
    "\n",
    "print(f'Best params: {study.best_params}')\n",
    "print(f'Best value: {study.best_value}')"
   ]
  },
  {
   "cell_type": "code",
   "execution_count": 26,
   "metadata": {},
   "outputs": [
    {
     "data": {
      "text/plain": [
       "{'max_iter': 191,\n",
       " 'learning_rate': 0.2644094326309775,\n",
       " 'max_depth': 11,\n",
       " 'min_samples_leaf': 43,\n",
       " 'l2_regularization': 0.6299921631456823}"
      ]
     },
     "execution_count": 26,
     "metadata": {},
     "output_type": "execute_result"
    }
   ],
   "source": [
    "study.best_params"
   ]
  },
  {
   "cell_type": "code",
   "execution_count": 27,
   "metadata": {},
   "outputs": [],
   "source": [
    "hist_params = {'max_iter': 191,\n",
    " 'learning_rate': 0.2644094326309775,\n",
    " 'max_depth': 11,\n",
    " 'min_samples_leaf': 43,\n",
    " 'l2_regularization': 0.6299921631456823}"
   ]
  },
  {
   "cell_type": "markdown",
   "metadata": {},
   "source": [
    "### Stacking with Logistic Regression"
   ]
  },
  {
   "cell_type": "code",
   "execution_count": 21,
   "metadata": {},
   "outputs": [],
   "source": [
    "from sklearn.linear_model import LogisticRegression"
   ]
  },
  {
   "cell_type": "code",
   "execution_count": 36,
   "metadata": {},
   "outputs": [
    {
     "name": "stdout",
     "output_type": "stream",
     "text": [
      "Fold 0\n"
     ]
    }
   ],
   "source": [
    "oof_preds = {}\n",
    "\n",
    "def get_oof_predictions(X, y, model):\n",
    "    kf = KFold(n_splits=5)\n",
    "    \n",
    "    for i, (train_index, test_index) in enumerate(kf.split(X)):\n",
    "        X_train = X[train_index]\n",
    "        y_train = y[train_index]\n",
    "        X_test = X[test_index]\n",
    "        y_test = y[test_index]\n",
    "\n",
    "        print(f'Fold {i}')\n",
    "        \n",
    "        model.fit(X_train, y_train)\n",
    "        oof_preds = model.predict(X_test)\n",
    "\n",
    "        break\n",
    "    \n",
    "    return oof_preds\n",
    "\n",
    "params = {'max_iter': 191,\n",
    " 'learning_rate': 0.2644094326309775,\n",
    " 'max_depth': 11,\n",
    " 'min_samples_leaf': 43,\n",
    " 'l2_regularization': 0.6299921631456823}\n",
    "\n",
    "model = HistGradientBoostingClassifier(**params)\n",
    "\n",
    "oof_preds['hist'] = get_oof_predictions(X_sel.toarray(), y_trans, model)"
   ]
  },
  {
   "cell_type": "code",
   "execution_count": 37,
   "metadata": {},
   "outputs": [
    {
     "data": {
      "text/plain": [
       "{'hist': array([0, 1, 0, ..., 1, 0, 1])}"
      ]
     },
     "execution_count": 37,
     "metadata": {},
     "output_type": "execute_result"
    }
   ],
   "source": [
    "oof_preds"
   ]
  }
 ],
 "metadata": {
  "kernelspec": {
   "display_name": "Python 3",
   "language": "python",
   "name": "python3"
  },
  "language_info": {
   "codemirror_mode": {
    "name": "ipython",
    "version": 3
   },
   "file_extension": ".py",
   "mimetype": "text/x-python",
   "name": "python",
   "nbconvert_exporter": "python",
   "pygments_lexer": "ipython3",
   "version": "3.10.12"
  }
 },
 "nbformat": 4,
 "nbformat_minor": 2
}
